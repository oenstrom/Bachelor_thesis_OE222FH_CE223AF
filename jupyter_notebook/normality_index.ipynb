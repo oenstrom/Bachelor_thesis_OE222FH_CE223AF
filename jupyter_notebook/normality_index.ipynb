{
 "cells": [
  {
   "attachments": {},
   "cell_type": "markdown",
   "metadata": {},
   "source": [
    "# Normality index"
   ]
  },
  {
   "attachments": {},
   "cell_type": "markdown",
   "metadata": {},
   "source": [
    "## Connect to the database"
   ]
  },
  {
   "cell_type": "code",
   "execution_count": null,
   "metadata": {},
   "outputs": [],
   "source": [
    "from databaseconnection import DatabaseConnection\n",
    "gds = DatabaseConnection().get_database_connection()\n",
    "gds.version()"
   ]
  },
  {
   "attachments": {},
   "cell_type": "markdown",
   "metadata": {},
   "source": [
    "## Create a normality index.\n",
    "\n",
    "Create a normality index for each respondent in the data set. The normality index is calculated with the following formula:\n",
    "\n",
    "$$\n",
    "\\frac{1}{n}\\sum_{i=1}^{n}{p_i}\n",
    "$$\n",
    "\n",
    "Where $n$ is the number of questions answered by the respondent and $p_i$ is the percentage of respondents that have chosen the alternative for question $i$."
   ]
  },
  {
   "cell_type": "code",
   "execution_count": null,
   "metadata": {},
   "outputs": [],
   "source": [
    "gds.run_cypher(\"\"\"\n",
    "                MATCH (re:Respondent)-[:HAS_ANSWERED]->(a:Answer)-[:CHOSE]->(qa:QuestionAlternative)<-[:CONSISTS_OF]-(q:Question)\n",
    "                WITH re, q, qa, COUNT(a) as answersForAlternative\n",
    "                MATCH (q)-[:CONSISTS_OF]->(qa_total:QuestionAlternative)\n",
    "                WITH re, q, qa, answersForAlternative, COUNT(qa_total) as totalAlternatives\n",
    "                WITH re, q, toFloat(answersForAlternative) / toFloat(totalAlternatives) as p_i\n",
    "                WITH re, COUNT(q) as totalQuestions, SUM(p_i) as sum_p_i\n",
    "                SET re.normalityIndex = sum_p_i / totalQuestions\n",
    "                RETURN re.id as respondentId, re.normalityIndex as normalityIndex\n",
    "               \"\"\")"
   ]
  }
 ],
 "metadata": {
  "language_info": {
   "name": "python"
  },
  "orig_nbformat": 4
 },
 "nbformat": 4,
 "nbformat_minor": 2
}
