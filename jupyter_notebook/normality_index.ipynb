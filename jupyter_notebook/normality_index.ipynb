{
 "cells": [
  {
   "attachments": {},
   "cell_type": "markdown",
   "metadata": {},
   "source": [
    "# Normality index"
   ]
  },
  {
   "attachments": {},
   "cell_type": "markdown",
   "metadata": {},
   "source": [
    "## Connect to the database"
   ]
  },
  {
   "cell_type": "code",
   "execution_count": null,
   "metadata": {},
   "outputs": [],
   "source": [
    "from databaseconnection import DatabaseConnection\n",
    "gds = DatabaseConnection().get_database_connection()\n",
    "gds.version()"
   ]
  },
  {
   "attachments": {},
   "cell_type": "markdown",
   "metadata": {},
   "source": [
    "## Create relationship between `QuestionAlternative` and `Respondent`\n",
    "\n",
    "Create relationship from `QuestionAlternative` to respondent called `CHOSEN_BY` if the there already is a relationship between the two nodes called `CHOSE`. \n",
    "\n",
    "The relationship `CHOSEN_BY` will have a property called `score` which is the same as the property `nrOfRespondents` on the node `QuestionAlternative`.\n"
   ]
  },
  {
   "cell_type": "code",
   "execution_count": null,
   "metadata": {},
   "outputs": [],
   "source": [
    "gds.run_cypher(\"\"\"\n",
    "                MATCH (q:QuestionAlternative)<-[c:CHOSE]-(r:Respondent)\n",
    "                MERGE (q)-[cb:CHOSEN_BY]->(r)\n",
    "                SET cb.score = q.nrOfRespondents\n",
    "               \"\"\")"
   ]
  },
  {
   "attachments": {},
   "cell_type": "markdown",
   "metadata": {},
   "source": [
    "## Create a relation between `Respondent` and `Survey`\n",
    "\n",
    "Create a relationship from `Respondent` to `Survey` called `HAS_PARTICIPATED` if the respondent has answered at least one question in the survey."
   ]
  },
  {
   "cell_type": "code",
   "execution_count": null,
   "metadata": {},
   "outputs": [],
   "source": [
    "gds.run_cypher(\"\"\"\n",
    "                MATCH (su:Survey)-[:HAS_QUESTION]->(qu:Question)-[:CONSISTS_OF]->(qa:QuestionAlternative)<-[:CHOSE]-(re:Respondent)\n",
    "                MERGE (re)-[:HAS_PARTICIPATED]->(su);\n",
    "               \"\"\")"
   ]
  },
  {
   "attachments": {},
   "cell_type": "markdown",
   "metadata": {},
   "source": [
    "## Create property in `QuestionAlternative` called `percentageOfRespondents`\n",
    "\n",
    "Create a property in `QuestionAlternative` called `percentageOfRespondents` which is the percentage of respondents that have chosen the alternative based on how many in total that participated in the survey."
   ]
  },
  {
   "cell_type": "code",
   "execution_count": null,
   "metadata": {},
   "outputs": [],
   "source": [
    "gds.run_cypher(\"\"\"\n",
    "                MATCH (su:Survey)-[:HAS_QUESTION]->(qu:Question)-[:CONSISTS_OF]->(qa:QuestionAlternative)\n",
    "                WITH su, qa, qa.nrOfRespondents as nrOfRespondents\n",
    "                SET qa.percentageOfRespondents = nrOfRespondents * 1.0 / su.totalParticipants\n",
    "                RETURN qa.name as questionAlternativeName, qa.percentageOfRespondents as percentageOfRespondents, su.name as surveyName;\n",
    "                \"\"\")"
   ]
  },
  {
   "attachments": {},
   "cell_type": "markdown",
   "metadata": {},
   "source": [
    "## Create a normality index.\n",
    "\n",
    "Create a normality index for each respondent in the data set. The normality index is calculated by the following formula:\n",
    "\n",
    "$$\n",
    "\\frac{\\sum_{i=1}^{n} \\frac{1}{\\text{nrOfAlternatives}_i} \\cdot \\text{score}_i}{\\text{nrOfQuestions}}\n",
    "$$\n",
    "\n",
    "where $n$ is the number of questions in the survey, $\\text{nrOfAlternatives}_i$ is the number of alternatives in question $i$, $\\text{score}_i$ is the score of the chosen alternative in question $i$ and $\\text{nrOfQuestions}$ is the number of questions in the survey."
   ]
  },
  {
   "cell_type": "code",
   "execution_count": null,
   "metadata": {},
   "outputs": [],
   "source": [
    "gds.run_cypher(\"\"\"\n",
    "                MATCH (re:Respondent)-[:CHOSE]->(qa:QuestionAlternative)\n",
    "                WITH re, AVG(qa.percentageOfRespondents) as normalityIndex\n",
    "                SET re.normalityIndex = normalityIndex\n",
    "                RETURN re.id as respondentId, re.normalityIndex as normalityIndex\n",
    "                ORDER BY normalityIndex;\n",
    "               \"\"\")"
   ]
  }
 ],
 "metadata": {
  "language_info": {
   "name": "python"
  },
  "orig_nbformat": 4
 },
 "nbformat": 4,
 "nbformat_minor": 2
}
