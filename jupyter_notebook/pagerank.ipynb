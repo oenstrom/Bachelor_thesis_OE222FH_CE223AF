{
 "cells": [
  {
   "attachments": {},
   "cell_type": "markdown",
   "metadata": {},
   "source": [
    "# PageRank"
   ]
  },
  {
   "cell_type": "code",
   "execution_count": 76,
   "metadata": {},
   "outputs": [
    {
     "data": {
      "text/plain": [
       "'2.3.2'"
      ]
     },
     "execution_count": 76,
     "metadata": {},
     "output_type": "execute_result"
    }
   ],
   "source": [
    "from databaseconnection import DatabaseConnection\n",
    "gds = DatabaseConnection().get_database_connection()\n",
    "gds.version()"
   ]
  },
  {
   "cell_type": "code",
   "execution_count": 3,
   "metadata": {},
   "outputs": [
    {
     "ename": "ClientError",
     "evalue": "{code: Neo.ClientError.Procedure.ProcedureCallFailed} {message: Failed to invoke procedure `gds.graph.project`: Caused by: java.lang.IllegalArgumentException: A graph with name 'popularQuestionAlternatives' already exists.}",
     "output_type": "error",
     "traceback": [
      "\u001b[0;31m---------------------------------------------------------------------------\u001b[0m",
      "\u001b[0;31mClientError\u001b[0m                               Traceback (most recent call last)",
      "\u001b[1;32m/home/work/Degree_project_FRIENDS/jupyter_notebook/pagerank.ipynb Cell 3\u001b[0m in \u001b[0;36m<cell line: 1>\u001b[0;34m()\u001b[0m\n\u001b[0;32m----> <a href='vscode-notebook-cell://wsl%2Bubuntu/home/work/Degree_project_FRIENDS/jupyter_notebook/pagerank.ipynb#W2sdnNjb2RlLXJlbW90ZQ%3D%3D?line=0'>1</a>\u001b[0m gds\u001b[39m.\u001b[39;49mrun_cypher(\u001b[39m\"\"\"\u001b[39;49m\n\u001b[1;32m      <a href='vscode-notebook-cell://wsl%2Bubuntu/home/work/Degree_project_FRIENDS/jupyter_notebook/pagerank.ipynb#W2sdnNjb2RlLXJlbW90ZQ%3D%3D?line=1'>2</a>\u001b[0m \u001b[39m               CALL gds.graph.project(\u001b[39;49m\n\u001b[1;32m      <a href='vscode-notebook-cell://wsl%2Bubuntu/home/work/Degree_project_FRIENDS/jupyter_notebook/pagerank.ipynb#W2sdnNjb2RlLXJlbW90ZQ%3D%3D?line=2'>3</a>\u001b[0m \u001b[39m                   \u001b[39;49m\u001b[39m'\u001b[39;49m\u001b[39mpopularQuestionAlternatives\u001b[39;49m\u001b[39m'\u001b[39;49m\u001b[39m,\u001b[39;49m\n\u001b[1;32m      <a href='vscode-notebook-cell://wsl%2Bubuntu/home/work/Degree_project_FRIENDS/jupyter_notebook/pagerank.ipynb#W2sdnNjb2RlLXJlbW90ZQ%3D%3D?line=3'>4</a>\u001b[0m \u001b[39m                   [\u001b[39;49m\u001b[39m'\u001b[39;49m\u001b[39mQuestionAlternative\u001b[39;49m\u001b[39m'\u001b[39;49m\u001b[39m, \u001b[39;49m\u001b[39m'\u001b[39;49m\u001b[39mRespondent\u001b[39;49m\u001b[39m'\u001b[39;49m\u001b[39m],\u001b[39;49m\n\u001b[1;32m      <a href='vscode-notebook-cell://wsl%2Bubuntu/home/work/Degree_project_FRIENDS/jupyter_notebook/pagerank.ipynb#W2sdnNjb2RlLXJlbW90ZQ%3D%3D?line=4'>5</a>\u001b[0m \u001b[39m                   \u001b[39;49m\u001b[39m{\u001b[39;49m\n\u001b[1;32m      <a href='vscode-notebook-cell://wsl%2Bubuntu/home/work/Degree_project_FRIENDS/jupyter_notebook/pagerank.ipynb#W2sdnNjb2RlLXJlbW90ZQ%3D%3D?line=5'>6</a>\u001b[0m \u001b[39m                        CHOSE: \u001b[39;49m\u001b[39m{\u001b[39;49m\n\u001b[1;32m      <a href='vscode-notebook-cell://wsl%2Bubuntu/home/work/Degree_project_FRIENDS/jupyter_notebook/pagerank.ipynb#W2sdnNjb2RlLXJlbW90ZQ%3D%3D?line=6'>7</a>\u001b[0m \u001b[39m                            orientation: \u001b[39;49m\u001b[39m'\u001b[39;49m\u001b[39mREVERSE\u001b[39;49m\u001b[39m'\u001b[39;49m\n\u001b[1;32m      <a href='vscode-notebook-cell://wsl%2Bubuntu/home/work/Degree_project_FRIENDS/jupyter_notebook/pagerank.ipynb#W2sdnNjb2RlLXJlbW90ZQ%3D%3D?line=7'>8</a>\u001b[0m \u001b[39m                        }\u001b[39;49m\n\u001b[1;32m      <a href='vscode-notebook-cell://wsl%2Bubuntu/home/work/Degree_project_FRIENDS/jupyter_notebook/pagerank.ipynb#W2sdnNjb2RlLXJlbW90ZQ%3D%3D?line=8'>9</a>\u001b[0m \u001b[39m                   }\u001b[39;49m\n\u001b[1;32m     <a href='vscode-notebook-cell://wsl%2Bubuntu/home/work/Degree_project_FRIENDS/jupyter_notebook/pagerank.ipynb#W2sdnNjb2RlLXJlbW90ZQ%3D%3D?line=9'>10</a>\u001b[0m \u001b[39m               )\u001b[39;49m\n\u001b[1;32m     <a href='vscode-notebook-cell://wsl%2Bubuntu/home/work/Degree_project_FRIENDS/jupyter_notebook/pagerank.ipynb#W2sdnNjb2RlLXJlbW90ZQ%3D%3D?line=10'>11</a>\u001b[0m \u001b[39m               \u001b[39;49m\u001b[39m\"\"\"\u001b[39;49m)\n",
      "File \u001b[0;32m~/.local/lib/python3.8/site-packages/graphdatascience/graph_data_science.py:146\u001b[0m, in \u001b[0;36mGraphDataScience.run_cypher\u001b[0;34m(self, query, params, database)\u001b[0m\n\u001b[1;32m    143\u001b[0m \u001b[39mif\u001b[39;00m \u001b[39misinstance\u001b[39m(\u001b[39mself\u001b[39m\u001b[39m.\u001b[39m_query_runner, ArrowQueryRunner):\n\u001b[1;32m    144\u001b[0m     qr \u001b[39m=\u001b[39m \u001b[39mself\u001b[39m\u001b[39m.\u001b[39m_query_runner\u001b[39m.\u001b[39mfallback_query_runner()\n\u001b[0;32m--> 146\u001b[0m \u001b[39mreturn\u001b[39;00m qr\u001b[39m.\u001b[39;49mrun_query(query, params, database)\n",
      "File \u001b[0;32m~/.local/lib/python3.8/site-packages/graphdatascience/query_runner/neo4j_query_runner.py:62\u001b[0m, in \u001b[0;36mNeo4jQueryRunner.run_query\u001b[0;34m(self, query, params, database)\u001b[0m\n\u001b[1;32m     55\u001b[0m \u001b[39m# Though pandas support may be experimental in the `neo4j` package, it should always\u001b[39;00m\n\u001b[1;32m     56\u001b[0m \u001b[39m# be supported in the `graphdatascience` package.\u001b[39;00m\n\u001b[1;32m     57\u001b[0m warnings\u001b[39m.\u001b[39mfilterwarnings(\n\u001b[1;32m     58\u001b[0m     \u001b[39m\"\u001b[39m\u001b[39mignore\u001b[39m\u001b[39m\"\u001b[39m,\n\u001b[1;32m     59\u001b[0m     message\u001b[39m=\u001b[39m\u001b[39mr\u001b[39m\u001b[39m\"\u001b[39m\u001b[39m^pandas support is experimental and might be changed or removed in future versions$\u001b[39m\u001b[39m\"\u001b[39m,\n\u001b[1;32m     60\u001b[0m )\n\u001b[0;32m---> 62\u001b[0m \u001b[39mreturn\u001b[39;00m result\u001b[39m.\u001b[39;49mto_df()\n",
      "File \u001b[0;32m~/.local/lib/python3.8/site-packages/neo4j/_sync/work/result.py:733\u001b[0m, in \u001b[0;36mResult.to_df\u001b[0;34m(self, expand, parse_dates)\u001b[0m\n\u001b[1;32m    730\u001b[0m \u001b[39mimport\u001b[39;00m \u001b[39mpandas\u001b[39;00m \u001b[39mas\u001b[39;00m \u001b[39mpd\u001b[39;00m  \u001b[39m# type: ignore[import]\u001b[39;00m\n\u001b[1;32m    732\u001b[0m \u001b[39mif\u001b[39;00m \u001b[39mnot\u001b[39;00m expand:\n\u001b[0;32m--> 733\u001b[0m     df \u001b[39m=\u001b[39m pd\u001b[39m.\u001b[39mDataFrame(\u001b[39mself\u001b[39;49m\u001b[39m.\u001b[39;49mvalues(), columns\u001b[39m=\u001b[39m\u001b[39mself\u001b[39m\u001b[39m.\u001b[39m_keys)\n\u001b[1;32m    734\u001b[0m \u001b[39melse\u001b[39;00m:\n\u001b[1;32m    735\u001b[0m     df_keys \u001b[39m=\u001b[39m \u001b[39mNone\u001b[39;00m\n",
      "File \u001b[0;32m~/.local/lib/python3.8/site-packages/neo4j/_sync/work/result.py:583\u001b[0m, in \u001b[0;36mResult.values\u001b[0;34m(self, *keys)\u001b[0m\n\u001b[1;32m    565\u001b[0m \u001b[39mdef\u001b[39;00m \u001b[39mvalues\u001b[39m(\n\u001b[1;32m    566\u001b[0m     \u001b[39mself\u001b[39m, \u001b[39m*\u001b[39mkeys: _TResultKey\n\u001b[1;32m    567\u001b[0m ) \u001b[39m-\u001b[39m\u001b[39m>\u001b[39m t\u001b[39m.\u001b[39mList[t\u001b[39m.\u001b[39mList[t\u001b[39m.\u001b[39mAny]]:\n\u001b[1;32m    568\u001b[0m     \u001b[39m\"\"\"Return the remainder of the result as a list of values lists.\u001b[39;00m\n\u001b[1;32m    569\u001b[0m \n\u001b[1;32m    570\u001b[0m \u001b[39m    :param keys: fields to return for each remaining record. Optionally filtering to include only certain values by index or key.\u001b[39;00m\n\u001b[0;32m   (...)\u001b[0m\n\u001b[1;32m    581\u001b[0m \u001b[39m    .. seealso:: :meth:`.Record.values`\u001b[39;00m\n\u001b[1;32m    582\u001b[0m \u001b[39m    \"\"\"\u001b[39;00m\n\u001b[0;32m--> 583\u001b[0m     \u001b[39mreturn\u001b[39;00m [record\u001b[39m.\u001b[39mvalues(\u001b[39m*\u001b[39mkeys) \u001b[39mfor\u001b[39;00m record \u001b[39min\u001b[39;00m \u001b[39mself\u001b[39m]\n",
      "File \u001b[0;32m~/.local/lib/python3.8/site-packages/neo4j/_sync/work/result.py:583\u001b[0m, in \u001b[0;36m<listcomp>\u001b[0;34m(.0)\u001b[0m\n\u001b[1;32m    565\u001b[0m \u001b[39mdef\u001b[39;00m \u001b[39mvalues\u001b[39m(\n\u001b[1;32m    566\u001b[0m     \u001b[39mself\u001b[39m, \u001b[39m*\u001b[39mkeys: _TResultKey\n\u001b[1;32m    567\u001b[0m ) \u001b[39m-\u001b[39m\u001b[39m>\u001b[39m t\u001b[39m.\u001b[39mList[t\u001b[39m.\u001b[39mList[t\u001b[39m.\u001b[39mAny]]:\n\u001b[1;32m    568\u001b[0m     \u001b[39m\"\"\"Return the remainder of the result as a list of values lists.\u001b[39;00m\n\u001b[1;32m    569\u001b[0m \n\u001b[1;32m    570\u001b[0m \u001b[39m    :param keys: fields to return for each remaining record. Optionally filtering to include only certain values by index or key.\u001b[39;00m\n\u001b[0;32m   (...)\u001b[0m\n\u001b[1;32m    581\u001b[0m \u001b[39m    .. seealso:: :meth:`.Record.values`\u001b[39;00m\n\u001b[1;32m    582\u001b[0m \u001b[39m    \"\"\"\u001b[39;00m\n\u001b[0;32m--> 583\u001b[0m     \u001b[39mreturn\u001b[39;00m [record\u001b[39m.\u001b[39mvalues(\u001b[39m*\u001b[39mkeys) \u001b[39mfor\u001b[39;00m record \u001b[39min\u001b[39;00m \u001b[39mself\u001b[39m]\n",
      "File \u001b[0;32m~/.local/lib/python3.8/site-packages/neo4j/_sync/work/result.py:255\u001b[0m, in \u001b[0;36mResult.__iter__\u001b[0;34m(self)\u001b[0m\n\u001b[1;32m    253\u001b[0m     \u001b[39myield\u001b[39;00m \u001b[39mself\u001b[39m\u001b[39m.\u001b[39m_record_buffer\u001b[39m.\u001b[39mpopleft()\n\u001b[1;32m    254\u001b[0m \u001b[39melif\u001b[39;00m \u001b[39mself\u001b[39m\u001b[39m.\u001b[39m_streaming:\n\u001b[0;32m--> 255\u001b[0m     \u001b[39mself\u001b[39;49m\u001b[39m.\u001b[39;49m_connection\u001b[39m.\u001b[39;49mfetch_message()\n\u001b[1;32m    256\u001b[0m \u001b[39melif\u001b[39;00m \u001b[39mself\u001b[39m\u001b[39m.\u001b[39m_discarding:\n\u001b[1;32m    257\u001b[0m     \u001b[39mself\u001b[39m\u001b[39m.\u001b[39m_discard()\n",
      "File \u001b[0;32m~/.local/lib/python3.8/site-packages/neo4j/_sync/io/_common.py:180\u001b[0m, in \u001b[0;36mConnectionErrorHandler.__getattr__.<locals>.outer.<locals>.inner\u001b[0;34m(*args, **kwargs)\u001b[0m\n\u001b[1;32m    178\u001b[0m \u001b[39mdef\u001b[39;00m \u001b[39minner\u001b[39m(\u001b[39m*\u001b[39margs, \u001b[39m*\u001b[39m\u001b[39m*\u001b[39mkwargs):\n\u001b[1;32m    179\u001b[0m     \u001b[39mtry\u001b[39;00m:\n\u001b[0;32m--> 180\u001b[0m         func(\u001b[39m*\u001b[39;49margs, \u001b[39m*\u001b[39;49m\u001b[39m*\u001b[39;49mkwargs)\n\u001b[1;32m    181\u001b[0m     \u001b[39mexcept\u001b[39;00m (Neo4jError, ServiceUnavailable, SessionExpired) \u001b[39mas\u001b[39;00m exc:\n\u001b[1;32m    182\u001b[0m         \u001b[39massert\u001b[39;00m \u001b[39mnot\u001b[39;00m asyncio\u001b[39m.\u001b[39miscoroutinefunction(\u001b[39mself\u001b[39m\u001b[39m.\u001b[39m__on_error)\n",
      "File \u001b[0;32m~/.local/lib/python3.8/site-packages/neo4j/_sync/io/_bolt.py:716\u001b[0m, in \u001b[0;36mBolt.fetch_message\u001b[0;34m(self)\u001b[0m\n\u001b[1;32m    712\u001b[0m \u001b[39m# Receive exactly one message\u001b[39;00m\n\u001b[1;32m    713\u001b[0m tag, fields \u001b[39m=\u001b[39m \u001b[39mself\u001b[39m\u001b[39m.\u001b[39minbox\u001b[39m.\u001b[39mpop(\n\u001b[1;32m    714\u001b[0m     hydration_hooks\u001b[39m=\u001b[39m\u001b[39mself\u001b[39m\u001b[39m.\u001b[39mresponses[\u001b[39m0\u001b[39m]\u001b[39m.\u001b[39mhydration_hooks\n\u001b[1;32m    715\u001b[0m )\n\u001b[0;32m--> 716\u001b[0m res \u001b[39m=\u001b[39m \u001b[39mself\u001b[39;49m\u001b[39m.\u001b[39;49m_process_message(tag, fields)\n\u001b[1;32m    717\u001b[0m \u001b[39mself\u001b[39m\u001b[39m.\u001b[39midle_since \u001b[39m=\u001b[39m perf_counter()\n\u001b[1;32m    718\u001b[0m \u001b[39mreturn\u001b[39;00m res\n",
      "File \u001b[0;32m~/.local/lib/python3.8/site-packages/neo4j/_sync/io/_bolt5.py:336\u001b[0m, in \u001b[0;36mBolt5x0._process_message\u001b[0;34m(self, tag, fields)\u001b[0m\n\u001b[1;32m    334\u001b[0m \u001b[39mself\u001b[39m\u001b[39m.\u001b[39m_server_state_manager\u001b[39m.\u001b[39mstate \u001b[39m=\u001b[39m ServerStates\u001b[39m.\u001b[39mFAILED\n\u001b[1;32m    335\u001b[0m \u001b[39mtry\u001b[39;00m:\n\u001b[0;32m--> 336\u001b[0m     response\u001b[39m.\u001b[39;49mon_failure(summary_metadata \u001b[39mor\u001b[39;49;00m {})\n\u001b[1;32m    337\u001b[0m \u001b[39mexcept\u001b[39;00m (ServiceUnavailable, DatabaseUnavailable):\n\u001b[1;32m    338\u001b[0m     \u001b[39mif\u001b[39;00m \u001b[39mself\u001b[39m\u001b[39m.\u001b[39mpool:\n",
      "File \u001b[0;32m~/.local/lib/python3.8/site-packages/neo4j/_sync/io/_common.py:247\u001b[0m, in \u001b[0;36mResponse.on_failure\u001b[0;34m(self, metadata)\u001b[0m\n\u001b[1;32m    245\u001b[0m handler \u001b[39m=\u001b[39m \u001b[39mself\u001b[39m\u001b[39m.\u001b[39mhandlers\u001b[39m.\u001b[39mget(\u001b[39m\"\u001b[39m\u001b[39mon_summary\u001b[39m\u001b[39m\"\u001b[39m)\n\u001b[1;32m    246\u001b[0m Util\u001b[39m.\u001b[39mcallback(handler)\n\u001b[0;32m--> 247\u001b[0m \u001b[39mraise\u001b[39;00m Neo4jError\u001b[39m.\u001b[39mhydrate(\u001b[39m*\u001b[39m\u001b[39m*\u001b[39mmetadata)\n",
      "\u001b[0;31mClientError\u001b[0m: {code: Neo.ClientError.Procedure.ProcedureCallFailed} {message: Failed to invoke procedure `gds.graph.project`: Caused by: java.lang.IllegalArgumentException: A graph with name 'popularQuestionAlternatives' already exists.}"
     ]
    }
   ],
   "source": [
    "gds.run_cypher(\"\"\"\n",
    "               CALL gds.graph.project(\n",
    "                   'popularQuestionAlternatives',\n",
    "                   ['QuestionAlternative', 'Respondent'],\n",
    "                   {\n",
    "                        CHOSE: {\n",
    "                            orientation: 'REVERSE'\n",
    "                        }\n",
    "                   }\n",
    "               )\n",
    "               \"\"\")"
   ]
  },
  {
   "cell_type": "code",
   "execution_count": 4,
   "metadata": {},
   "outputs": [
    {
     "data": {
      "text/html": [
       "<div>\n",
       "<style scoped>\n",
       "    .dataframe tbody tr th:only-of-type {\n",
       "        vertical-align: middle;\n",
       "    }\n",
       "\n",
       "    .dataframe tbody tr th {\n",
       "        vertical-align: top;\n",
       "    }\n",
       "\n",
       "    .dataframe thead th {\n",
       "        text-align: right;\n",
       "    }\n",
       "</style>\n",
       "<table border=\"1\" class=\"dataframe\">\n",
       "  <thead>\n",
       "    <tr style=\"text-align: right;\">\n",
       "      <th></th>\n",
       "      <th>nodeCount</th>\n",
       "      <th>relationshipCount</th>\n",
       "      <th>bytesMin</th>\n",
       "      <th>bytesMax</th>\n",
       "      <th>requiredMemory</th>\n",
       "    </tr>\n",
       "  </thead>\n",
       "  <tbody>\n",
       "    <tr>\n",
       "      <th>0</th>\n",
       "      <td>5010</td>\n",
       "      <td>203940</td>\n",
       "      <td>56</td>\n",
       "      <td>56</td>\n",
       "      <td>56 Bytes</td>\n",
       "    </tr>\n",
       "  </tbody>\n",
       "</table>\n",
       "</div>"
      ],
      "text/plain": [
       "   nodeCount  relationshipCount  bytesMin  bytesMax requiredMemory\n",
       "0       5010             203940        56        56       56 Bytes"
      ]
     },
     "execution_count": 4,
     "metadata": {},
     "output_type": "execute_result"
    }
   ],
   "source": [
    "gds.run_cypher(\"\"\"\n",
    "               CALL gds.degree.write.estimate('popularQuestionAlternatives', \n",
    "               { writeProperty: 'degree' })\n",
    "               YIELD nodeCount, relationshipCount, bytesMin, bytesMax, requiredMemory\n",
    "               \"\"\")"
   ]
  },
  {
   "cell_type": "code",
   "execution_count": 5,
   "metadata": {},
   "outputs": [
    {
     "ename": "CypherSyntaxError",
     "evalue": "{code: Neo.ClientError.Statement.SyntaxError} {message: Invalid input '': expected\n  \"!=\"\n  \"%\"\n  \"*\"\n  \"+\"\n  \",\"\n  \"-\"\n  \".\"\n  \"/\"\n  \":\"\n  \"<\"\n  \"<=\"\n  \"<>\"\n  \"=\"\n  \"=~\"\n  \">\"\n  \">=\"\n  \"AND\"\n  \"CONTAINS\"\n  \"ENDS\"\n  \"IN\"\n  \"IS\"\n  \"OR\"\n  \"STARTS\"\n  \"XOR\"\n  \"[\"\n  \"^\"\n  \"}\" (line 8, column 16 (offset: 324))\n\"\"\n                ^}",
     "output_type": "error",
     "traceback": [
      "\u001b[0;31m---------------------------------------------------------------------------\u001b[0m",
      "\u001b[0;31mCypherSyntaxError\u001b[0m                         Traceback (most recent call last)",
      "\u001b[1;32m/home/work/Degree_project_FRIENDS/jupyter_notebook/pagerank.ipynb Cell 5\u001b[0m in \u001b[0;36m<cell line: 1>\u001b[0;34m()\u001b[0m\n\u001b[0;32m----> <a href='vscode-notebook-cell://wsl%2Bubuntu/home/work/Degree_project_FRIENDS/jupyter_notebook/pagerank.ipynb#W4sdnNjb2RlLXJlbW90ZQ%3D%3D?line=0'>1</a>\u001b[0m gds\u001b[39m.\u001b[39;49mrun_cypher(\u001b[39m\"\"\"\u001b[39;49m\n\u001b[1;32m      <a href='vscode-notebook-cell://wsl%2Bubuntu/home/work/Degree_project_FRIENDS/jupyter_notebook/pagerank.ipynb#W4sdnNjb2RlLXJlbW90ZQ%3D%3D?line=1'>2</a>\u001b[0m \u001b[39m               CALL gds.graph.relationshipProperties.write(\u001b[39;49m\u001b[39m'\u001b[39;49m\u001b[39mpopularQuestionAlternatives\u001b[39;49m\u001b[39m'\u001b[39;49m\u001b[39m, \u001b[39;49m\u001b[39m{\u001b[39;49m\n\u001b[1;32m      <a href='vscode-notebook-cell://wsl%2Bubuntu/home/work/Degree_project_FRIENDS/jupyter_notebook/pagerank.ipynb#W4sdnNjb2RlLXJlbW90ZQ%3D%3D?line=2'>3</a>\u001b[0m \u001b[39m                     relationshipProperties: \u001b[39;49m\u001b[39m{\u001b[39;49m\n\u001b[1;32m      <a href='vscode-notebook-cell://wsl%2Bubuntu/home/work/Degree_project_FRIENDS/jupyter_notebook/pagerank.ipynb#W4sdnNjb2RlLXJlbW90ZQ%3D%3D?line=3'>4</a>\u001b[0m \u001b[39m                            CHOSE: \u001b[39;49m\u001b[39m{\u001b[39;49m\n\u001b[1;32m      <a href='vscode-notebook-cell://wsl%2Bubuntu/home/work/Degree_project_FRIENDS/jupyter_notebook/pagerank.ipynb#W4sdnNjb2RlLXJlbW90ZQ%3D%3D?line=4'>5</a>\u001b[0m \u001b[39m                                property: \u001b[39;49m\u001b[39m'\u001b[39;49m\u001b[39mweight\u001b[39;49m\u001b[39m'\u001b[39;49m\u001b[39m,\u001b[39;49m\n\u001b[1;32m      <a href='vscode-notebook-cell://wsl%2Bubuntu/home/work/Degree_project_FRIENDS/jupyter_notebook/pagerank.ipynb#W4sdnNjb2RlLXJlbW90ZQ%3D%3D?line=5'>6</a>\u001b[0m \u001b[39m                                defaultValue: 1.0\u001b[39;49m\n\u001b[1;32m      <a href='vscode-notebook-cell://wsl%2Bubuntu/home/work/Degree_project_FRIENDS/jupyter_notebook/pagerank.ipynb#W4sdnNjb2RlLXJlbW90ZQ%3D%3D?line=6'>7</a>\u001b[0m \u001b[39m                            }\u001b[39;49m\n\u001b[1;32m      <a href='vscode-notebook-cell://wsl%2Bubuntu/home/work/Degree_project_FRIENDS/jupyter_notebook/pagerank.ipynb#W4sdnNjb2RlLXJlbW90ZQ%3D%3D?line=7'>8</a>\u001b[0m \u001b[39m               \u001b[39;49m\u001b[39m\"\"\"\u001b[39;49m)\n",
      "File \u001b[0;32m~/.local/lib/python3.8/site-packages/graphdatascience/graph_data_science.py:146\u001b[0m, in \u001b[0;36mGraphDataScience.run_cypher\u001b[0;34m(self, query, params, database)\u001b[0m\n\u001b[1;32m    143\u001b[0m \u001b[39mif\u001b[39;00m \u001b[39misinstance\u001b[39m(\u001b[39mself\u001b[39m\u001b[39m.\u001b[39m_query_runner, ArrowQueryRunner):\n\u001b[1;32m    144\u001b[0m     qr \u001b[39m=\u001b[39m \u001b[39mself\u001b[39m\u001b[39m.\u001b[39m_query_runner\u001b[39m.\u001b[39mfallback_query_runner()\n\u001b[0;32m--> 146\u001b[0m \u001b[39mreturn\u001b[39;00m qr\u001b[39m.\u001b[39;49mrun_query(query, params, database)\n",
      "File \u001b[0;32m~/.local/lib/python3.8/site-packages/graphdatascience/query_runner/neo4j_query_runner.py:53\u001b[0m, in \u001b[0;36mNeo4jQueryRunner.run_query\u001b[0;34m(self, query, params, database)\u001b[0m\n\u001b[1;32m     44\u001b[0m     warnings\u001b[39m.\u001b[39mfilterwarnings(\n\u001b[1;32m     45\u001b[0m         \u001b[39m\"\u001b[39m\u001b[39mignore\u001b[39m\u001b[39m\"\u001b[39m,\n\u001b[1;32m     46\u001b[0m         message\u001b[39m=\u001b[39m\u001b[39mr\u001b[39m\u001b[39m\"\u001b[39m\u001b[39m^ssl.OP_NO_SSL\u001b[39m\u001b[39m\\\u001b[39m\u001b[39m*/ssl.OP_NO_TLS\u001b[39m\u001b[39m\\\u001b[39m\u001b[39m* options are deprecated$\u001b[39m\u001b[39m\"\u001b[39m,\n\u001b[1;32m     47\u001b[0m     )\n\u001b[1;32m     48\u001b[0m     warnings\u001b[39m.\u001b[39mfilterwarnings(\n\u001b[1;32m     49\u001b[0m         \u001b[39m\"\u001b[39m\u001b[39mignore\u001b[39m\u001b[39m\"\u001b[39m,\n\u001b[1;32m     50\u001b[0m         message\u001b[39m=\u001b[39m\u001b[39mr\u001b[39m\u001b[39m\"\u001b[39m\u001b[39m^`id` is deprecated, use `element_id` instead$\u001b[39m\u001b[39m\"\u001b[39m,\n\u001b[1;32m     51\u001b[0m     )\n\u001b[0;32m---> 53\u001b[0m result \u001b[39m=\u001b[39m session\u001b[39m.\u001b[39;49mrun(query, params)\n\u001b[1;32m     55\u001b[0m \u001b[39m# Though pandas support may be experimental in the `neo4j` package, it should always\u001b[39;00m\n\u001b[1;32m     56\u001b[0m \u001b[39m# be supported in the `graphdatascience` package.\u001b[39;00m\n\u001b[1;32m     57\u001b[0m warnings\u001b[39m.\u001b[39mfilterwarnings(\n\u001b[1;32m     58\u001b[0m     \u001b[39m\"\u001b[39m\u001b[39mignore\u001b[39m\u001b[39m\"\u001b[39m,\n\u001b[1;32m     59\u001b[0m     message\u001b[39m=\u001b[39m\u001b[39mr\u001b[39m\u001b[39m\"\u001b[39m\u001b[39m^pandas support is experimental and might be changed or removed in future versions$\u001b[39m\u001b[39m\"\u001b[39m,\n\u001b[1;32m     60\u001b[0m )\n",
      "File \u001b[0;32m~/.local/lib/python3.8/site-packages/neo4j/_sync/work/session.py:289\u001b[0m, in \u001b[0;36mSession.run\u001b[0;34m(self, query, parameters, **kwargs)\u001b[0m\n\u001b[1;32m    287\u001b[0m bookmarks \u001b[39m=\u001b[39m \u001b[39mself\u001b[39m\u001b[39m.\u001b[39m_get_bookmarks()\n\u001b[1;32m    288\u001b[0m parameters \u001b[39m=\u001b[39m \u001b[39mdict\u001b[39m(parameters \u001b[39mor\u001b[39;00m {}, \u001b[39m*\u001b[39m\u001b[39m*\u001b[39mkwargs)\n\u001b[0;32m--> 289\u001b[0m \u001b[39mself\u001b[39;49m\u001b[39m.\u001b[39;49m_auto_result\u001b[39m.\u001b[39;49m_run(\n\u001b[1;32m    290\u001b[0m     query, parameters, \u001b[39mself\u001b[39;49m\u001b[39m.\u001b[39;49m_config\u001b[39m.\u001b[39;49mdatabase,\n\u001b[1;32m    291\u001b[0m     \u001b[39mself\u001b[39;49m\u001b[39m.\u001b[39;49m_config\u001b[39m.\u001b[39;49mimpersonated_user, \u001b[39mself\u001b[39;49m\u001b[39m.\u001b[39;49m_config\u001b[39m.\u001b[39;49mdefault_access_mode,\n\u001b[1;32m    292\u001b[0m     bookmarks, \u001b[39mself\u001b[39;49m\u001b[39m.\u001b[39;49m_config\u001b[39m.\u001b[39;49mnotifications_min_severity,\n\u001b[1;32m    293\u001b[0m     \u001b[39mself\u001b[39;49m\u001b[39m.\u001b[39;49m_config\u001b[39m.\u001b[39;49mnotifications_disabled_categories,\n\u001b[1;32m    294\u001b[0m )\n\u001b[1;32m    296\u001b[0m \u001b[39mreturn\u001b[39;00m \u001b[39mself\u001b[39m\u001b[39m.\u001b[39m_auto_result\n",
      "File \u001b[0;32m~/.local/lib/python3.8/site-packages/neo4j/_sync/work/result.py:170\u001b[0m, in \u001b[0;36mResult._run\u001b[0;34m(self, query, parameters, db, imp_user, access_mode, bookmarks, notifications_min_severity, notifications_disabled_categories)\u001b[0m\n\u001b[1;32m    168\u001b[0m \u001b[39mself\u001b[39m\u001b[39m.\u001b[39m_pull()\n\u001b[1;32m    169\u001b[0m \u001b[39mself\u001b[39m\u001b[39m.\u001b[39m_connection\u001b[39m.\u001b[39msend_all()\n\u001b[0;32m--> 170\u001b[0m \u001b[39mself\u001b[39;49m\u001b[39m.\u001b[39;49m_attach()\n",
      "File \u001b[0;32m~/.local/lib/python3.8/site-packages/neo4j/_sync/work/result.py:278\u001b[0m, in \u001b[0;36mResult._attach\u001b[0;34m(self)\u001b[0m\n\u001b[1;32m    276\u001b[0m \u001b[39mif\u001b[39;00m \u001b[39mself\u001b[39m\u001b[39m.\u001b[39m_exhausted \u001b[39mis\u001b[39;00m \u001b[39mFalse\u001b[39;00m:\n\u001b[1;32m    277\u001b[0m     \u001b[39mwhile\u001b[39;00m \u001b[39mself\u001b[39m\u001b[39m.\u001b[39m_attached \u001b[39mis\u001b[39;00m \u001b[39mFalse\u001b[39;00m:\n\u001b[0;32m--> 278\u001b[0m         \u001b[39mself\u001b[39;49m\u001b[39m.\u001b[39;49m_connection\u001b[39m.\u001b[39;49mfetch_message()\n",
      "File \u001b[0;32m~/.local/lib/python3.8/site-packages/neo4j/_sync/io/_common.py:180\u001b[0m, in \u001b[0;36mConnectionErrorHandler.__getattr__.<locals>.outer.<locals>.inner\u001b[0;34m(*args, **kwargs)\u001b[0m\n\u001b[1;32m    178\u001b[0m \u001b[39mdef\u001b[39;00m \u001b[39minner\u001b[39m(\u001b[39m*\u001b[39margs, \u001b[39m*\u001b[39m\u001b[39m*\u001b[39mkwargs):\n\u001b[1;32m    179\u001b[0m     \u001b[39mtry\u001b[39;00m:\n\u001b[0;32m--> 180\u001b[0m         func(\u001b[39m*\u001b[39;49margs, \u001b[39m*\u001b[39;49m\u001b[39m*\u001b[39;49mkwargs)\n\u001b[1;32m    181\u001b[0m     \u001b[39mexcept\u001b[39;00m (Neo4jError, ServiceUnavailable, SessionExpired) \u001b[39mas\u001b[39;00m exc:\n\u001b[1;32m    182\u001b[0m         \u001b[39massert\u001b[39;00m \u001b[39mnot\u001b[39;00m asyncio\u001b[39m.\u001b[39miscoroutinefunction(\u001b[39mself\u001b[39m\u001b[39m.\u001b[39m__on_error)\n",
      "File \u001b[0;32m~/.local/lib/python3.8/site-packages/neo4j/_sync/io/_bolt.py:716\u001b[0m, in \u001b[0;36mBolt.fetch_message\u001b[0;34m(self)\u001b[0m\n\u001b[1;32m    712\u001b[0m \u001b[39m# Receive exactly one message\u001b[39;00m\n\u001b[1;32m    713\u001b[0m tag, fields \u001b[39m=\u001b[39m \u001b[39mself\u001b[39m\u001b[39m.\u001b[39minbox\u001b[39m.\u001b[39mpop(\n\u001b[1;32m    714\u001b[0m     hydration_hooks\u001b[39m=\u001b[39m\u001b[39mself\u001b[39m\u001b[39m.\u001b[39mresponses[\u001b[39m0\u001b[39m]\u001b[39m.\u001b[39mhydration_hooks\n\u001b[1;32m    715\u001b[0m )\n\u001b[0;32m--> 716\u001b[0m res \u001b[39m=\u001b[39m \u001b[39mself\u001b[39;49m\u001b[39m.\u001b[39;49m_process_message(tag, fields)\n\u001b[1;32m    717\u001b[0m \u001b[39mself\u001b[39m\u001b[39m.\u001b[39midle_since \u001b[39m=\u001b[39m perf_counter()\n\u001b[1;32m    718\u001b[0m \u001b[39mreturn\u001b[39;00m res\n",
      "File \u001b[0;32m~/.local/lib/python3.8/site-packages/neo4j/_sync/io/_bolt5.py:336\u001b[0m, in \u001b[0;36mBolt5x0._process_message\u001b[0;34m(self, tag, fields)\u001b[0m\n\u001b[1;32m    334\u001b[0m \u001b[39mself\u001b[39m\u001b[39m.\u001b[39m_server_state_manager\u001b[39m.\u001b[39mstate \u001b[39m=\u001b[39m ServerStates\u001b[39m.\u001b[39mFAILED\n\u001b[1;32m    335\u001b[0m \u001b[39mtry\u001b[39;00m:\n\u001b[0;32m--> 336\u001b[0m     response\u001b[39m.\u001b[39;49mon_failure(summary_metadata \u001b[39mor\u001b[39;49;00m {})\n\u001b[1;32m    337\u001b[0m \u001b[39mexcept\u001b[39;00m (ServiceUnavailable, DatabaseUnavailable):\n\u001b[1;32m    338\u001b[0m     \u001b[39mif\u001b[39;00m \u001b[39mself\u001b[39m\u001b[39m.\u001b[39mpool:\n",
      "File \u001b[0;32m~/.local/lib/python3.8/site-packages/neo4j/_sync/io/_common.py:247\u001b[0m, in \u001b[0;36mResponse.on_failure\u001b[0;34m(self, metadata)\u001b[0m\n\u001b[1;32m    245\u001b[0m handler \u001b[39m=\u001b[39m \u001b[39mself\u001b[39m\u001b[39m.\u001b[39mhandlers\u001b[39m.\u001b[39mget(\u001b[39m\"\u001b[39m\u001b[39mon_summary\u001b[39m\u001b[39m\"\u001b[39m)\n\u001b[1;32m    246\u001b[0m Util\u001b[39m.\u001b[39mcallback(handler)\n\u001b[0;32m--> 247\u001b[0m \u001b[39mraise\u001b[39;00m Neo4jError\u001b[39m.\u001b[39mhydrate(\u001b[39m*\u001b[39m\u001b[39m*\u001b[39mmetadata)\n",
      "\u001b[0;31mCypherSyntaxError\u001b[0m: {code: Neo.ClientError.Statement.SyntaxError} {message: Invalid input '': expected\n  \"!=\"\n  \"%\"\n  \"*\"\n  \"+\"\n  \",\"\n  \"-\"\n  \".\"\n  \"/\"\n  \":\"\n  \"<\"\n  \"<=\"\n  \"<>\"\n  \"=\"\n  \"=~\"\n  \">\"\n  \">=\"\n  \"AND\"\n  \"CONTAINS\"\n  \"ENDS\"\n  \"IN\"\n  \"IS\"\n  \"OR\"\n  \"STARTS\"\n  \"XOR\"\n  \"[\"\n  \"^\"\n  \"}\" (line 8, column 16 (offset: 324))\n\"\"\n                ^}"
     ]
    }
   ],
   "source": [
    "gds.run_cypher(\"\"\"\n",
    "               CALL gds.graph.relationshipProperties.write('popularQuestionAlternatives', {\n",
    "                     relationshipProperties: {\n",
    "                            CHOSE: {\n",
    "                                property: 'score',\n",
    "                                defaultValue: 1.0\n",
    "                            }\n",
    "                        }\n",
    "                    })\n",
    "               \"\"\")"
   ]
  },
  {
   "cell_type": "code",
   "execution_count": 6,
   "metadata": {},
   "outputs": [
    {
     "name": "stderr",
     "output_type": "stream",
     "text": [
      "Failed to read from defunct connection IPv4Address(('localhost', 7687)) (IPv4Address(('127.0.0.1', 7687)))\n"
     ]
    },
    {
     "ename": "SessionExpired",
     "evalue": "Failed to read from defunct connection IPv4Address(('localhost', 7687)) (IPv4Address(('127.0.0.1', 7687)))",
     "output_type": "error",
     "traceback": [
      "\u001b[0;31m---------------------------------------------------------------------------\u001b[0m",
      "\u001b[0;31mtimeout\u001b[0m                                   Traceback (most recent call last)",
      "File \u001b[0;32m~/.local/lib/python3.8/site-packages/neo4j/_sync/io/_common.py:53\u001b[0m, in \u001b[0;36mInbox._buffer_one_chunk\u001b[0;34m(self)\u001b[0m\n\u001b[1;32m     51\u001b[0m \u001b[39mwhile\u001b[39;00m chunk_size \u001b[39m==\u001b[39m \u001b[39m0\u001b[39m:\n\u001b[1;32m     52\u001b[0m     \u001b[39m# Determine the chunk size and skip noop\u001b[39;00m\n\u001b[0;32m---> 53\u001b[0m     receive_into_buffer(\u001b[39mself\u001b[39;49m\u001b[39m.\u001b[39;49m_socket, \u001b[39mself\u001b[39;49m\u001b[39m.\u001b[39;49m_buffer, \u001b[39m2\u001b[39;49m)\n\u001b[1;32m     54\u001b[0m     chunk_size \u001b[39m=\u001b[39m \u001b[39mself\u001b[39m\u001b[39m.\u001b[39m_buffer\u001b[39m.\u001b[39mpop_u16()\n",
      "File \u001b[0;32m~/.local/lib/python3.8/site-packages/neo4j/_sync/io/_common.py:293\u001b[0m, in \u001b[0;36mreceive_into_buffer\u001b[0;34m(sock, buffer, n_bytes)\u001b[0m\n\u001b[1;32m    292\u001b[0m \u001b[39mwhile\u001b[39;00m buffer\u001b[39m.\u001b[39mused \u001b[39m<\u001b[39m end:\n\u001b[0;32m--> 293\u001b[0m     n \u001b[39m=\u001b[39m sock\u001b[39m.\u001b[39;49mrecv_into(view[buffer\u001b[39m.\u001b[39;49mused:end], end \u001b[39m-\u001b[39;49m buffer\u001b[39m.\u001b[39;49mused)\n\u001b[1;32m    294\u001b[0m     \u001b[39mif\u001b[39;00m n \u001b[39m==\u001b[39m \u001b[39m0\u001b[39m:\n",
      "File \u001b[0;32m~/.local/lib/python3.8/site-packages/neo4j/_async_compat/network/_bolt_socket.py:489\u001b[0m, in \u001b[0;36mBoltSocket.recv_into\u001b[0;34m(self, buffer, nbytes)\u001b[0m\n\u001b[1;32m    488\u001b[0m \u001b[39mdef\u001b[39;00m \u001b[39mrecv_into\u001b[39m(\u001b[39mself\u001b[39m, buffer, nbytes):\n\u001b[0;32m--> 489\u001b[0m     \u001b[39mreturn\u001b[39;00m \u001b[39mself\u001b[39;49m\u001b[39m.\u001b[39;49m_wait_for_io(\u001b[39mself\u001b[39;49m\u001b[39m.\u001b[39;49m_socket\u001b[39m.\u001b[39;49mrecv_into, buffer, nbytes)\n",
      "File \u001b[0;32m~/.local/lib/python3.8/site-packages/neo4j/_async_compat/network/_bolt_socket.py:464\u001b[0m, in \u001b[0;36mBoltSocket._wait_for_io\u001b[0;34m(self, func, *args, **kwargs)\u001b[0m\n\u001b[1;32m    463\u001b[0m \u001b[39mif\u001b[39;00m \u001b[39mself\u001b[39m\u001b[39m.\u001b[39m_deadline \u001b[39mis\u001b[39;00m \u001b[39mNone\u001b[39;00m:\n\u001b[0;32m--> 464\u001b[0m     \u001b[39mreturn\u001b[39;00m func(\u001b[39m*\u001b[39;49margs, \u001b[39m*\u001b[39;49m\u001b[39m*\u001b[39;49mkwargs)\n\u001b[1;32m    465\u001b[0m timeout \u001b[39m=\u001b[39m \u001b[39mself\u001b[39m\u001b[39m.\u001b[39m_socket\u001b[39m.\u001b[39mgettimeout()\n",
      "\u001b[0;31mtimeout\u001b[0m: timed out",
      "\nThe above exception was the direct cause of the following exception:\n",
      "\u001b[0;31mSessionExpired\u001b[0m                            Traceback (most recent call last)",
      "\u001b[1;32m/home/work/Degree_project_FRIENDS/jupyter_notebook/pagerank.ipynb Cell 6\u001b[0m in \u001b[0;36m<cell line: 1>\u001b[0;34m()\u001b[0m\n\u001b[0;32m----> <a href='vscode-notebook-cell://wsl%2Bubuntu/home/work/Degree_project_FRIENDS/jupyter_notebook/pagerank.ipynb#W5sdnNjb2RlLXJlbW90ZQ%3D%3D?line=0'>1</a>\u001b[0m gds\u001b[39m.\u001b[39;49mrun_cypher(\u001b[39m\"\"\"\u001b[39;49m\n\u001b[1;32m      <a href='vscode-notebook-cell://wsl%2Bubuntu/home/work/Degree_project_FRIENDS/jupyter_notebook/pagerank.ipynb#W5sdnNjb2RlLXJlbW90ZQ%3D%3D?line=1'>2</a>\u001b[0m \u001b[39m               CALL gds.degree.mutate(\u001b[39;49m\u001b[39m'\u001b[39;49m\u001b[39mpopularQuestionAlternatives\u001b[39;49m\u001b[39m'\u001b[39;49m\u001b[39m,\u001b[39;49m\n\u001b[1;32m      <a href='vscode-notebook-cell://wsl%2Bubuntu/home/work/Degree_project_FRIENDS/jupyter_notebook/pagerank.ipynb#W5sdnNjb2RlLXJlbW90ZQ%3D%3D?line=2'>3</a>\u001b[0m \u001b[39m                \u001b[39;49m\u001b[39m{\u001b[39;49m\u001b[39m mutate })\u001b[39;49m\n\u001b[1;32m      <a href='vscode-notebook-cell://wsl%2Bubuntu/home/work/Degree_project_FRIENDS/jupyter_notebook/pagerank.ipynb#W5sdnNjb2RlLXJlbW90ZQ%3D%3D?line=3'>4</a>\u001b[0m \u001b[39m                YIELD nodeId, score\u001b[39;49m\n\u001b[1;32m      <a href='vscode-notebook-cell://wsl%2Bubuntu/home/work/Degree_project_FRIENDS/jupyter_notebook/pagerank.ipynb#W5sdnNjb2RlLXJlbW90ZQ%3D%3D?line=4'>5</a>\u001b[0m \u001b[39m                WHERE score > 0\u001b[39;49m\n\u001b[1;32m      <a href='vscode-notebook-cell://wsl%2Bubuntu/home/work/Degree_project_FRIENDS/jupyter_notebook/pagerank.ipynb#W5sdnNjb2RlLXJlbW90ZQ%3D%3D?line=5'>6</a>\u001b[0m \u001b[39m                RETURN gds.util.asNode(nodeId).name AS name, score AS respondents\u001b[39;49m\n\u001b[1;32m      <a href='vscode-notebook-cell://wsl%2Bubuntu/home/work/Degree_project_FRIENDS/jupyter_notebook/pagerank.ipynb#W5sdnNjb2RlLXJlbW90ZQ%3D%3D?line=6'>7</a>\u001b[0m \u001b[39m                ORDER BY respondents ASC, name ASC\u001b[39;49m\n\u001b[1;32m      <a href='vscode-notebook-cell://wsl%2Bubuntu/home/work/Degree_project_FRIENDS/jupyter_notebook/pagerank.ipynb#W5sdnNjb2RlLXJlbW90ZQ%3D%3D?line=7'>8</a>\u001b[0m \u001b[39m               \u001b[39;49m\u001b[39m\"\"\"\u001b[39;49m)\n",
      "File \u001b[0;32m~/.local/lib/python3.8/site-packages/graphdatascience/graph_data_science.py:146\u001b[0m, in \u001b[0;36mGraphDataScience.run_cypher\u001b[0;34m(self, query, params, database)\u001b[0m\n\u001b[1;32m    143\u001b[0m \u001b[39mif\u001b[39;00m \u001b[39misinstance\u001b[39m(\u001b[39mself\u001b[39m\u001b[39m.\u001b[39m_query_runner, ArrowQueryRunner):\n\u001b[1;32m    144\u001b[0m     qr \u001b[39m=\u001b[39m \u001b[39mself\u001b[39m\u001b[39m.\u001b[39m_query_runner\u001b[39m.\u001b[39mfallback_query_runner()\n\u001b[0;32m--> 146\u001b[0m \u001b[39mreturn\u001b[39;00m qr\u001b[39m.\u001b[39;49mrun_query(query, params, database)\n",
      "File \u001b[0;32m~/.local/lib/python3.8/site-packages/graphdatascience/query_runner/neo4j_query_runner.py:53\u001b[0m, in \u001b[0;36mNeo4jQueryRunner.run_query\u001b[0;34m(self, query, params, database)\u001b[0m\n\u001b[1;32m     44\u001b[0m     warnings\u001b[39m.\u001b[39mfilterwarnings(\n\u001b[1;32m     45\u001b[0m         \u001b[39m\"\u001b[39m\u001b[39mignore\u001b[39m\u001b[39m\"\u001b[39m,\n\u001b[1;32m     46\u001b[0m         message\u001b[39m=\u001b[39m\u001b[39mr\u001b[39m\u001b[39m\"\u001b[39m\u001b[39m^ssl.OP_NO_SSL\u001b[39m\u001b[39m\\\u001b[39m\u001b[39m*/ssl.OP_NO_TLS\u001b[39m\u001b[39m\\\u001b[39m\u001b[39m* options are deprecated$\u001b[39m\u001b[39m\"\u001b[39m,\n\u001b[1;32m     47\u001b[0m     )\n\u001b[1;32m     48\u001b[0m     warnings\u001b[39m.\u001b[39mfilterwarnings(\n\u001b[1;32m     49\u001b[0m         \u001b[39m\"\u001b[39m\u001b[39mignore\u001b[39m\u001b[39m\"\u001b[39m,\n\u001b[1;32m     50\u001b[0m         message\u001b[39m=\u001b[39m\u001b[39mr\u001b[39m\u001b[39m\"\u001b[39m\u001b[39m^`id` is deprecated, use `element_id` instead$\u001b[39m\u001b[39m\"\u001b[39m,\n\u001b[1;32m     51\u001b[0m     )\n\u001b[0;32m---> 53\u001b[0m result \u001b[39m=\u001b[39m session\u001b[39m.\u001b[39;49mrun(query, params)\n\u001b[1;32m     55\u001b[0m \u001b[39m# Though pandas support may be experimental in the `neo4j` package, it should always\u001b[39;00m\n\u001b[1;32m     56\u001b[0m \u001b[39m# be supported in the `graphdatascience` package.\u001b[39;00m\n\u001b[1;32m     57\u001b[0m warnings\u001b[39m.\u001b[39mfilterwarnings(\n\u001b[1;32m     58\u001b[0m     \u001b[39m\"\u001b[39m\u001b[39mignore\u001b[39m\u001b[39m\"\u001b[39m,\n\u001b[1;32m     59\u001b[0m     message\u001b[39m=\u001b[39m\u001b[39mr\u001b[39m\u001b[39m\"\u001b[39m\u001b[39m^pandas support is experimental and might be changed or removed in future versions$\u001b[39m\u001b[39m\"\u001b[39m,\n\u001b[1;32m     60\u001b[0m )\n",
      "File \u001b[0;32m~/.local/lib/python3.8/site-packages/neo4j/_sync/work/session.py:289\u001b[0m, in \u001b[0;36mSession.run\u001b[0;34m(self, query, parameters, **kwargs)\u001b[0m\n\u001b[1;32m    287\u001b[0m bookmarks \u001b[39m=\u001b[39m \u001b[39mself\u001b[39m\u001b[39m.\u001b[39m_get_bookmarks()\n\u001b[1;32m    288\u001b[0m parameters \u001b[39m=\u001b[39m \u001b[39mdict\u001b[39m(parameters \u001b[39mor\u001b[39;00m {}, \u001b[39m*\u001b[39m\u001b[39m*\u001b[39mkwargs)\n\u001b[0;32m--> 289\u001b[0m \u001b[39mself\u001b[39;49m\u001b[39m.\u001b[39;49m_auto_result\u001b[39m.\u001b[39;49m_run(\n\u001b[1;32m    290\u001b[0m     query, parameters, \u001b[39mself\u001b[39;49m\u001b[39m.\u001b[39;49m_config\u001b[39m.\u001b[39;49mdatabase,\n\u001b[1;32m    291\u001b[0m     \u001b[39mself\u001b[39;49m\u001b[39m.\u001b[39;49m_config\u001b[39m.\u001b[39;49mimpersonated_user, \u001b[39mself\u001b[39;49m\u001b[39m.\u001b[39;49m_config\u001b[39m.\u001b[39;49mdefault_access_mode,\n\u001b[1;32m    292\u001b[0m     bookmarks, \u001b[39mself\u001b[39;49m\u001b[39m.\u001b[39;49m_config\u001b[39m.\u001b[39;49mnotifications_min_severity,\n\u001b[1;32m    293\u001b[0m     \u001b[39mself\u001b[39;49m\u001b[39m.\u001b[39;49m_config\u001b[39m.\u001b[39;49mnotifications_disabled_categories,\n\u001b[1;32m    294\u001b[0m )\n\u001b[1;32m    296\u001b[0m \u001b[39mreturn\u001b[39;00m \u001b[39mself\u001b[39m\u001b[39m.\u001b[39m_auto_result\n",
      "File \u001b[0;32m~/.local/lib/python3.8/site-packages/neo4j/_sync/work/result.py:170\u001b[0m, in \u001b[0;36mResult._run\u001b[0;34m(self, query, parameters, db, imp_user, access_mode, bookmarks, notifications_min_severity, notifications_disabled_categories)\u001b[0m\n\u001b[1;32m    168\u001b[0m \u001b[39mself\u001b[39m\u001b[39m.\u001b[39m_pull()\n\u001b[1;32m    169\u001b[0m \u001b[39mself\u001b[39m\u001b[39m.\u001b[39m_connection\u001b[39m.\u001b[39msend_all()\n\u001b[0;32m--> 170\u001b[0m \u001b[39mself\u001b[39;49m\u001b[39m.\u001b[39;49m_attach()\n",
      "File \u001b[0;32m~/.local/lib/python3.8/site-packages/neo4j/_sync/work/result.py:278\u001b[0m, in \u001b[0;36mResult._attach\u001b[0;34m(self)\u001b[0m\n\u001b[1;32m    276\u001b[0m \u001b[39mif\u001b[39;00m \u001b[39mself\u001b[39m\u001b[39m.\u001b[39m_exhausted \u001b[39mis\u001b[39;00m \u001b[39mFalse\u001b[39;00m:\n\u001b[1;32m    277\u001b[0m     \u001b[39mwhile\u001b[39;00m \u001b[39mself\u001b[39m\u001b[39m.\u001b[39m_attached \u001b[39mis\u001b[39;00m \u001b[39mFalse\u001b[39;00m:\n\u001b[0;32m--> 278\u001b[0m         \u001b[39mself\u001b[39;49m\u001b[39m.\u001b[39;49m_connection\u001b[39m.\u001b[39;49mfetch_message()\n",
      "File \u001b[0;32m~/.local/lib/python3.8/site-packages/neo4j/_sync/io/_common.py:180\u001b[0m, in \u001b[0;36mConnectionErrorHandler.__getattr__.<locals>.outer.<locals>.inner\u001b[0;34m(*args, **kwargs)\u001b[0m\n\u001b[1;32m    178\u001b[0m \u001b[39mdef\u001b[39;00m \u001b[39minner\u001b[39m(\u001b[39m*\u001b[39margs, \u001b[39m*\u001b[39m\u001b[39m*\u001b[39mkwargs):\n\u001b[1;32m    179\u001b[0m     \u001b[39mtry\u001b[39;00m:\n\u001b[0;32m--> 180\u001b[0m         func(\u001b[39m*\u001b[39;49margs, \u001b[39m*\u001b[39;49m\u001b[39m*\u001b[39;49mkwargs)\n\u001b[1;32m    181\u001b[0m     \u001b[39mexcept\u001b[39;00m (Neo4jError, ServiceUnavailable, SessionExpired) \u001b[39mas\u001b[39;00m exc:\n\u001b[1;32m    182\u001b[0m         \u001b[39massert\u001b[39;00m \u001b[39mnot\u001b[39;00m asyncio\u001b[39m.\u001b[39miscoroutinefunction(\u001b[39mself\u001b[39m\u001b[39m.\u001b[39m__on_error)\n",
      "File \u001b[0;32m~/.local/lib/python3.8/site-packages/neo4j/_sync/io/_bolt.py:713\u001b[0m, in \u001b[0;36mBolt.fetch_message\u001b[0;34m(self)\u001b[0m\n\u001b[1;32m    710\u001b[0m     \u001b[39mreturn\u001b[39;00m \u001b[39m0\u001b[39m, \u001b[39m0\u001b[39m\n\u001b[1;32m    712\u001b[0m \u001b[39m# Receive exactly one message\u001b[39;00m\n\u001b[0;32m--> 713\u001b[0m tag, fields \u001b[39m=\u001b[39m \u001b[39mself\u001b[39;49m\u001b[39m.\u001b[39;49minbox\u001b[39m.\u001b[39;49mpop(\n\u001b[1;32m    714\u001b[0m     hydration_hooks\u001b[39m=\u001b[39;49m\u001b[39mself\u001b[39;49m\u001b[39m.\u001b[39;49mresponses[\u001b[39m0\u001b[39;49m]\u001b[39m.\u001b[39;49mhydration_hooks\n\u001b[1;32m    715\u001b[0m )\n\u001b[1;32m    716\u001b[0m res \u001b[39m=\u001b[39m \u001b[39mself\u001b[39m\u001b[39m.\u001b[39m_process_message(tag, fields)\n\u001b[1;32m    717\u001b[0m \u001b[39mself\u001b[39m\u001b[39m.\u001b[39midle_since \u001b[39m=\u001b[39m perf_counter()\n",
      "File \u001b[0;32m~/.local/lib/python3.8/site-packages/neo4j/_sync/io/_common.py:74\u001b[0m, in \u001b[0;36mInbox.pop\u001b[0;34m(self, hydration_hooks)\u001b[0m\n\u001b[1;32m     73\u001b[0m \u001b[39mdef\u001b[39;00m \u001b[39mpop\u001b[39m(\u001b[39mself\u001b[39m, hydration_hooks):\n\u001b[0;32m---> 74\u001b[0m     \u001b[39mself\u001b[39;49m\u001b[39m.\u001b[39;49m_buffer_one_chunk()\n\u001b[1;32m     75\u001b[0m     \u001b[39mtry\u001b[39;00m:\n\u001b[1;32m     76\u001b[0m         size, tag \u001b[39m=\u001b[39m \u001b[39mself\u001b[39m\u001b[39m.\u001b[39m_unpacker\u001b[39m.\u001b[39munpack_structure_header()\n",
      "File \u001b[0;32m~/.local/lib/python3.8/site-packages/neo4j/_sync/io/_common.py:70\u001b[0m, in \u001b[0;36mInbox._buffer_one_chunk\u001b[0;34m(self)\u001b[0m\n\u001b[1;32m     66\u001b[0m \u001b[39mexcept\u001b[39;00m (\n\u001b[1;32m     67\u001b[0m     \u001b[39mOSError\u001b[39;00m, SocketDeadlineExceeded, asyncio\u001b[39m.\u001b[39mCancelledError\n\u001b[1;32m     68\u001b[0m ) \u001b[39mas\u001b[39;00m error:\n\u001b[1;32m     69\u001b[0m     \u001b[39mself\u001b[39m\u001b[39m.\u001b[39m_broken \u001b[39m=\u001b[39m \u001b[39mTrue\u001b[39;00m\n\u001b[0;32m---> 70\u001b[0m     Util\u001b[39m.\u001b[39;49mcallback(\u001b[39mself\u001b[39;49m\u001b[39m.\u001b[39;49mon_error, error)\n\u001b[1;32m     71\u001b[0m     \u001b[39mraise\u001b[39;00m\n",
      "File \u001b[0;32m~/.local/lib/python3.8/site-packages/neo4j/_async_compat/util.py:113\u001b[0m, in \u001b[0;36mUtil.callback\u001b[0;34m(cb, *args, **kwargs)\u001b[0m\n\u001b[1;32m    110\u001b[0m \u001b[39m@staticmethod\u001b[39m\n\u001b[1;32m    111\u001b[0m \u001b[39mdef\u001b[39;00m \u001b[39mcallback\u001b[39m(cb, \u001b[39m*\u001b[39margs, \u001b[39m*\u001b[39m\u001b[39m*\u001b[39mkwargs):\n\u001b[1;32m    112\u001b[0m     \u001b[39mif\u001b[39;00m callable(cb):\n\u001b[0;32m--> 113\u001b[0m         \u001b[39mreturn\u001b[39;00m cb(\u001b[39m*\u001b[39;49margs, \u001b[39m*\u001b[39;49m\u001b[39m*\u001b[39;49mkwargs)\n",
      "File \u001b[0;32m~/.local/lib/python3.8/site-packages/neo4j/_sync/io/_bolt.py:739\u001b[0m, in \u001b[0;36mBolt._set_defunct_read\u001b[0;34m(self, error, silent)\u001b[0m\n\u001b[1;32m    735\u001b[0m \u001b[39mdef\u001b[39;00m \u001b[39m_set_defunct_read\u001b[39m(\u001b[39mself\u001b[39m, error\u001b[39m=\u001b[39m\u001b[39mNone\u001b[39;00m, silent\u001b[39m=\u001b[39m\u001b[39mFalse\u001b[39;00m):\n\u001b[1;32m    736\u001b[0m     message \u001b[39m=\u001b[39m \u001b[39m\"\u001b[39m\u001b[39mFailed to read from defunct connection \u001b[39m\u001b[39m{!r}\u001b[39;00m\u001b[39m (\u001b[39m\u001b[39m{!r}\u001b[39;00m\u001b[39m)\u001b[39m\u001b[39m\"\u001b[39m\u001b[39m.\u001b[39mformat(\n\u001b[1;32m    737\u001b[0m         \u001b[39mself\u001b[39m\u001b[39m.\u001b[39munresolved_address, \u001b[39mself\u001b[39m\u001b[39m.\u001b[39mserver_info\u001b[39m.\u001b[39maddress\n\u001b[1;32m    738\u001b[0m     )\n\u001b[0;32m--> 739\u001b[0m     \u001b[39mself\u001b[39;49m\u001b[39m.\u001b[39;49m_set_defunct(message, error\u001b[39m=\u001b[39;49merror, silent\u001b[39m=\u001b[39;49msilent)\n",
      "File \u001b[0;32m~/.local/lib/python3.8/site-packages/neo4j/_sync/io/_bolt.py:792\u001b[0m, in \u001b[0;36mBolt._set_defunct\u001b[0;34m(self, message, error, silent)\u001b[0m\n\u001b[1;32m    790\u001b[0m \u001b[39melse\u001b[39;00m:\n\u001b[1;32m    791\u001b[0m     \u001b[39mif\u001b[39;00m error:\n\u001b[0;32m--> 792\u001b[0m         \u001b[39mraise\u001b[39;00m SessionExpired(message) \u001b[39mfrom\u001b[39;00m \u001b[39merror\u001b[39;00m\n\u001b[1;32m    793\u001b[0m     \u001b[39melse\u001b[39;00m:\n\u001b[1;32m    794\u001b[0m         \u001b[39mraise\u001b[39;00m SessionExpired(message)\n",
      "\u001b[0;31mSessionExpired\u001b[0m: Failed to read from defunct connection IPv4Address(('localhost', 7687)) (IPv4Address(('127.0.0.1', 7687)))"
     ]
    }
   ],
   "source": [
    "gds.run_cypher(\"\"\"\n",
    "               CALL gds.degree.mutate('popularQuestionAlternatives',\n",
    "                { mutate })\n",
    "                YIELD nodeId, score\n",
    "                WHERE score > 0\n",
    "                RETURN gds.util.asNode(nodeId).name AS name, score AS respondents\n",
    "                ORDER BY respondents ASC, name ASC\n",
    "               \"\"\")"
   ]
  },
  {
   "cell_type": "code",
   "execution_count": null,
   "metadata": {},
   "outputs": [],
   "source": [
    "gds.run_cypher(\"\"\"\n",
    "               CALL gds.degree.stats('popularQuestionAlternatives')\n",
    "               YIELD centralityDistribution\n",
    "               RETURN centralityDistribution.min as minimumScore, centralityDistribution.max as maximumScore, centralityDistribution.mean as meanScore\n",
    "               \"\"\")\n"
   ]
  },
  {
   "cell_type": "code",
   "execution_count": 9,
   "metadata": {},
   "outputs": [
    {
     "data": {
      "text/html": [
       "<div>\n",
       "<style scoped>\n",
       "    .dataframe tbody tr th:only-of-type {\n",
       "        vertical-align: middle;\n",
       "    }\n",
       "\n",
       "    .dataframe tbody tr th {\n",
       "        vertical-align: top;\n",
       "    }\n",
       "\n",
       "    .dataframe thead th {\n",
       "        text-align: right;\n",
       "    }\n",
       "</style>\n",
       "<table border=\"1\" class=\"dataframe\">\n",
       "  <thead>\n",
       "    <tr style=\"text-align: right;\">\n",
       "      <th></th>\n",
       "      <th>name</th>\n",
       "      <th>respondents</th>\n",
       "    </tr>\n",
       "  </thead>\n",
       "  <tbody>\n",
       "    <tr>\n",
       "      <th>0</th>\n",
       "      <td>Nej, det har inte hänt mig</td>\n",
       "      <td>2468.0</td>\n",
       "    </tr>\n",
       "    <tr>\n",
       "      <th>1</th>\n",
       "      <td>Sverige</td>\n",
       "      <td>2458.0</td>\n",
       "    </tr>\n",
       "    <tr>\n",
       "      <th>2</th>\n",
       "      <td>Nej, det har inte hänt mig</td>\n",
       "      <td>2410.0</td>\n",
       "    </tr>\n",
       "    <tr>\n",
       "      <th>3</th>\n",
       "      <td>Nej, det har inte hänt mig</td>\n",
       "      <td>2390.0</td>\n",
       "    </tr>\n",
       "    <tr>\n",
       "      <th>4</th>\n",
       "      <td>Jag har inte varit med och mobbat andra elever...</td>\n",
       "      <td>2387.0</td>\n",
       "    </tr>\n",
       "    <tr>\n",
       "      <th>...</th>\n",
       "      <td>...</td>\n",
       "      <td>...</td>\n",
       "    </tr>\n",
       "    <tr>\n",
       "      <th>5005</th>\n",
       "      <td>None</td>\n",
       "      <td>0.0</td>\n",
       "    </tr>\n",
       "    <tr>\n",
       "      <th>5006</th>\n",
       "      <td>None</td>\n",
       "      <td>0.0</td>\n",
       "    </tr>\n",
       "    <tr>\n",
       "      <th>5007</th>\n",
       "      <td>None</td>\n",
       "      <td>0.0</td>\n",
       "    </tr>\n",
       "    <tr>\n",
       "      <th>5008</th>\n",
       "      <td>None</td>\n",
       "      <td>0.0</td>\n",
       "    </tr>\n",
       "    <tr>\n",
       "      <th>5009</th>\n",
       "      <td>None</td>\n",
       "      <td>0.0</td>\n",
       "    </tr>\n",
       "  </tbody>\n",
       "</table>\n",
       "<p>5010 rows × 2 columns</p>\n",
       "</div>"
      ],
      "text/plain": [
       "                                                   name  respondents\n",
       "0                            Nej, det har inte hänt mig       2468.0\n",
       "1                                               Sverige       2458.0\n",
       "2                            Nej, det har inte hänt mig       2410.0\n",
       "3                            Nej, det har inte hänt mig       2390.0\n",
       "4     Jag har inte varit med och mobbat andra elever...       2387.0\n",
       "...                                                 ...          ...\n",
       "5005                                               None          0.0\n",
       "5006                                               None          0.0\n",
       "5007                                               None          0.0\n",
       "5008                                               None          0.0\n",
       "5009                                               None          0.0\n",
       "\n",
       "[5010 rows x 2 columns]"
      ]
     },
     "execution_count": 9,
     "metadata": {},
     "output_type": "execute_result"
    }
   ],
   "source": [
    "gds.run_cypher(\"\"\"\n",
    "               CALL gds.degree.stream(\n",
    "                    'popularQuestionAlternatives'\n",
    "               )\n",
    "               YIELD nodeId, score\n",
    "               RETURN gds.util.asNode(nodeId).name AS name, score AS respondents\n",
    "               ORDER by respondents DESC, name ASC\n",
    "               \"\"\")"
   ]
  },
  {
   "cell_type": "code",
   "execution_count": 11,
   "metadata": {},
   "outputs": [
    {
     "data": {
      "text/html": [
       "<div>\n",
       "<style scoped>\n",
       "    .dataframe tbody tr th:only-of-type {\n",
       "        vertical-align: middle;\n",
       "    }\n",
       "\n",
       "    .dataframe tbody tr th {\n",
       "        vertical-align: top;\n",
       "    }\n",
       "\n",
       "    .dataframe thead th {\n",
       "        text-align: right;\n",
       "    }\n",
       "</style>\n",
       "<table border=\"1\" class=\"dataframe\">\n",
       "  <thead>\n",
       "    <tr style=\"text-align: right;\">\n",
       "      <th></th>\n",
       "      <th>nodePropertiesWritten</th>\n",
       "    </tr>\n",
       "  </thead>\n",
       "  <tbody>\n",
       "    <tr>\n",
       "      <th>0</th>\n",
       "      <td>5010</td>\n",
       "    </tr>\n",
       "  </tbody>\n",
       "</table>\n",
       "</div>"
      ],
      "text/plain": [
       "   nodePropertiesWritten\n",
       "0                   5010"
      ]
     },
     "execution_count": 11,
     "metadata": {},
     "output_type": "execute_result"
    }
   ],
   "source": [
    "gds.run_cypher(\"\"\"\n",
    "               CALL gds.degree.write(\n",
    "                    'popularQuestionAlternatives',\n",
    "                    { writeProperty: 'nrOfRespondents' }\n",
    "               )\n",
    "               YIELD nodePropertiesWritten\n",
    "               RETURN nodePropertiesWritten\n",
    "               \"\"\")"
   ]
  },
  {
   "cell_type": "code",
   "execution_count": 15,
   "metadata": {},
   "outputs": [
    {
     "data": {
      "text/html": [
       "<div>\n",
       "<style scoped>\n",
       "    .dataframe tbody tr th:only-of-type {\n",
       "        vertical-align: middle;\n",
       "    }\n",
       "\n",
       "    .dataframe tbody tr th {\n",
       "        vertical-align: top;\n",
       "    }\n",
       "\n",
       "    .dataframe thead th {\n",
       "        text-align: right;\n",
       "    }\n",
       "</style>\n",
       "<table border=\"1\" class=\"dataframe\">\n",
       "  <thead>\n",
       "    <tr style=\"text-align: right;\">\n",
       "      <th></th>\n",
       "    </tr>\n",
       "  </thead>\n",
       "  <tbody>\n",
       "  </tbody>\n",
       "</table>\n",
       "</div>"
      ],
      "text/plain": [
       "Empty DataFrame\n",
       "Columns: []\n",
       "Index: []"
      ]
     },
     "execution_count": 15,
     "metadata": {},
     "output_type": "execute_result"
    }
   ],
   "source": [
    "# Create relationship from questionalternative to respondent called CHOSEN_BY if the there already is a relationship between the two nodes called CHOSE. \n",
    "# The relationship CHOSEN_BY will have a property called score which is the same as the property nrOfRespondents on the node QuestionAlternative.\n",
    "gds.run_cypher(\"\"\"\n",
    "                MATCH (q:QuestionAlternative)<-[c:CHOSE]-(r:Respondent)\n",
    "                MERGE (q)-[cb:CHOSEN_BY]->(r)\n",
    "                SET cb.score = q.nrOfRespondents\n",
    "               \"\"\")"
   ]
  },
  {
   "cell_type": "code",
   "execution_count": 21,
   "metadata": {},
   "outputs": [
    {
     "data": {
      "text/html": [
       "<div>\n",
       "<style scoped>\n",
       "    .dataframe tbody tr th:only-of-type {\n",
       "        vertical-align: middle;\n",
       "    }\n",
       "\n",
       "    .dataframe tbody tr th {\n",
       "        vertical-align: top;\n",
       "    }\n",
       "\n",
       "    .dataframe thead th {\n",
       "        text-align: right;\n",
       "    }\n",
       "</style>\n",
       "<table border=\"1\" class=\"dataframe\">\n",
       "  <thead>\n",
       "    <tr style=\"text-align: right;\">\n",
       "      <th></th>\n",
       "      <th>graph</th>\n",
       "    </tr>\n",
       "  </thead>\n",
       "  <tbody>\n",
       "    <tr>\n",
       "      <th>0</th>\n",
       "      <td>203940</td>\n",
       "    </tr>\n",
       "  </tbody>\n",
       "</table>\n",
       "</div>"
      ],
      "text/plain": [
       "    graph\n",
       "0  203940"
      ]
     },
     "execution_count": 21,
     "metadata": {},
     "output_type": "execute_result"
    }
   ],
   "source": [
    "# Create graph on the new relationship CHOSEN_BY\n",
    "\n",
    "gds.run_cypher(\"\"\"\n",
    "               CALL gds.graph.project(\n",
    "                     'outkastRespondents',\n",
    "                     [\"QuestionAlternative\", \"Respondent\"],\n",
    "                     {\n",
    "                            CHOSEN_BY: { \n",
    "                                properties: 'nrOfRespondents'\n",
    "                            }\n",
    "                     }\n",
    "                ) YIELD graphName, nodeCount, relationshipCount\n",
    "                AS graph\n",
    "                RETURN graph\n",
    "               \"\"\")"
   ]
  },
  {
   "cell_type": "code",
   "execution_count": 55,
   "metadata": {},
   "outputs": [
    {
     "data": {
      "text/html": [
       "<div>\n",
       "<style scoped>\n",
       "    .dataframe tbody tr th:only-of-type {\n",
       "        vertical-align: middle;\n",
       "    }\n",
       "\n",
       "    .dataframe tbody tr th {\n",
       "        vertical-align: top;\n",
       "    }\n",
       "\n",
       "    .dataframe thead th {\n",
       "        text-align: right;\n",
       "    }\n",
       "</style>\n",
       "<table border=\"1\" class=\"dataframe\">\n",
       "  <thead>\n",
       "    <tr style=\"text-align: right;\">\n",
       "      <th></th>\n",
       "    </tr>\n",
       "  </thead>\n",
       "  <tbody>\n",
       "  </tbody>\n",
       "</table>\n",
       "</div>"
      ],
      "text/plain": [
       "Empty DataFrame\n",
       "Columns: []\n",
       "Index: []"
      ]
     },
     "execution_count": 55,
     "metadata": {},
     "output_type": "execute_result"
    }
   ],
   "source": [
    "# Create relation HAS_PARTICIPATED between Respondent and Survey. \n",
    "# Currently Respondents have relation HAS_ANSWERED to Question which has \n",
    "# relation HAS_QUESTION to Survey. \n",
    "\n",
    "gds.run_cypher(\"\"\"\n",
    "                MATCH (r:Respondent)-[a:HAS_ANSWERED]->(q:Question)<-[h:HAS_QUESTION]-(s:Survey)\n",
    "                MERGE (r)-[p:HAS_PARTICIPATED]->(s)\n",
    "               \"\"\")"
   ]
  },
  {
   "cell_type": "code",
   "execution_count": 75,
   "metadata": {},
   "outputs": [
    {
     "data": {
      "text/html": [
       "<div>\n",
       "<style scoped>\n",
       "    .dataframe tbody tr th:only-of-type {\n",
       "        vertical-align: middle;\n",
       "    }\n",
       "\n",
       "    .dataframe tbody tr th {\n",
       "        vertical-align: top;\n",
       "    }\n",
       "\n",
       "    .dataframe thead th {\n",
       "        text-align: right;\n",
       "    }\n",
       "</style>\n",
       "<table border=\"1\" class=\"dataframe\">\n",
       "  <thead>\n",
       "    <tr style=\"text-align: right;\">\n",
       "      <th></th>\n",
       "      <th>percentage</th>\n",
       "      <th>name</th>\n",
       "      <th>nrOfRespondents</th>\n",
       "      <th>nrOfRespondentsInSurvey</th>\n",
       "      <th>surveyName</th>\n",
       "    </tr>\n",
       "  </thead>\n",
       "  <tbody>\n",
       "    <tr>\n",
       "      <th>0</th>\n",
       "      <td>0.024691</td>\n",
       "      <td>Stämmer mycket dåligt</td>\n",
       "      <td>2</td>\n",
       "      <td>81</td>\n",
       "      <td>Elevenkät Referensskola</td>\n",
       "    </tr>\n",
       "    <tr>\n",
       "      <th>1</th>\n",
       "      <td>0.358025</td>\n",
       "      <td>Stämmer ganska väl</td>\n",
       "      <td>29</td>\n",
       "      <td>81</td>\n",
       "      <td>Elevenkät Referensskola</td>\n",
       "    </tr>\n",
       "    <tr>\n",
       "      <th>2</th>\n",
       "      <td>0.061728</td>\n",
       "      <td>Stämmer ganska dåligt</td>\n",
       "      <td>5</td>\n",
       "      <td>81</td>\n",
       "      <td>Elevenkät Referensskola</td>\n",
       "    </tr>\n",
       "    <tr>\n",
       "      <th>3</th>\n",
       "      <td>0.037037</td>\n",
       "      <td>Vet inte / Kan inte svara</td>\n",
       "      <td>3</td>\n",
       "      <td>81</td>\n",
       "      <td>Elevenkät Referensskola</td>\n",
       "    </tr>\n",
       "    <tr>\n",
       "      <th>4</th>\n",
       "      <td>0.358025</td>\n",
       "      <td>Stämmer mycket väl</td>\n",
       "      <td>29</td>\n",
       "      <td>81</td>\n",
       "      <td>Elevenkät Referensskola</td>\n",
       "    </tr>\n",
       "    <tr>\n",
       "      <th>...</th>\n",
       "      <td>...</td>\n",
       "      <td>...</td>\n",
       "      <td>...</td>\n",
       "      <td>...</td>\n",
       "      <td>...</td>\n",
       "    </tr>\n",
       "    <tr>\n",
       "      <th>995</th>\n",
       "      <td>0.024349</td>\n",
       "      <td>Jag förstår inte frågan</td>\n",
       "      <td>72</td>\n",
       "      <td>2957</td>\n",
       "      <td>Elevenkät åk 4-6 pilot exkl sexuella trakasserier</td>\n",
       "    </tr>\n",
       "    <tr>\n",
       "      <th>996</th>\n",
       "      <td>0.070680</td>\n",
       "      <td>Vet inte/vill inte svara</td>\n",
       "      <td>209</td>\n",
       "      <td>2957</td>\n",
       "      <td>Elevenkät åk 4-6 pilot exkl sexuella trakasserier</td>\n",
       "    </tr>\n",
       "    <tr>\n",
       "      <th>997</th>\n",
       "      <td>0.189043</td>\n",
       "      <td>Båda föräldrarna är födda i ett annat land</td>\n",
       "      <td>559</td>\n",
       "      <td>2957</td>\n",
       "      <td>Elevenkät åk 4-6 pilot exkl sexuella trakasserier</td>\n",
       "    </tr>\n",
       "    <tr>\n",
       "      <th>998</th>\n",
       "      <td>0.656409</td>\n",
       "      <td>Båda födda i Sverige</td>\n",
       "      <td>1941</td>\n",
       "      <td>2957</td>\n",
       "      <td>Elevenkät åk 4-6 pilot exkl sexuella trakasserier</td>\n",
       "    </tr>\n",
       "    <tr>\n",
       "      <th>999</th>\n",
       "      <td>0.022320</td>\n",
       "      <td>Vet inte/kan inte svara</td>\n",
       "      <td>66</td>\n",
       "      <td>2957</td>\n",
       "      <td>Elevenkät åk 4-6 pilot exkl sexuella trakasserier</td>\n",
       "    </tr>\n",
       "  </tbody>\n",
       "</table>\n",
       "<p>1000 rows × 5 columns</p>\n",
       "</div>"
      ],
      "text/plain": [
       "     percentage                                        name  nrOfRespondents  \\\n",
       "0      0.024691                      Stämmer mycket dåligt                 2   \n",
       "1      0.358025                         Stämmer ganska väl                29   \n",
       "2      0.061728                      Stämmer ganska dåligt                 5   \n",
       "3      0.037037                   Vet inte / Kan inte svara                3   \n",
       "4      0.358025                         Stämmer mycket väl                29   \n",
       "..          ...                                         ...              ...   \n",
       "995    0.024349                     Jag förstår inte frågan               72   \n",
       "996    0.070680                    Vet inte/vill inte svara              209   \n",
       "997    0.189043  Båda föräldrarna är födda i ett annat land              559   \n",
       "998    0.656409                        Båda födda i Sverige             1941   \n",
       "999    0.022320                   Vet inte/kan inte svara                 66   \n",
       "\n",
       "     nrOfRespondentsInSurvey  \\\n",
       "0                         81   \n",
       "1                         81   \n",
       "2                         81   \n",
       "3                         81   \n",
       "4                         81   \n",
       "..                       ...   \n",
       "995                     2957   \n",
       "996                     2957   \n",
       "997                     2957   \n",
       "998                     2957   \n",
       "999                     2957   \n",
       "\n",
       "                                            surveyName  \n",
       "0                              Elevenkät Referensskola  \n",
       "1                              Elevenkät Referensskola  \n",
       "2                              Elevenkät Referensskola  \n",
       "3                              Elevenkät Referensskola  \n",
       "4                              Elevenkät Referensskola  \n",
       "..                                                 ...  \n",
       "995  Elevenkät åk 4-6 pilot exkl sexuella trakasserier  \n",
       "996  Elevenkät åk 4-6 pilot exkl sexuella trakasserier  \n",
       "997  Elevenkät åk 4-6 pilot exkl sexuella trakasserier  \n",
       "998  Elevenkät åk 4-6 pilot exkl sexuella trakasserier  \n",
       "999  Elevenkät åk 4-6 pilot exkl sexuella trakasserier  \n",
       "\n",
       "[1000 rows x 5 columns]"
      ]
     },
     "execution_count": 75,
     "metadata": {},
     "output_type": "execute_result"
    }
   ],
   "source": [
    "# Divide the property nrOfRespondents on the node QuestionAlternative\n",
    "# by the number of Repondents with relation HAS_PARTICIPATED to the Survey\n",
    "# that the Question with relation CONSISTS_OF to said QuestionAlternative\n",
    "# belongs to. This will give us the percentage of Respondents that chose\n",
    "# the QuestionAlternative in relation to the total number of Respondents.\n",
    "\n",
    "#gds.run_cypher(\"\"\"\n",
    "#                MATCH (qa:QuestionAlternative)<-[ch:CHOSE]-(re:Respondent)-[hp:HAS_PARTICIPATED]->(su:Survey)-[hq:HAS_QUESTION]->(qu:Question)-[co:CONSISTS_OF]->(qua:QuestionAlternative)\n",
    "#                WHERE qa.id=qua.id\n",
    "#                return qa.nrOfRespondents / count(re) as percentage, qa.name as name, qa.nrOfRespondents as nrOfRespondents, count(re) as nrOfRespondentsInSurvey, su.name as surveyName\n",
    "#                LIMIT 10;\n",
    "#               \"\"\")\n",
    "\n",
    "# The above gave this result:\n",
    "# \tpercentage\tname\t                    nrOfRespondents\tnrOfRespondentsInSurvey\tsurveyName\n",
    "# 0\t1.000000\tStämmer mycket väl\t        24.0\t        24\t                    Elevenkät Referensskola\n",
    "# 1\t0.500000\tNej, det har inte hänt mig\t54.0\t        108\t                    Elevenkät Referensskola\n",
    "# \n",
    "# nrOfRespondentsInSurvey is wrong since the both rows contain the same survey but nrOfRespondentsInSurvey is 24 and 108 respectively.\n",
    "# Do a query where the nrOfRespondentsInSurvey actually is correct.\n",
    "\n",
    "gds.run_cypher(\"\"\"\n",
    "                MATCH (su:Survey)-[:HAS_QUESTION]->(qu:Question)-[:CONSISTS_OF]->(qa:QuestionAlternative)<-[:CHOSE]-(re:Respondent)-[:HAS_PARTICIPATED]->(su)\n",
    "                WITH su, count(DISTINCT re) as nrOfRespondentsInSurvey\n",
    "                MATCH (su)-[:HAS_QUESTION]->(qu:Question)-[:CONSISTS_OF]->(qa:QuestionAlternative)<-[:CHOSE]-(re2:Respondent)-[:HAS_PARTICIPATED]->(su)\n",
    "                WITH su, qa, nrOfRespondentsInSurvey, count(re2) as nrOfRespondents\n",
    "                RETURN nrOfRespondents * 1.0 / nrOfRespondentsInSurvey as percentage, qa.name as name, nrOfRespondents as nrOfRespondents, nrOfRespondentsInSurvey, su.name as surveyName\n",
    "                LIMIT 1000;\n",
    "               \"\"\") \n"
   ]
  },
  {
   "cell_type": "code",
   "execution_count": null,
   "metadata": {},
   "outputs": [],
   "source": [
    "gds.run_cypher(\"\"\"\n",
    "                MATCH (su:Survey)-[:HAS_QUESTION]->(qu:Question)-[:CONSISTS_OF]->(qa:QuestionAlternative)\n",
    "                WITH su, qa, qa.nrOfRespondents as nrOfRespondents\n",
    "                SET qa.percentageOfRespondents = nrOfRespondents * 1.0 / su.totalParticipants\n",
    "                RETURN qa.name as questionAlternativeName, qa.percentageOfRespondents as percentageOfRespondents, su.name as surveyName;\n",
    "                \"\"\")"
   ]
  }
 ],
 "metadata": {
  "kernelspec": {
   "display_name": "Python 3",
   "language": "python",
   "name": "python3"
  },
  "language_info": {
   "codemirror_mode": {
    "name": "ipython",
    "version": 3
   },
   "file_extension": ".py",
   "mimetype": "text/x-python",
   "name": "python",
   "nbconvert_exporter": "python",
   "pygments_lexer": "ipython3",
   "version": "3.8.10"
  },
  "orig_nbformat": 4
 },
 "nbformat": 4,
 "nbformat_minor": 2
}
