{
 "cells": [
  {
   "attachments": {},
   "cell_type": "markdown",
   "metadata": {},
   "source": [
    "# PageRank"
   ]
  },
  {
   "cell_type": "code",
   "execution_count": 2,
   "metadata": {},
   "outputs": [
    {
     "data": {
      "text/plain": [
       "'2.3.2'"
      ]
     },
     "execution_count": 2,
     "metadata": {},
     "output_type": "execute_result"
    }
   ],
   "source": [
    "from databaseconnection import DatabaseConnection\n",
    "gds = DatabaseConnection().get_database_connection()\n",
    "gds.version()"
   ]
  },
  {
   "cell_type": "code",
   "execution_count": null,
   "metadata": {},
   "outputs": [],
   "source": [
    "# gds.run_cypher(\"\"\"\n",
    "#                CALL gds.graph.project(\n",
    "#                    'popularQuestionAlternatives',\n",
    "#                    ['QuestionAlternative', 'Respondent'],\n",
    "#                    {\n",
    "#                         CHOSE: {\n",
    "#                             orientation: 'REVERSE'\n",
    "#                         }\n",
    "#                    }\n",
    "#                )\n",
    "#                \"\"\")"
   ]
  },
  {
   "cell_type": "code",
   "execution_count": null,
   "metadata": {},
   "outputs": [],
   "source": [
    "# gds.run_cypher(\"\"\"\n",
    "#                CALL gds.degree.write.estimate('popularQuestionAlternatives', \n",
    "#                { writeProperty: 'degree' })\n",
    "#                YIELD nodeCount, relationshipCount, bytesMin, bytesMax, requiredMemory\n",
    "#                \"\"\")"
   ]
  },
  {
   "cell_type": "code",
   "execution_count": null,
   "metadata": {},
   "outputs": [],
   "source": [
    "# gds.run_cypher(\"\"\"\n",
    "#                CALL gds.graph.relationshipProperties.write('popularQuestionAlternatives', {\n",
    "#                      relationshipProperties: {\n",
    "#                             CHOSE: {\n",
    "#                                 property: 'score',\n",
    "#                                 defaultValue: 1.0\n",
    "#                             }\n",
    "#                         }\n",
    "#                     })\n",
    "#                \"\"\")"
   ]
  },
  {
   "cell_type": "code",
   "execution_count": null,
   "metadata": {},
   "outputs": [],
   "source": [
    "gds.run_cypher(\"\"\"\n",
    "               CALL gds.degree.mutate('popularQuestionAlternatives',\n",
    "                { mutate })\n",
    "                YIELD nodeId, score\n",
    "                WHERE score > 0\n",
    "                RETURN gds.util.asNode(nodeId).name AS name, score AS respondents\n",
    "                ORDER BY respondents ASC, name ASC\n",
    "               \"\"\")"
   ]
  },
  {
   "cell_type": "code",
   "execution_count": null,
   "metadata": {},
   "outputs": [],
   "source": [
    "gds.run_cypher(\"\"\"\n",
    "               CALL gds.degree.stats('popularQuestionAlternatives')\n",
    "               YIELD centralityDistribution\n",
    "               RETURN centralityDistribution.min as minimumScore, centralityDistribution.max as maximumScore, centralityDistribution.mean as meanScore\n",
    "               \"\"\")\n"
   ]
  },
  {
   "cell_type": "code",
   "execution_count": null,
   "metadata": {},
   "outputs": [],
   "source": [
    "gds.run_cypher(\"\"\"\n",
    "               CALL gds.degree.stream(\n",
    "                    'popularQuestionAlternatives'\n",
    "               )\n",
    "               YIELD nodeId, score\n",
    "               RETURN gds.util.asNode(nodeId).name AS name, score AS respondents\n",
    "               ORDER by respondents DESC, name ASC\n",
    "               \"\"\")"
   ]
  },
  {
   "cell_type": "code",
   "execution_count": null,
   "metadata": {},
   "outputs": [],
   "source": [
    "gds.run_cypher(\"\"\"\n",
    "               CALL gds.degree.write(\n",
    "                    'popularQuestionAlternatives',\n",
    "                    { writeProperty: 'nrOfRespondents' }\n",
    "               )\n",
    "               YIELD nodePropertiesWritten\n",
    "               RETURN nodePropertiesWritten\n",
    "               \"\"\")"
   ]
  },
  {
   "cell_type": "code",
   "execution_count": null,
   "metadata": {},
   "outputs": [],
   "source": [
    "# Create relationship from questionalternative to respondent called CHOSEN_BY if the there already is a relationship between the two nodes called CHOSE. \n",
    "# The relationship CHOSEN_BY will have a property called score which is the same as the property nrOfRespondents on the node QuestionAlternative.\n",
    "gds.run_cypher(\"\"\"\n",
    "                MATCH (q:QuestionAlternative)<-[c:CHOSE]-(r:Respondent)\n",
    "                MERGE (q)-[cb:CHOSEN_BY]->(r)\n",
    "                SET cb.score = q.nrOfRespondents\n",
    "               \"\"\")"
   ]
  },
  {
   "cell_type": "code",
   "execution_count": null,
   "metadata": {},
   "outputs": [],
   "source": [
    "# Create graph on the new relationship CHOSEN_BY\n",
    "\n",
    "gds.run_cypher(\"\"\"\n",
    "               CALL gds.graph.project(\n",
    "                     'outkastRespondents',\n",
    "                     [\"QuestionAlternative\", \"Respondent\"],\n",
    "                     {\n",
    "                            CHOSEN_BY: { \n",
    "                                properties: 'nrOfRespondents'\n",
    "                            }\n",
    "                     }\n",
    "                ) YIELD graphName, nodeCount, relationshipCount\n",
    "                AS graph\n",
    "                RETURN graph\n",
    "               \"\"\")"
   ]
  },
  {
   "attachments": {},
   "cell_type": "markdown",
   "metadata": {},
   "source": [
    "## Create a relation between Respondent and Survey: HAS_PARTICIPATED"
   ]
  },
  {
   "cell_type": "code",
   "execution_count": null,
   "metadata": {},
   "outputs": [],
   "source": [
    "\n",
    "\n",
    "gds.run_cypher(\"\"\"\n",
    "                MATCH (su:Survey)-[:HAS_QUESTION]->(qu:Question)-[:CONSISTS_OF]->(qa:QuestionAlternative)<-[:CHOSE]-(re:Respondent)\n",
    "                MERGE (re)-[:HAS_PARTICIPATED]->(su);\n",
    "               \"\"\")"
   ]
  },
  {
   "attachments": {},
   "cell_type": "markdown",
   "metadata": {},
   "source": [
    "## Give each QuestionAlternative a percentage of the total repsondents who chose it."
   ]
  },
  {
   "cell_type": "code",
   "execution_count": null,
   "metadata": {},
   "outputs": [],
   "source": [
    "gds.run_cypher(\"\"\"\n",
    "                MATCH (su:Survey)-[:HAS_QUESTION]->(qu:Question)-[:CONSISTS_OF]->(qa:QuestionAlternative)\n",
    "                WITH su, qa, qa.nrOfRespondents as nrOfRespondents\n",
    "                SET qa.percentageOfRespondents = nrOfRespondents * 1.0 / su.totalParticipants\n",
    "                RETURN qa.name as questionAlternativeName, qa.percentageOfRespondents as percentageOfRespondents, su.name as surveyName;\n",
    "                \"\"\")"
   ]
  },
  {
   "attachments": {},
   "cell_type": "markdown",
   "metadata": {},
   "source": [
    "## Create a normality index."
   ]
  },
  {
   "cell_type": "code",
   "execution_count": null,
   "metadata": {},
   "outputs": [],
   "source": [
    "gds.run_cypher(\"\"\"\n",
    "                MATCH (re:Respondent)-[:CHOSE]->(qa:QuestionAlternative)\n",
    "                WITH re, AVG(qa.percentageOfRespondents) as normalityIndex\n",
    "                SET re.normalityIndex = normalityIndex\n",
    "                RETURN re.id as respondentId, re.normalityIndex as normalityIndex\n",
    "                ORDER BY normalityIndex;\n",
    "               \"\"\")\n"
   ]
  },
  {
   "cell_type": "code",
   "execution_count": null,
   "metadata": {},
   "outputs": [],
   "source": []
  }
 ],
 "metadata": {
  "kernelspec": {
   "display_name": "Python 3",
   "language": "python",
   "name": "python3"
  },
  "language_info": {
   "codemirror_mode": {
    "name": "ipython",
    "version": 3
   },
   "file_extension": ".py",
   "mimetype": "text/x-python",
   "name": "python",
   "nbconvert_exporter": "python",
   "pygments_lexer": "ipython3",
   "version": "3.8.10"
  },
  "orig_nbformat": 4
 },
 "nbformat": 4,
 "nbformat_minor": 2
}
