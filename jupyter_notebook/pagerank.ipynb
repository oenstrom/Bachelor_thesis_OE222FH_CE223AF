{
 "cells": [
  {
   "attachments": {},
   "cell_type": "markdown",
   "metadata": {},
   "source": [
    "# PageRank"
   ]
  },
  {
   "cell_type": "code",
   "execution_count": null,
   "metadata": {},
   "outputs": [],
   "source": [
    "from databaseconnection import DatabaseConnection\n",
    "gds = DatabaseConnection().get_database_connection()"
   ]
  },
  {
   "cell_type": "code",
   "execution_count": null,
   "metadata": {},
   "outputs": [],
   "source": [
    "gds.run_cypher(\"\"\"\n",
    "               CALL gds.graph.project(\n",
    "                   'popularQuestionAlternatives',\n",
    "                   ['QuestionAlternative', 'Respondent'],\n",
    "                   {\n",
    "                        CHOSE: {\n",
    "                            orientation: 'REVERSE'\n",
    "                        }\n",
    "                   }\n",
    "               )\n",
    "               \"\"\")"
   ]
  },
  {
   "cell_type": "code",
   "execution_count": null,
   "metadata": {},
   "outputs": [],
   "source": [
    "gds.run_cypher(\"\"\"\n",
    "               CALL gds.degree.write.estimate('popularQuestionAlternatives', \n",
    "               { writeProperty: 'degree' })\n",
    "               YIELD nodeCount, relationshipCount, bytesMin, bytesMax, requiredMemory\n",
    "               \"\"\")"
   ]
  },
  {
   "cell_type": "code",
   "execution_count": null,
   "metadata": {},
   "outputs": [],
   "source": [
    "gds.run_cypher(\"\"\"\n",
    "               CALL gds.graph.relationshipProperties.write('popularQuestionAlternatives', {\n",
    "                     relationshipProperties: {\n",
    "                            CHOSE: {\n",
    "                                property: 'weight',\n",
    "                                defaultValue: 1.0\n",
    "                            }\n",
    "               \"\"\")"
   ]
  },
  {
   "cell_type": "code",
   "execution_count": null,
   "metadata": {},
   "outputs": [],
   "source": [
    "gds.run_cypher(\"\"\"\n",
    "               CALL gds.degree.mutate('popularQuestionAlternatives',\n",
    "                { mutate })\n",
    "                YIELD nodeId, score\n",
    "                WHERE score > 0\n",
    "                RETURN gds.util.asNode(nodeId).name AS name, score AS respondents\n",
    "                ORDER BY respondents ASC, name ASC\n",
    "               \"\"\")"
   ]
  },
  {
   "cell_type": "code",
   "execution_count": null,
   "metadata": {},
   "outputs": [],
   "source": [
    "gds.run_cypher(\"\"\"\n",
    "               CALL gds.degree.stats('popularQuestionAlternatives')\n",
    "               YIELD centralityDistribution\n",
    "               RETURN centralityDistribution.min as minimumScore, centralityDistribution.max as maximumScore, centralityDistribution.mean as meanScore\n",
    "               \"\"\")\n"
   ]
  },
  {
   "cell_type": "code",
   "execution_count": null,
   "metadata": {},
   "outputs": [],
   "source": [
    "gds.run_cypher(\"\"\"\n",
    "               CALL gds.degree.stream(\n",
    "                    'popularQuestionAlternatives',\n",
    "                    { relationshipWeightProperty: 'score' }\n",
    "               )\n",
    "               YIELD nodeId, score\n",
    "               RETURN gds.util.asNode(nodeId).name AS name, score AS weightedRespondents\n",
    "               ORDER by weightedRespondents DESC, name ASC\n",
    "               \"\"\")"
   ]
  }
 ],
 "metadata": {
  "kernelspec": {
   "display_name": "Python 3",
   "language": "python",
   "name": "python3"
  },
  "language_info": {
   "codemirror_mode": {
    "name": "ipython",
    "version": 3
   },
   "file_extension": ".py",
   "mimetype": "text/x-python",
   "name": "python",
   "nbconvert_exporter": "python",
   "pygments_lexer": "ipython3",
   "version": "3.8.10"
  },
  "orig_nbformat": 4
 },
 "nbformat": 4,
 "nbformat_minor": 2
}
