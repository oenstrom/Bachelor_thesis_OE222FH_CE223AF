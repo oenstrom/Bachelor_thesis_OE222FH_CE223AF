{
 "cells": [
  {
   "attachments": {},
   "cell_type": "markdown",
   "metadata": {},
   "source": [
    "# Plotting communities\n",
    "\n",
    "Communities are created in Neo4j using various communit detection algorithms. The results of these algorithms are stored in the database as a property of the nodes. This notebook shows how to plot these communities using the Neo4j graph algorithms library."
   ]
  },
  {
   "cell_type": "code",
   "execution_count": 2,
   "metadata": {},
   "outputs": [
    {
     "data": {
      "text/plain": [
       "'2.3.2'"
      ]
     },
     "execution_count": 2,
     "metadata": {},
     "output_type": "execute_result"
    }
   ],
   "source": [
    "from pandas                 import DataFrame as df\n",
    "from databaseconnection     import DatabaseConnection\n",
    "import pandas               as pd\n",
    "import numpy                as np\n",
    "import seaborn              as sns\n",
    "import matplotlib.pyplot    as plt\n",
    "\n",
    "gds = DatabaseConnection().get_database_connection()\n",
    "gds.version()\n"
   ]
  },
  {
   "attachments": {},
   "cell_type": "markdown",
   "metadata": {},
   "source": [
    "### Query data from Neo4j\n",
    "\n",
    "First we need to connect to the Neo4j database and query the data we want to plot. The data will be stored in a pandas dataframe."
   ]
  },
  {
   "cell_type": "code",
   "execution_count": 11,
   "metadata": {},
   "outputs": [
    {
     "name": "stdout",
     "output_type": "stream",
     "text": [
      "Number of students:  3039\n",
      "0       (louvainId_similarity_pos_prop, normalityIndex...\n",
      "1       (louvainId_similarity_pos_prop, normalityIndex...\n",
      "2       (louvainId_similarity_pos_prop, normalityIndex...\n",
      "3       (louvainId_similarity_pos_prop, normalityIndex...\n",
      "4       (louvainId_similarity_pos_prop, normalityIndex...\n",
      "                              ...                        \n",
      "3034    (louvainId_similarity_pos_prop, normalityIndex...\n",
      "3035    (louvainId_similarity_pos_prop, normalityIndex...\n",
      "3036    (louvainId_similarity_pos_prop, normalityIndex...\n",
      "3037    (louvainId_similarity_pos_prop, normalityIndex...\n",
      "3038    (louvainId_similarity_pos_prop, normalityIndex...\n",
      "Name: student, Length: 3039, dtype: object\n",
      "                                        id  normalityIndex  \\\n",
      "0     8931d1bb-ecf8-4031-82c9-5de135419799        0.473539   \n",
      "1     60ff73a9-822e-439e-a47e-37e0a7621c1c        0.453208   \n",
      "2     adbd7cd8-d1a7-4058-9645-c0147709a04c        0.310547   \n",
      "3     eddb206a-f611-4c55-95ff-8e4d50efb2be        0.487507   \n",
      "4     05dd4709-0fb6-43b4-9503-8832436c70ae        0.100651   \n",
      "...                                    ...             ...   \n",
      "3034  15afbdc8-a3b1-4f15-a777-40244f455a2f        0.399995   \n",
      "3035  24ed7c28-18db-4603-b386-91f44a6fc133        0.371312   \n",
      "3036  046f9d84-1f54-4449-bccd-0bfc06483a08        0.318076   \n",
      "3037  3169abe7-1372-4ae3-9bb7-ef67040a5d0e        0.450788   \n",
      "3038  ab4164d8-1b3c-4cb3-93aa-2462e66a70d0        0.349187   \n",
      "\n",
      "      louvainId_pos_prop  lpaId_pos_prop  wccId_pos_prop  \n",
      "0                    720            6973             700  \n",
      "1                    718            6973             700  \n",
      "2                    710            6973             700  \n",
      "3                    718            6973             700  \n",
      "4                    720            6973             700  \n",
      "...                  ...             ...             ...  \n",
      "3034                1513           13086               0  \n",
      "3035                1513           13086               0  \n",
      "3036                1513           13086               0  \n",
      "3037                1513           13086               0  \n",
      "3038                1513           13086               0  \n",
      "\n",
      "[3039 rows x 5 columns]\n"
     ]
    }
   ],
   "source": [
    "students = gds.run_cypher(\"MATCH (student:Student) RETURN student\")[\"student\"]\n",
    "\n",
    "print(\"Number of students: \", len(students))\n",
    "print(students)\n",
    "\n",
    "# Convert the respondents Series to a DataFrame\n",
    "students_data = []\n",
    "for student in students:\n",
    "    students_data.append({'id': student['id'], 'normalityIndex': student[\"normalityIndex\"], 'louvainId_pos_prop': student[\"louvainId_pos_prop\"],\n",
    "                            'lpaId_pos_prop': student['lpaId_pos_prop'], 'wccId_pos_prop': student['wccId_pos_prop']})\n",
    "\n",
    "students_df = df(students_data)\n",
    "\n",
    "print(students_df)"
   ]
  },
  {
   "attachments": {},
   "cell_type": "markdown",
   "metadata": {},
   "source": [
    "### Plotting Louvain communities"
   ]
  },
  {
   "cell_type": "code",
   "execution_count": 57,
   "metadata": {},
   "outputs": [
    {
     "name": "stdout",
     "output_type": "stream",
     "text": [
      "                 mean_normality_index  community_sizes\n",
      "715                          0.439701               23\n",
      "718                          0.433991               24\n",
      "1491                         0.309071              271\n",
      "1507                         0.247497               14\n",
      "1510                         0.358498               24\n",
      "1511                         0.195936               22\n",
      "1512                         0.358257              276\n",
      "1513                         0.400085             2097\n",
      "1514                         0.341958              167\n",
      "1515                         0.300029               54\n",
      "1516                         0.419937               12\n",
      "small community              0.340880               55\n"
     ]
    },
    {
     "data": {
      "image/png": "[encoded data removed]",
      "text/plain": [
       "<Figure size 432x288 with 1 Axes>"
      ]
     },
     "metadata": {
      "needs_background": "light"
     },
     "output_type": "display_data"
    },
    {
     "data": {
      "image/png": "[encoded data removed]",
      "text/plain": [
       "<Figure size 432x288 with 1 Axes>"
      ]
     },
     "metadata": {
      "needs_background": "light"
     },
     "output_type": "display_data"
    },
    {
     "data": {
      "image/png": "[encoded data removed]",
      "text/plain": [
       "<Figure size 432x288 with 1 Axes>"
      ]
     },
     "metadata": {
      "needs_background": "light"
     },
     "output_type": "display_data"
    }
   ],
   "source": [
    "\n",
    "# Create a community for all students in communities with less than 2 students. Move all students in these communities to the new community.\n",
    "# This is done to make the plot more readable.\n",
    "\n",
    "# Get the number of students in each community\n",
    "community_sizes = students_df['louvainId_pos_prop'].value_counts()\n",
    "\n",
    "# Get the communities with less than 2 students\n",
    "small_communities = community_sizes[community_sizes < 10]\n",
    "\n",
    "# Create a new community for all students in the small communities\n",
    "students_df.loc[students_df['louvainId_pos_prop'].isin(small_communities.index), 'louvainId_pos_prop'] = 'small community'\n",
    "\n",
    "# Calculate the mean normalityIndex for each Louvain community\n",
    "mean_normality_index = students_df.groupby('louvainId_pos_prop')['normalityIndex'].mean()\n",
    "\n",
    "# Do a scatterplot where x-axis is the mean normalityIndex for the community and y-axis is the size of the community\n",
    "# and color of the dot is the label of the community\n",
    "\n",
    "community_sizes = students_df['louvainId_pos_prop'].value_counts()\n",
    "\n",
    "louvain_communities_df = df({'mean_normality_index': mean_normality_index, 'community_sizes': community_sizes})\n",
    "\n",
    "communities = students_df['louvainId_pos_prop'].unique()\n",
    "colors = sns.color_palette(\"tab20\", len(communities))\n",
    "communities_color_map = dict(zip(communities, colors))\n",
    "\n",
    "\n",
    "print(louvain_communities_df)\n",
    "\n",
    "\n",
    "\n",
    "# Scatter plot\n",
    "plt.figure()\n",
    "for community, color in communities_color_map.items():\n",
    "    subset = louvain_communities_df[louvain_communities_df.index == community]\n",
    "    plt.scatter(subset['mean_normality_index'], subset['community_sizes'], c=[color], label=community)\n",
    "plt.title('Scatter Plot')\n",
    "plt.xlabel('Mean Normality Index')\n",
    "plt.ylabel('Community Sizes')\n",
    "plt.legend(title='Communities', bbox_to_anchor=(1.05, 1), loc='upper left')\n",
    "plt.yscale('log')\n",
    "plt.show()\n",
    "\n",
    "# Bar plot\n",
    "plt.figure()\n",
    "sns.barplot(x=louvain_communities_df.index, y='community_sizes', data=louvain_communities_df, palette=\"viridis\")\n",
    "plt.title('Bar Plot')\n",
    "plt.xlabel('Index')\n",
    "plt.ylabel('Community Sizes')\n",
    "plt.xticks(rotation=90)\n",
    "plt.yscale('log')\n",
    "plt.show()\n",
    "\n",
    "# Box plot\n",
    "plt.figure()\n",
    "sns.boxplot(y='community_sizes', data=louvain_communities_df)\n",
    "plt.title('Box Plot')\n",
    "plt.ylabel('Community Sizes')\n",
    "plt.yscale('log')\n",
    "plt.show()\n",
    "\n"
   ]
  }
 ],
 "metadata": {
  "kernelspec": {
   "display_name": "Python 3",
   "language": "python",
   "name": "python3"
  },
  "language_info": {
   "codemirror_mode": {
    "name": "ipython",
    "version": 3
   },
   "file_extension": ".py",
   "mimetype": "text/x-python",
   "name": "python",
   "nbconvert_exporter": "python",
   "pygments_lexer": "ipython3",
   "version": "3.8.10"
  },
  "orig_nbformat": 4
 },
 "nbformat": 4,
 "nbformat_minor": 2
}
