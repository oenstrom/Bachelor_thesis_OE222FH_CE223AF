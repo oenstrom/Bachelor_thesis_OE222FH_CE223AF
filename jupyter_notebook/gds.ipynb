{
 "cells": [
  {
   "attachments": {},
   "cell_type": "markdown",
   "metadata": {},
   "source": [
    "Create .env file in the same directory as the notebook and add the following lines:\n",
    "\n",
    "```env\n",
    "NEO4J_USERNAME=your_username\n",
    "NEO4J_PASSWORD=your_password\n",
    "NEO4J_ENDPOINT=your_endpoint\n",
    "```"
   ]
  },
  {
   "attachments": {},
   "cell_type": "markdown",
   "metadata": {},
   "source": [
    "Install python dependencies."
   ]
  },
  {
   "cell_type": "code",
   "execution_count": null,
   "metadata": {
    "vscode": {
     "languageId": "powershell"
    }
   },
   "outputs": [],
   "source": [
    "pip install -r requirements.txt"
   ]
  },
  {
   "attachments": {},
   "cell_type": "markdown",
   "metadata": {},
   "source": [
    "Connect to database."
   ]
  },
  {
   "cell_type": "code",
   "execution_count": null,
   "metadata": {},
   "outputs": [],
   "source": [
    "from databaseconnection import DatabaseConnection\n",
    "gds = DatabaseConnection().get_database_connection()\n",
    "gds.version()"
   ]
  },
  {
   "attachments": {},
   "cell_type": "markdown",
   "metadata": {},
   "source": [
    "Should show a version number if connection to database is successful."
   ]
  },
  {
   "attachments": {},
   "cell_type": "markdown",
   "metadata": {},
   "source": [
    "https://github.com/neo4j/graph-data-science-client/blob/main/examples/fastrp-and-knn.ipynb"
   ]
  },
  {
   "cell_type": "code",
   "execution_count": null,
   "metadata": {},
   "outputs": [],
   "source": [
    "node_projection = {\n",
    "    \"Respondent\": {},\n",
    "    \"QuestionAlternative\": { \"properties\": { \"position\": { \"defaultValue\": 0 }}}\n",
    "}\n",
    "relationship_projection = \"CHOSE\""
   ]
  },
  {
   "cell_type": "code",
   "execution_count": null,
   "metadata": {},
   "outputs": [],
   "source": [
    "G, result = gds.graph.project(\"respondentAnswer\", node_projection, relationship_projection)\n",
    "\n",
    "print(f\"The projection took {result['projectMillis']} ms\")\n",
    "print(f\"Graph '{G.name()}' node count: {G.node_count()}\")\n",
    "print(f\"Graph '{G.name()}' node labels: {G.node_labels()}\")"
   ]
  },
  {
   "cell_type": "code",
   "execution_count": null,
   "metadata": {},
   "outputs": [],
   "source": [
    "result = gds.fastRP.mutate(\n",
    "    G,\n",
    "    mutateProperty='embedding',\n",
    "    randomSeed=42,\n",
    "    embeddingDimension=128,\n",
    "    iterationWeights=[0.8, 1, 1, 1, 1, 1, 1, 1, 1, 1]\n",
    ")\n",
    "print(f\"Number of embedding vectors produced: {result['nodePropertiesWritten']}\")"
   ]
  },
  {
   "cell_type": "code",
   "execution_count": null,
   "metadata": {},
   "outputs": [],
   "source": [
    "result = gds.knn.write(\n",
    "    G,\n",
    "    topK=2,\n",
    "    nodeProperties=[\"embedding\"],\n",
    "    randomSeed=42,\n",
    "    concurrency=1,\n",
    "    sampleRate=1.0,\n",
    "    deltaThreshold=0.0,\n",
    "    writeRelationshipType=\"SIMILAR\",\n",
    "    writeProperty=\"score\",\n",
    ")\n",
    "\n",
    "print(f\"Relationships produced: {result['relationshipsWritten']}\")\n",
    "print(f\"Nodes compared: {result['nodesCompared']}\")\n",
    "print(f\"Mean similarity: {result['similarityDistribution']['mean']}\")"
   ]
  },
  {
   "cell_type": "code",
   "execution_count": null,
   "metadata": {},
   "outputs": [],
   "source": [
    "gds.run_cypher(\n",
    "    \"\"\"\n",
    "        MATCH (p1:Respondent)-[r:SIMILAR]->(p2:Respondent)\n",
    "        WHERE r.score > 0.0\n",
    "        RETURN p1.id AS person1, p2.id AS person2, r.score AS similarity\n",
    "        ORDER BY similarity DESCENDING, person1, person2\n",
    "    \"\"\"\n",
    ")"
   ]
  },
  {
   "cell_type": "code",
   "execution_count": null,
   "metadata": {},
   "outputs": [],
   "source": [
    "result = gds.run_cypher(\"\"\"\n",
    "    MATCH (r:Respondent)-[ha:HAS_ANSWERED]-(q:Question)\n",
    "    WHERE r.id = '55134294-48bc-4e6a-8fa5-41d7ae3b7a70'\n",
    "    OR r.id = 'b145c256-954c-4108-b1f5-a8eb19ee3e50'\n",
    "    RETURN r.id as respondent, q.name AS question;\n",
    "\"\"\")\n",
    "\n",
    "for ix, row in enumerate(result['question']):\n",
    "    print(ix, result['respondent'][ix], row)"
   ]
  },
  {
   "cell_type": "code",
   "execution_count": null,
   "metadata": {},
   "outputs": [],
   "source": [
    "for i, q in enumerate(result['question']):\n",
    "    for j, p in enumerate(result['question']):\n",
    "        if i == j:\n",
    "            continue\n",
    "        if q == p:\n",
    "            print(f\"\"\"\n",
    "            {i} and {j} have the same question:\n",
    "            Question: {q}\n",
    "            \"\"\")"
   ]
  }
 ],
 "metadata": {
  "kernelspec": {
   "display_name": ".venv",
   "language": "python",
   "name": "python3"
  },
  "language_info": {
   "codemirror_mode": {
    "name": "ipython",
    "version": 3
   },
   "file_extension": ".py",
   "mimetype": "text/x-python",
   "name": "python",
   "nbconvert_exporter": "python",
   "pygments_lexer": "ipython3",
   "version": "3.8.10"
  },
  "orig_nbformat": 4
 },
 "nbformat": 4,
 "nbformat_minor": 2
}
