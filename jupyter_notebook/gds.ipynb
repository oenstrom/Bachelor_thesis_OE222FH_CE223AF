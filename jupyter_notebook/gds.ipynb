{
 "cells": [
  {
   "attachments": {},
   "cell_type": "markdown",
   "metadata": {},
   "source": [
    "Create .env file in the same directory as the notebook and add the following lines:\n",
    "\n",
    "```env\n",
    "USERNAME=your_username\n",
    "PASSWORD=your_password\n",
    "ENDPOINT=your_endpoint\n",
    "```"
   ]
  },
  {
   "attachments": {},
   "cell_type": "markdown",
   "metadata": {},
   "source": [
    "Install python dependencies."
   ]
  },
  {
   "cell_type": "code",
   "execution_count": null,
   "metadata": {
    "vscode": {
     "languageId": "powershell"
    }
   },
   "outputs": [],
   "source": [
    "pip install -r requirements.txt"
   ]
  },
  {
   "attachments": {},
   "cell_type": "markdown",
   "metadata": {},
   "source": [
    "Connect to database."
   ]
  },
  {
   "cell_type": "code",
   "execution_count": null,
   "metadata": {},
   "outputs": [],
   "source": [
    "import os\n",
    "from graphdatascience       import GraphDataScience\n",
    "from dotenv                 import load_dotenv\n",
    "\n",
    "load_dotenv()\n",
    "\n",
    "gds = GraphDataScience(os.environ[\"ENDPOINT\"],\n",
    "                       auth=(os.environ[\"USERNAME\"], os.environ[\"PASSWORD\"]))\n",
    "\n",
    "gds.set_database(\"neo4j\")\n",
    "print(gds.version())"
   ]
  },
  {
   "attachments": {},
   "cell_type": "markdown",
   "metadata": {},
   "source": [
    "Should show a version number if connection to database is successful."
   ]
  }
 ],
 "metadata": {
  "kernelspec": {
   "display_name": ".venv",
   "language": "python",
   "name": "python3"
  },
  "language_info": {
   "codemirror_mode": {
    "name": "ipython",
    "version": 3
   },
   "file_extension": ".py",
   "mimetype": "text/x-python",
   "name": "python",
   "nbconvert_exporter": "python",
   "pygments_lexer": "ipython3",
   "version": "3.8.10"
  },
  "orig_nbformat": 4
 },
 "nbformat": 4,
 "nbformat_minor": 2
}
