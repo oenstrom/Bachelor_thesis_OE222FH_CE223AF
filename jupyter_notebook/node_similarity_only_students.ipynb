{
 "cells": [
  {
   "attachments": {},
   "cell_type": "markdown",
   "metadata": {},
   "source": [
    "Create .env file in the same directory as the notebook and add the following lines:\n",
    "\n",
    "```env\n",
    "NEO4J_USERNAME=your_username\n",
    "NEO4J_PASSWORD=your_password\n",
    "NEO4J_ENDPOINT=your_endpoint\n",
    "```"
   ]
  },
  {
   "attachments": {},
   "cell_type": "markdown",
   "metadata": {},
   "source": [
    "Install python dependencies."
   ]
  },
  {
   "cell_type": "code",
   "execution_count": null,
   "metadata": {
    "vscode": {
     "languageId": "powershell"
    }
   },
   "outputs": [],
   "source": [
    "pip install -r requirements.txt"
   ]
  },
  {
   "attachments": {},
   "cell_type": "markdown",
   "metadata": {},
   "source": [
    "Connect to database."
   ]
  },
  {
   "cell_type": "code",
   "execution_count": 1,
   "metadata": {},
   "outputs": [
    {
     "data": {
      "text/plain": [
       "'2.3.2'"
      ]
     },
     "execution_count": 1,
     "metadata": {},
     "output_type": "execute_result"
    }
   ],
   "source": [
    "from databaseconnection import DatabaseConnection\n",
    "gds = DatabaseConnection().get_database_connection()\n",
    "gds.version()"
   ]
  },
  {
   "attachments": {},
   "cell_type": "markdown",
   "metadata": {},
   "source": [
    "Should show a version number if connection to database is successful."
   ]
  },
  {
   "attachments": {},
   "cell_type": "markdown",
   "metadata": {},
   "source": [
    "https://github.com/neo4j/graph-data-science-client/blob/main/examples/fastrp-and-knn.ipynb\n",
    "\n",
    "https://neo4j.com/docs/graph-data-science/current/management-ops/projections/graph-project-cypher/#graph-project-example-single-label-type"
   ]
  },
  {
   "cell_type": "code",
   "execution_count": 3,
   "metadata": {},
   "outputs": [
    {
     "name": "stdout",
     "output_type": "stream",
     "text": [
      "The projection took 800 ms\n",
      "Graph 'respondentAnswerOnlyStudents' node count: 195704\n",
      "Graph 'respondentAnswerOnlyStudents' node labels: ['Answer', 'Respondent', 'Question', 'QuestionAlternative']\n"
     ]
    }
   ],
   "source": [
    "excluded_survey_ids = [\"ff07d216-33e4-464d-8c35-c2fd3962282c\", \"c29919fa-793f-4b81-af49-92cef6c681fb\", \"6d0bec28-d5a4-46c3-9d3c-c17c7bf38ce8\"]\n",
    "\n",
    "node_query = f\"\"\"\n",
    "WITH {excluded_survey_ids} AS excludedSurveyIds\n",
    "MATCH (r:Respondent)<-[:SURVEYED]-(s:Survey) WHERE NOT s.id IN excludedSurveyIds\n",
    "RETURN id(r) AS id, coalesce(r.position, 0) AS position, labels(r) AS labels\n",
    "UNION ALL\n",
    "MATCH (a:Answer)<-[:HAS_ANSWERED]-(r:Respondent)<-[:SURVEYED]-(s:Survey) WHERE NOT s.id IN {excluded_survey_ids}\n",
    "RETURN id(a) AS id, coalesce(a.position, 0) AS position, labels(a) AS labels\n",
    "UNION ALL\n",
    "MATCH (qa:QuestionAlternative)\n",
    "RETURN id(qa) AS id, coalesce(qa.position, 0) AS position, labels(qa) AS labels\n",
    "UNION ALL\n",
    "MATCH (q:Question)\n",
    "RETURN id(q) AS id, coalesce(q.position, 0) AS position, labels(q) AS labels\n",
    "\"\"\"\n",
    "\n",
    "relationship_query = f\"\"\"\n",
    "WITH {excluded_survey_ids} AS excludedSurveyIds\n",
    "MATCH (n)-[r:HAS_ANSWERED|CHOSE|IS_ANSWER_TO|CONSISTS_OF]->(m)\n",
    "RETURN id(n) AS source, id(m) AS target, type(r) AS type\n",
    "\"\"\"\n",
    "\n",
    "\n",
    "graph_name = 'respondentAnswerOnlyStudents'\n",
    "\n",
    "if gds.graph.exists(graph_name).any():\n",
    "    gds.graph.drop(gds.graph.get(graph_name))\n",
    "\n",
    "G, result = gds.graph.project.cypher(\n",
    "    graph_name,\n",
    "    node_query,\n",
    "    relationship_query,\n",
    "    validateRelationships=False\n",
    ")\n",
    "\n",
    "print(f\"The projection took {result['projectMillis']} ms\")\n",
    "print(f\"Graph '{G.name()}' node count: {G.node_count()}\")\n",
    "print(f\"Graph '{G.name()}' node labels: {G.node_labels()}\")"
   ]
  },
  {
   "cell_type": "code",
   "execution_count": 65,
   "metadata": {},
   "outputs": [
    {
     "data": {
      "application/vnd.jupyter.widget-view+json": {
       "model_id": "6df9a238527641318ca68a532fe361bb",
       "version_major": 2,
       "version_minor": 0
      },
      "text/plain": [
       "FastRP:   0%|          | 0/100 [00:00<?, ?%/s]"
      ]
     },
     "metadata": {},
     "output_type": "display_data"
    },
    {
     "name": "stdout",
     "output_type": "stream",
     "text": [
      "Number of embedding vectors produced: 195704\n"
     ]
    }
   ],
   "source": [
    "result = gds.fastRP.mutate(\n",
    "    G,\n",
    "    mutateProperty='embedding',\n",
    "    featureProperties=['position'],\n",
    "    randomSeed=42,\n",
    "    embeddingDimension=128,\n",
    "    iterationWeights=[0.8, 1, 1, 1, 1, 1, 1, 1, 1, 1]\n",
    ")\n",
    "print(f\"Number of embedding vectors produced: {result['nodePropertiesWritten']}\")"
   ]
  },
  {
   "cell_type": "code",
   "execution_count": 7,
   "metadata": {},
   "outputs": [
    {
     "name": "stdout",
     "output_type": "stream",
     "text": [
      "The projection took 314 ms\n",
      "Graph 'respondentAnswer' node count: 225427\n",
      "Graph 'respondentAnswer' node labels: ['Answer', 'Respondent', 'Question', 'QuestionAlternative']\n"
     ]
    }
   ],
   "source": [
    "node_projection = {\n",
    "    \"Respondent\": {},\n",
    "    \"Answer\": {},\n",
    "    \"Question\": {},\n",
    "    \"QuestionAlternative\": { \"properties\": { \"position\": { \"defaultValue\": 0 }}}\n",
    "}\n",
    "relationship_projection = [\"HAS_ANSWERED\", \"CHOSE\", \"IS_ANSWER_TO\", \"CONSISTS_OF\"]\n",
    "G, result = gds.graph.project(\"respondentAnswer\", node_projection, relationship_projection)\n",
    "\n",
    "print(f\"The projection took {result['projectMillis']} ms\")\n",
    "print(f\"Graph '{G.name()}' node count: {G.node_count()}\")\n",
    "print(f\"Graph '{G.name()}' node labels: {G.node_labels()}\")"
   ]
  },
  {
   "attachments": {},
   "cell_type": "markdown",
   "metadata": {},
   "source": [
    "## CONTINUE HERE!"
   ]
  },
  {
   "cell_type": "code",
   "execution_count": 10,
   "metadata": {},
   "outputs": [
    {
     "data": {
      "application/vnd.jupyter.widget-view+json": {
       "model_id": "1a27291d5064468b887a5dc6cba7edc3",
       "version_major": 2,
       "version_minor": 0
      },
      "text/plain": [
       "NodeSimilarity:   0%|          | 0/100 [00:00<?, ?%/s]"
      ]
     },
     "metadata": {},
     "output_type": "display_data"
    }
   ],
   "source": [
    "gds.nodeSimilarity.stream(\n",
    "    G\n",
    ")"
   ]
  },
  {
   "cell_type": "code",
   "execution_count": 8,
   "metadata": {},
   "outputs": [
    {
     "data": {
      "application/vnd.jupyter.widget-view+json": {
       "model_id": "3f5e4f0679a04b8995500c636ab19ed2",
       "version_major": 2,
       "version_minor": 0
      },
      "text/plain": [
       "NodeSimilarity:   0%|          | 0/100 [00:00<?, ?%/s]"
      ]
     },
     "metadata": {},
     "output_type": "display_data"
    },
    {
     "data": {
      "text/plain": [
       "preProcessingMillis                                                       0\n",
       "computeMillis                                                        587588\n",
       "writeMillis                                                           21275\n",
       "postProcessingMillis                                                     -1\n",
       "nodesCompared                                                        223883\n",
       "relationshipsWritten                                                2203454\n",
       "similarityDistribution    {'p1': 0.8000025749206543, 'max': 1.0000071525...\n",
       "configuration             {'topK': 10, 'writeConcurrency': 4, 'similarit...\n",
       "Name: 0, dtype: object"
      ]
     },
     "execution_count": 8,
     "metadata": {},
     "output_type": "execute_result"
    }
   ],
   "source": [
    "gds.nodeSimilarity.write(\n",
    "    G,\n",
    "    writeRelationshipType='NODE_SIMILARITY',\n",
    "    writeProperty='score'\n",
    ")"
   ]
  },
  {
   "cell_type": "code",
   "execution_count": 66,
   "metadata": {},
   "outputs": [
    {
     "data": {
      "application/vnd.jupyter.widget-view+json": {
       "model_id": "b2fdb7e7e92e46b0a7311801f0fad777",
       "version_major": 2,
       "version_minor": 0
      },
      "text/plain": [
       "Knn:   0%|          | 0/100 [00:00<?, ?%/s]"
      ]
     },
     "metadata": {},
     "output_type": "display_data"
    },
    {
     "name": "stdout",
     "output_type": "stream",
     "text": [
      "Relationships produced: 391408\n",
      "Nodes compared: 195704\n",
      "Mean similarity: 0.9817089798142201\n"
     ]
    }
   ],
   "source": [
    "result = gds.knn.write(\n",
    "    G,\n",
    "    topK=2,\n",
    "    nodeProperties=[\"embedding\"],\n",
    "    randomSeed=42,\n",
    "    concurrency=1,\n",
    "    sampleRate=1.0,\n",
    "    deltaThreshold=0.0,\n",
    "    writeRelationshipType=\"SIMILAR\",\n",
    "    writeProperty=\"score\"\n",
    ")\n",
    "\n",
    "print(f\"Relationships produced: {result['relationshipsWritten']}\")\n",
    "print(f\"Nodes compared: {result['nodesCompared']}\")\n",
    "print(f\"Mean similarity: {result['similarityDistribution']['mean']}\")"
   ]
  },
  {
   "cell_type": "code",
   "execution_count": 67,
   "metadata": {},
   "outputs": [
    {
     "data": {
      "text/html": [
       "<div>\n",
       "<style scoped>\n",
       "    .dataframe tbody tr th:only-of-type {\n",
       "        vertical-align: middle;\n",
       "    }\n",
       "\n",
       "    .dataframe tbody tr th {\n",
       "        vertical-align: top;\n",
       "    }\n",
       "\n",
       "    .dataframe thead th {\n",
       "        text-align: right;\n",
       "    }\n",
       "</style>\n",
       "<table border=\"1\" class=\"dataframe\">\n",
       "  <thead>\n",
       "    <tr style=\"text-align: right;\">\n",
       "      <th></th>\n",
       "      <th>person1</th>\n",
       "      <th>person2</th>\n",
       "      <th>similarity</th>\n",
       "    </tr>\n",
       "  </thead>\n",
       "  <tbody>\n",
       "    <tr>\n",
       "      <th>0</th>\n",
       "      <td>169fd8ab-4ea6-485f-97eb-4c2de2e1a384</td>\n",
       "      <td>d683115f-2307-4ac4-9c6c-7dc6dde09e48</td>\n",
       "      <td>0.919332</td>\n",
       "    </tr>\n",
       "    <tr>\n",
       "      <th>1</th>\n",
       "      <td>d683115f-2307-4ac4-9c6c-7dc6dde09e48</td>\n",
       "      <td>169fd8ab-4ea6-485f-97eb-4c2de2e1a384</td>\n",
       "      <td>0.919332</td>\n",
       "    </tr>\n",
       "    <tr>\n",
       "      <th>2</th>\n",
       "      <td>487b5581-8126-4ead-8468-d1954fd249fe</td>\n",
       "      <td>96aa2830-97ee-442e-85e6-5743fc2fb081</td>\n",
       "      <td>0.918723</td>\n",
       "    </tr>\n",
       "    <tr>\n",
       "      <th>3</th>\n",
       "      <td>96aa2830-97ee-442e-85e6-5743fc2fb081</td>\n",
       "      <td>487b5581-8126-4ead-8468-d1954fd249fe</td>\n",
       "      <td>0.918723</td>\n",
       "    </tr>\n",
       "    <tr>\n",
       "      <th>4</th>\n",
       "      <td>486162f2-9bc5-4e91-9cdf-52897c4216f9</td>\n",
       "      <td>edba4f5d-67ec-4dc7-9a4b-2c76573632cf</td>\n",
       "      <td>0.917563</td>\n",
       "    </tr>\n",
       "    <tr>\n",
       "      <th>...</th>\n",
       "      <td>...</td>\n",
       "      <td>...</td>\n",
       "      <td>...</td>\n",
       "    </tr>\n",
       "    <tr>\n",
       "      <th>5999</th>\n",
       "      <td>ad4e6c78-7676-4f8c-8fb0-fd3b43212143</td>\n",
       "      <td>b23ee2ac-e945-47a1-ac95-56591c6aa437</td>\n",
       "      <td>0.827936</td>\n",
       "    </tr>\n",
       "    <tr>\n",
       "      <th>6000</th>\n",
       "      <td>c00c06f3-3cbc-4bc2-bd95-b3a7f24476e5</td>\n",
       "      <td>145e03db-3d59-451f-b5eb-d002a9588ce2</td>\n",
       "      <td>0.826752</td>\n",
       "    </tr>\n",
       "    <tr>\n",
       "      <th>6001</th>\n",
       "      <td>c00c06f3-3cbc-4bc2-bd95-b3a7f24476e5</td>\n",
       "      <td>6f69ae99-bda7-40e7-bf76-fda37b9f059b</td>\n",
       "      <td>0.826072</td>\n",
       "    </tr>\n",
       "    <tr>\n",
       "      <th>6002</th>\n",
       "      <td>1de99987-d2a6-476f-933c-c9f56d6aa06b</td>\n",
       "      <td>152b7cd4-bc61-4bf5-aea3-643f3ec3d722</td>\n",
       "      <td>0.819342</td>\n",
       "    </tr>\n",
       "    <tr>\n",
       "      <th>6003</th>\n",
       "      <td>27ed4309-77b6-4817-852b-0a44cd0cd6fd</td>\n",
       "      <td>d5a658c2-6216-422d-be4d-0aa757b0addd</td>\n",
       "      <td>0.620553</td>\n",
       "    </tr>\n",
       "  </tbody>\n",
       "</table>\n",
       "<p>6004 rows × 3 columns</p>\n",
       "</div>"
      ],
      "text/plain": [
       "                                   person1  \\\n",
       "0     169fd8ab-4ea6-485f-97eb-4c2de2e1a384   \n",
       "1     d683115f-2307-4ac4-9c6c-7dc6dde09e48   \n",
       "2     487b5581-8126-4ead-8468-d1954fd249fe   \n",
       "3     96aa2830-97ee-442e-85e6-5743fc2fb081   \n",
       "4     486162f2-9bc5-4e91-9cdf-52897c4216f9   \n",
       "...                                    ...   \n",
       "5999  ad4e6c78-7676-4f8c-8fb0-fd3b43212143   \n",
       "6000  c00c06f3-3cbc-4bc2-bd95-b3a7f24476e5   \n",
       "6001  c00c06f3-3cbc-4bc2-bd95-b3a7f24476e5   \n",
       "6002  1de99987-d2a6-476f-933c-c9f56d6aa06b   \n",
       "6003  27ed4309-77b6-4817-852b-0a44cd0cd6fd   \n",
       "\n",
       "                                   person2  similarity  \n",
       "0     d683115f-2307-4ac4-9c6c-7dc6dde09e48    0.919332  \n",
       "1     169fd8ab-4ea6-485f-97eb-4c2de2e1a384    0.919332  \n",
       "2     96aa2830-97ee-442e-85e6-5743fc2fb081    0.918723  \n",
       "3     487b5581-8126-4ead-8468-d1954fd249fe    0.918723  \n",
       "4     edba4f5d-67ec-4dc7-9a4b-2c76573632cf    0.917563  \n",
       "...                                    ...         ...  \n",
       "5999  b23ee2ac-e945-47a1-ac95-56591c6aa437    0.827936  \n",
       "6000  145e03db-3d59-451f-b5eb-d002a9588ce2    0.826752  \n",
       "6001  6f69ae99-bda7-40e7-bf76-fda37b9f059b    0.826072  \n",
       "6002  152b7cd4-bc61-4bf5-aea3-643f3ec3d722    0.819342  \n",
       "6003  d5a658c2-6216-422d-be4d-0aa757b0addd    0.620553  \n",
       "\n",
       "[6004 rows x 3 columns]"
      ]
     },
     "execution_count": 67,
     "metadata": {},
     "output_type": "execute_result"
    }
   ],
   "source": [
    "gds.run_cypher(\n",
    "    \"\"\"\n",
    "        MATCH (p1:Respondent)-[r:SIMILAR]->(p2:Respondent)\n",
    "        WHERE r.score > 0.0\n",
    "        RETURN p1.id AS person1, p2.id AS person2, r.score AS similarity\n",
    "        ORDER BY similarity DESCENDING, person1, person2\n",
    "    \"\"\"\n",
    ")"
   ]
  },
  {
   "attachments": {},
   "cell_type": "markdown",
   "metadata": {},
   "source": [
    "### Before removing duplicate relationships\n",
    "![Before removing duplicate relationships](fastrp_knn_duplicate_relationships.png)\n",
    "\n",
    "### Remove duplicate relationships"
   ]
  },
  {
   "cell_type": "code",
   "execution_count": 68,
   "metadata": {},
   "outputs": [
    {
     "data": {
      "text/html": [
       "<div>\n",
       "<style scoped>\n",
       "    .dataframe tbody tr th:only-of-type {\n",
       "        vertical-align: middle;\n",
       "    }\n",
       "\n",
       "    .dataframe tbody tr th {\n",
       "        vertical-align: top;\n",
       "    }\n",
       "\n",
       "    .dataframe thead th {\n",
       "        text-align: right;\n",
       "    }\n",
       "</style>\n",
       "<table border=\"1\" class=\"dataframe\">\n",
       "  <thead>\n",
       "    <tr style=\"text-align: right;\">\n",
       "      <th></th>\n",
       "    </tr>\n",
       "  </thead>\n",
       "  <tbody>\n",
       "  </tbody>\n",
       "</table>\n",
       "</div>"
      ],
      "text/plain": [
       "Empty DataFrame\n",
       "Columns: []\n",
       "Index: []"
      ]
     },
     "execution_count": 68,
     "metadata": {},
     "output_type": "execute_result"
    }
   ],
   "source": [
    "gds.run_cypher(\"\"\"\n",
    "    MATCH (r1:Respondent)-[rel1:SIMILAR]->(r2:Respondent)\n",
    "    WHERE id(r1) < id(r2) AND EXISTS((r2)-[:SIMILAR]->(r1))\n",
    "    WITH rel1\n",
    "    DELETE rel1\n",
    "    \"\"\")"
   ]
  },
  {
   "attachments": {},
   "cell_type": "markdown",
   "metadata": {},
   "source": [
    "### After removing duplicate relationships\n",
    "![After removing duplicate relationships](fastrp_knn_removed_duplicate_relationships.png)"
   ]
  },
  {
   "attachments": {},
   "cell_type": "markdown",
   "metadata": {},
   "source": [
    "## Community detection for the similar Respondents\n",
    "\n",
    "### First project the Respondents with the `SIMILAR` relationship with the score property"
   ]
  },
  {
   "cell_type": "code",
   "execution_count": 2,
   "metadata": {},
   "outputs": [
    {
     "name": "stdout",
     "output_type": "stream",
     "text": [
      "The projection took 359 ms\n",
      "Graph 'knnSimilarRespondents' node count: 3475\n",
      "Graph 'knnSimilarRespondents' node labels: ['Respondent']\n"
     ]
    }
   ],
   "source": [
    "G, result = gds.graph.project(\n",
    "    \"knnSimilarRespondents\",\n",
    "    [\"Respondent\"],\n",
    "    {\n",
    "        \"SIMILAR\": { \"orientation\": \"UNDIRECTED\" }\n",
    "    },\n",
    "    relationshipProperties=\"score\"\n",
    ")\n",
    "\n",
    "print(f\"The projection took {result['projectMillis']} ms\")\n",
    "print(f\"Graph '{G.name()}' node count: {G.node_count()}\")\n",
    "print(f\"Graph '{G.name()}' node labels: {G.node_labels()}\")"
   ]
  },
  {
   "attachments": {},
   "cell_type": "markdown",
   "metadata": {},
   "source": [
    "### Louvain"
   ]
  },
  {
   "cell_type": "code",
   "execution_count": 13,
   "metadata": {},
   "outputs": [
    {
     "data": {
      "application/vnd.jupyter.widget-view+json": {
       "model_id": "3faf2e664aaf4074b6032b8cf6666614",
       "version_major": 2,
       "version_minor": 0
      },
      "text/plain": [
       "Louvain:   0%|          | 0/100 [00:00<?, ?%/s]"
      ]
     },
     "metadata": {},
     "output_type": "display_data"
    },
    {
     "name": "stdout",
     "output_type": "stream",
     "text": [
      "Number of communities: 25\n"
     ]
    }
   ],
   "source": [
    "result = gds.louvain.stream(G)\n",
    "\n",
    "print(f\"Number of communities: {len(set(result['communityId']))}\")"
   ]
  },
  {
   "cell_type": "code",
   "execution_count": 12,
   "metadata": {},
   "outputs": [
    {
     "data": {
      "application/vnd.jupyter.widget-view+json": {
       "model_id": "2b3c2e0a043f46d580173bba5027e0e9",
       "version_major": 2,
       "version_minor": 0
      },
      "text/plain": [
       "Louvain:   0%|          | 0/100 [00:00<?, ?%/s]"
      ]
     },
     "metadata": {},
     "output_type": "display_data"
    },
    {
     "data": {
      "text/plain": [
       "36"
      ]
     },
     "execution_count": 12,
     "metadata": {},
     "output_type": "execute_result"
    }
   ],
   "source": [
    "result = gds.louvain.stream(G, relationshipWeightProperty=\"score\")\n",
    "\n",
    "print(f\"Number of communities: {len(set(result['communityId']))}\")"
   ]
  },
  {
   "cell_type": "code",
   "execution_count": 14,
   "metadata": {},
   "outputs": [
    {
     "data": {
      "application/vnd.jupyter.widget-view+json": {
       "model_id": "97b96b391a8d44f28a4de0350bd40c25",
       "version_major": 2,
       "version_minor": 0
      },
      "text/plain": [
       "Louvain:   0%|          | 0/100 [00:00<?, ?%/s]"
      ]
     },
     "metadata": {},
     "output_type": "display_data"
    },
    {
     "name": "stdout",
     "output_type": "stream",
     "text": [
      "No. of communities: 38\n",
      "Modularity: 0.7312269661112804\n"
     ]
    }
   ],
   "source": [
    "result = gds.louvain.write(G, relationshipWeightProperty=\"score\", writeProperty=\"louvainCommunity\")\n",
    "print(f\"No. of communities: {result['communityCount']}\")\n",
    "print(f\"Modularity: {result['modularity']}\")"
   ]
  },
  {
   "attachments": {},
   "cell_type": "markdown",
   "metadata": {},
   "source": [
    "```cypher"
   ]
  },
  {
   "attachments": {},
   "cell_type": "markdown",
   "metadata": {},
   "source": [
    "### Unweighted Louvain\n",
    "```cypher\n",
    "CALL gds.louvain.stream('knnSimilarRespondents') YIELD nodeId, communityId, intermediateCommunityIds RETURN COUNT(DISTINCT(communityId));\n",
    "```\n",
    "\n",
    "## Weighted Louvain\n",
    "\n",
    "```cypher\n",
    "CALL gds.louvain.stream('knnSimilarRespondents', { relationshipWeightProperty: 'score' }) YIELD nodeId, communityId, intermediateCommunityIds RETURN COUNT(DISTINCT(communityId));\n",
    "```"
   ]
  },
  {
   "attachments": {},
   "cell_type": "markdown",
   "metadata": {},
   "source": [
    "### APOC seems to not be installed...\n",
    "\n",
    "https://github.com/neo4j-contrib/neo4j-apoc-procedures/releases  \n",
    "https://neo4j.com/labs/apoc/5/installation/\n",
    "\n",
    "\n",
    "\n",
    "### Visualize\n",
    "\n",
    "https://neo4j.com/labs/apoc/5/export/gephi/\n",
    "https://gephi.org/\n",
    "\n",
    "### Apoc installed\n",
    "Had to edit the config."
   ]
  },
  {
   "attachments": {},
   "cell_type": "markdown",
   "metadata": {},
   "source": [
    "### Tried visualizing with gephi\n",
    "\n",
    "```cypher\n",
    "MATCH (r1:Respondent)-[s:SIMILAR]-(r2:Respondent)\n",
    "WITH collect(DISTINCT(r1)) AS res1, collect(DISTINCT(r2)) AS res2, collect(s) AS similarRels\n",
    "CALL apoc.export.graphml.data(res1 + res2, similarRels, null, {stream:true})\n",
    "YIELD file, nodes, relationships, properties, data\n",
    "RETURN file, nodes, relationships, properties, data;\n",
    "```"
   ]
  },
  {
   "attachments": {},
   "cell_type": "markdown",
   "metadata": {},
   "source": [
    "Some gephi stuff:\n",
    "\n",
    "https://towardsdatascience.com/community-detection-of-the-countries-of-the-world-with-neo4j-graph-data-science-4d3a022f8399\n",
    "\n",
    "https://tbgraph.wordpress.com/2017/04/01/neo4j-to-gephi/"
   ]
  }
 ],
 "metadata": {
  "kernelspec": {
   "display_name": ".venv",
   "language": "python",
   "name": "python3"
  },
  "language_info": {
   "codemirror_mode": {
    "name": "ipython",
    "version": 3
   },
   "file_extension": ".py",
   "mimetype": "text/x-python",
   "name": "python",
   "nbconvert_exporter": "python",
   "pygments_lexer": "ipython3",
   "version": "3.10.4"
  },
  "orig_nbformat": 4
 },
 "nbformat": 4,
 "nbformat_minor": 2
}
