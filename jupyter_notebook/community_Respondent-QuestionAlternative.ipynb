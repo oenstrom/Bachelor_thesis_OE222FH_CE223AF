{
 "cells": [
  {
   "cell_type": "code",
   "execution_count": 1,
   "metadata": {},
   "outputs": [
    {
     "data": {
      "text/plain": [
       "'2.3.2'"
      ]
     },
     "execution_count": 1,
     "metadata": {},
     "output_type": "execute_result"
    }
   ],
   "source": [
    "from databaseconnection import DatabaseConnection\n",
    "gds = DatabaseConnection().get_database_connection()\n",
    "gds.version()"
   ]
  },
  {
   "cell_type": "code",
   "execution_count": 19,
   "metadata": {},
   "outputs": [
    {
     "name": "stdout",
     "output_type": "stream",
     "text": [
      "The projection took 56 ms\n",
      "Graph 'respondentQuestionAlternativeOnlyStudents' node count: 4574\n",
      "Graph 'respondentQuestionAlternativeOnlyStudents' node labels: ['Student', 'QuestionAlternative']\n"
     ]
    }
   ],
   "source": [
    "graph_name = 'respondentQuestionAlternativeOnlyStudents'\n",
    "\n",
    "if gds.graph.exists(graph_name).any():\n",
    "    gds.graph.drop(gds.graph.get(graph_name))\n",
    "\n",
    "G, result = gds.graph.project(\n",
    "    graph_name,\n",
    "    {\n",
    "        \"Student\": {},\n",
    "        \"QuestionAlternative\": { \"properties\": { \"position\": { \"defaultValue\": 0 }}}\n",
    "    },\n",
    "    \"CHOSE_ALT\"\n",
    ")\n",
    "\n",
    "print(f\"The projection took {result['projectMillis']} ms\")\n",
    "print(f\"Graph '{G.name()}' node count: {G.node_count()}\")\n",
    "print(f\"Graph '{G.name()}' node labels: {G.node_labels()}\")"
   ]
  },
  {
   "cell_type": "code",
   "execution_count": 20,
   "metadata": {},
   "outputs": [
    {
     "name": "stdout",
     "output_type": "stream",
     "text": [
      "Number of embedding vectors produced: 4574\n"
     ]
    }
   ],
   "source": [
    "result = gds.fastRP.mutate(\n",
    "    G,\n",
    "    mutateProperty='embedding',\n",
    "    randomSeed=42,\n",
    "    embeddingDimension=128,\n",
    "    iterationWeights=[0.8, 1, 1, 1, 1, 1, 1, 1, 1, 1]\n",
    ")\n",
    "print(f\"Number of embedding vectors produced: {result['nodePropertiesWritten']}\")"
   ]
  },
  {
   "cell_type": "code",
   "execution_count": 10,
   "metadata": {},
   "outputs": [
    {
     "data": {
      "text/html": [
       "<div>\n",
       "<style scoped>\n",
       "    .dataframe tbody tr th:only-of-type {\n",
       "        vertical-align: middle;\n",
       "    }\n",
       "\n",
       "    .dataframe tbody tr th {\n",
       "        vertical-align: top;\n",
       "    }\n",
       "\n",
       "    .dataframe thead th {\n",
       "        text-align: right;\n",
       "    }\n",
       "</style>\n",
       "<table border=\"1\" class=\"dataframe\">\n",
       "  <thead>\n",
       "    <tr style=\"text-align: right;\">\n",
       "      <th></th>\n",
       "      <th>nodeId</th>\n",
       "      <th>componentId</th>\n",
       "    </tr>\n",
       "  </thead>\n",
       "  <tbody>\n",
       "    <tr>\n",
       "      <th>0</th>\n",
       "      <td>54713</td>\n",
       "      <td>0</td>\n",
       "    </tr>\n",
       "    <tr>\n",
       "      <th>1</th>\n",
       "      <td>54777</td>\n",
       "      <td>0</td>\n",
       "    </tr>\n",
       "    <tr>\n",
       "      <th>2</th>\n",
       "      <td>54841</td>\n",
       "      <td>0</td>\n",
       "    </tr>\n",
       "    <tr>\n",
       "      <th>3</th>\n",
       "      <td>54905</td>\n",
       "      <td>0</td>\n",
       "    </tr>\n",
       "    <tr>\n",
       "      <th>4</th>\n",
       "      <td>54968</td>\n",
       "      <td>0</td>\n",
       "    </tr>\n",
       "    <tr>\n",
       "      <th>...</th>\n",
       "      <td>...</td>\n",
       "      <td>...</td>\n",
       "    </tr>\n",
       "    <tr>\n",
       "      <th>4569</th>\n",
       "      <td>231975</td>\n",
       "      <td>0</td>\n",
       "    </tr>\n",
       "    <tr>\n",
       "      <th>4570</th>\n",
       "      <td>232039</td>\n",
       "      <td>0</td>\n",
       "    </tr>\n",
       "    <tr>\n",
       "      <th>4571</th>\n",
       "      <td>232103</td>\n",
       "      <td>0</td>\n",
       "    </tr>\n",
       "    <tr>\n",
       "      <th>4572</th>\n",
       "      <td>232167</td>\n",
       "      <td>0</td>\n",
       "    </tr>\n",
       "    <tr>\n",
       "      <th>4573</th>\n",
       "      <td>232484</td>\n",
       "      <td>0</td>\n",
       "    </tr>\n",
       "  </tbody>\n",
       "</table>\n",
       "<p>4574 rows × 2 columns</p>\n",
       "</div>"
      ],
      "text/plain": [
       "      nodeId  componentId\n",
       "0      54713            0\n",
       "1      54777            0\n",
       "2      54841            0\n",
       "3      54905            0\n",
       "4      54968            0\n",
       "...      ...          ...\n",
       "4569  231975            0\n",
       "4570  232039            0\n",
       "4571  232103            0\n",
       "4572  232167            0\n",
       "4573  232484            0\n",
       "\n",
       "[4574 rows x 2 columns]"
      ]
     },
     "execution_count": 10,
     "metadata": {},
     "output_type": "execute_result"
    }
   ],
   "source": [
    "gds.wcc.stream(\n",
    "    G\n",
    ")"
   ]
  },
  {
   "cell_type": "code",
   "execution_count": 11,
   "metadata": {},
   "outputs": [
    {
     "data": {
      "application/vnd.jupyter.widget-view+json": {
       "model_id": "381f785320fb45f9b4fbb11b601a1f24",
       "version_major": 2,
       "version_minor": 0
      },
      "text/plain": [
       "NodeSimilarity:   0%|          | 0/100 [00:00<?, ?%/s]"
      ]
     },
     "metadata": {},
     "output_type": "display_data"
    },
    {
     "data": {
      "text/html": [
       "<div>\n",
       "<style scoped>\n",
       "    .dataframe tbody tr th:only-of-type {\n",
       "        vertical-align: middle;\n",
       "    }\n",
       "\n",
       "    .dataframe tbody tr th {\n",
       "        vertical-align: top;\n",
       "    }\n",
       "\n",
       "    .dataframe thead th {\n",
       "        text-align: right;\n",
       "    }\n",
       "</style>\n",
       "<table border=\"1\" class=\"dataframe\">\n",
       "  <thead>\n",
       "    <tr style=\"text-align: right;\">\n",
       "      <th></th>\n",
       "      <th>node1</th>\n",
       "      <th>node2</th>\n",
       "      <th>similarity</th>\n",
       "    </tr>\n",
       "  </thead>\n",
       "  <tbody>\n",
       "    <tr>\n",
       "      <th>0</th>\n",
       "      <td>54713</td>\n",
       "      <td>54841</td>\n",
       "      <td>1.0</td>\n",
       "    </tr>\n",
       "    <tr>\n",
       "      <th>1</th>\n",
       "      <td>54713</td>\n",
       "      <td>54968</td>\n",
       "      <td>1.0</td>\n",
       "    </tr>\n",
       "    <tr>\n",
       "      <th>2</th>\n",
       "      <td>54713</td>\n",
       "      <td>55159</td>\n",
       "      <td>1.0</td>\n",
       "    </tr>\n",
       "    <tr>\n",
       "      <th>3</th>\n",
       "      <td>54713</td>\n",
       "      <td>55095</td>\n",
       "      <td>1.0</td>\n",
       "    </tr>\n",
       "    <tr>\n",
       "      <th>4</th>\n",
       "      <td>54713</td>\n",
       "      <td>56812</td>\n",
       "      <td>1.0</td>\n",
       "    </tr>\n",
       "    <tr>\n",
       "      <th>...</th>\n",
       "      <td>...</td>\n",
       "      <td>...</td>\n",
       "      <td>...</td>\n",
       "    </tr>\n",
       "    <tr>\n",
       "      <th>37325</th>\n",
       "      <td>232484</td>\n",
       "      <td>58226</td>\n",
       "      <td>1.0</td>\n",
       "    </tr>\n",
       "    <tr>\n",
       "      <th>37326</th>\n",
       "      <td>232484</td>\n",
       "      <td>58162</td>\n",
       "      <td>1.0</td>\n",
       "    </tr>\n",
       "    <tr>\n",
       "      <th>37327</th>\n",
       "      <td>232484</td>\n",
       "      <td>58033</td>\n",
       "      <td>1.0</td>\n",
       "    </tr>\n",
       "    <tr>\n",
       "      <th>37328</th>\n",
       "      <td>232484</td>\n",
       "      <td>57638</td>\n",
       "      <td>1.0</td>\n",
       "    </tr>\n",
       "    <tr>\n",
       "      <th>37329</th>\n",
       "      <td>232484</td>\n",
       "      <td>55793</td>\n",
       "      <td>1.0</td>\n",
       "    </tr>\n",
       "  </tbody>\n",
       "</table>\n",
       "<p>37330 rows × 3 columns</p>\n",
       "</div>"
      ],
      "text/plain": [
       "        node1  node2  similarity\n",
       "0       54713  54841         1.0\n",
       "1       54713  54968         1.0\n",
       "2       54713  55159         1.0\n",
       "3       54713  55095         1.0\n",
       "4       54713  56812         1.0\n",
       "...       ...    ...         ...\n",
       "37325  232484  58226         1.0\n",
       "37326  232484  58162         1.0\n",
       "37327  232484  58033         1.0\n",
       "37328  232484  57638         1.0\n",
       "37329  232484  55793         1.0\n",
       "\n",
       "[37330 rows x 3 columns]"
      ]
     },
     "execution_count": 11,
     "metadata": {},
     "output_type": "execute_result"
    }
   ],
   "source": [
    "gds.nodeSimilarity.stream(\n",
    "    G\n",
    ")"
   ]
  },
  {
   "cell_type": "code",
   "execution_count": 21,
   "metadata": {},
   "outputs": [
    {
     "name": "stdout",
     "output_type": "stream",
     "text": [
      "Relationships produced: 9148\n",
      "Nodes compared: 4574\n",
      "Mean similarity: 0.66431341100375\n"
     ]
    }
   ],
   "source": [
    "result = gds.knn.write(\n",
    "    G,\n",
    "    topK=2,\n",
    "    nodeProperties=[\"embedding\"],\n",
    "    randomSeed=42,\n",
    "    concurrency=1,\n",
    "    sampleRate=1.0,\n",
    "    deltaThreshold=0.0,\n",
    "    writeRelationshipType=\"SIMILAR_STUDENTS\",\n",
    "    writeProperty=\"score\",\n",
    ")\n",
    "\n",
    "print(f\"Relationships produced: {result['relationshipsWritten']}\")\n",
    "print(f\"Nodes compared: {result['nodesCompared']}\")\n",
    "print(f\"Mean similarity: {result['similarityDistribution']['mean']}\")"
   ]
  }
 ],
 "metadata": {
  "kernelspec": {
   "display_name": "Python 3",
   "language": "python",
   "name": "python3"
  },
  "language_info": {
   "codemirror_mode": {
    "name": "ipython",
    "version": 3
   },
   "file_extension": ".py",
   "mimetype": "text/x-python",
   "name": "python",
   "nbconvert_exporter": "python",
   "pygments_lexer": "ipython3",
   "version": "3.10.4"
  },
  "orig_nbformat": 4
 },
 "nbformat": 4,
 "nbformat_minor": 2
}
