{
 "cells": [
  {
   "attachments": {},
   "cell_type": "markdown",
   "metadata": {},
   "source": [
    "Create .env file in the same directory as the notebook and add the following lines:\n",
    "\n",
    "```env\n",
    "NEO4J_USERNAME=your_username\n",
    "NEO4J_PASSWORD=your_password\n",
    "NEO4J_ENDPOINT=your_endpoint\n",
    "```"
   ]
  },
  {
   "attachments": {},
   "cell_type": "markdown",
   "metadata": {},
   "source": [
    "Install python dependencies."
   ]
  },
  {
   "cell_type": "code",
   "execution_count": null,
   "metadata": {
    "vscode": {
     "languageId": "powershell"
    }
   },
   "outputs": [],
   "source": [
    "pip install -r requirements.txt"
   ]
  },
  {
   "attachments": {},
   "cell_type": "markdown",
   "metadata": {},
   "source": [
    "Connect to database."
   ]
  },
  {
   "cell_type": "code",
   "execution_count": 15,
   "metadata": {},
   "outputs": [
    {
     "data": {
      "text/plain": [
       "'2.3.2'"
      ]
     },
     "execution_count": 15,
     "metadata": {},
     "output_type": "execute_result"
    }
   ],
   "source": [
    "from databaseconnection import DatabaseConnection\n",
    "gds = DatabaseConnection().get_database_connection()\n",
    "gds.version()"
   ]
  },
  {
   "attachments": {},
   "cell_type": "markdown",
   "metadata": {},
   "source": [
    "Should show a version number if connection to database is successful."
   ]
  },
  {
   "attachments": {},
   "cell_type": "markdown",
   "metadata": {},
   "source": [
    "https://github.com/neo4j/graph-data-science-client/blob/main/examples/fastrp-and-knn.ipynb"
   ]
  },
  {
   "cell_type": "code",
   "execution_count": 7,
   "metadata": {},
   "outputs": [],
   "source": [
    "node_projection = {\n",
    "    \"Respondent\": {},\n",
    "    \"QuestionAlternative\": { \"properties\": { \"position\": { \"defaultValue\": 0 }}}\n",
    "}\n",
    "relationship_projection = \"CHOSE\""
   ]
  },
  {
   "cell_type": "code",
   "execution_count": 9,
   "metadata": {},
   "outputs": [
    {
     "name": "stdout",
     "output_type": "stream",
     "text": [
      "The projection took 1161 ms\n",
      "Graph 'respondentAnswer' node count: 5010\n",
      "Graph 'respondentAnswer' node labels: ['Respondent', 'QuestionAlternative']\n"
     ]
    }
   ],
   "source": [
    "G, result = gds.graph.project(\"respondentAnswer\", node_projection, relationship_projection)\n",
    "\n",
    "print(f\"The projection took {result['projectMillis']} ms\")\n",
    "print(f\"Graph '{G.name()}' node count: {G.node_count()}\")\n",
    "print(f\"Graph '{G.name()}' node labels: {G.node_labels()}\")"
   ]
  },
  {
   "cell_type": "code",
   "execution_count": 10,
   "metadata": {},
   "outputs": [
    {
     "name": "stdout",
     "output_type": "stream",
     "text": [
      "Number of embedding vectors produced: 5010\n"
     ]
    }
   ],
   "source": [
    "result = gds.fastRP.mutate(\n",
    "    G,\n",
    "    mutateProperty='embedding',\n",
    "    randomSeed=42,\n",
    "    embeddingDimension=128,\n",
    "    iterationWeights=[0.8, 1, 1, 1, 1, 1, 1, 1, 1, 1]\n",
    ")\n",
    "print(f\"Number of embedding vectors produced: {result['nodePropertiesWritten']}\")"
   ]
  },
  {
   "cell_type": "code",
   "execution_count": 11,
   "metadata": {},
   "outputs": [
    {
     "data": {
      "application/vnd.jupyter.widget-view+json": {
       "model_id": "ad9589d2b74348bbba7b2ce6a16ed12e",
       "version_major": 2,
       "version_minor": 0
      },
      "text/plain": [
       "Knn:   0%|          | 0/100 [00:00<?, ?%/s]"
      ]
     },
     "metadata": {},
     "output_type": "display_data"
    },
    {
     "name": "stdout",
     "output_type": "stream",
     "text": [
      "Relationships produced: 10020\n",
      "Nodes compared: 5010\n",
      "Mean similarity: 0.5773449408555935\n"
     ]
    }
   ],
   "source": [
    "result = gds.knn.write(\n",
    "    G,\n",
    "    topK=2,\n",
    "    nodeProperties=[\"embedding\"],\n",
    "    randomSeed=42,\n",
    "    concurrency=1,\n",
    "    sampleRate=1.0,\n",
    "    deltaThreshold=0.0,\n",
    "    writeRelationshipType=\"SIMILAR\",\n",
    "    writeProperty=\"score\",\n",
    ")\n",
    "\n",
    "print(f\"Relationships produced: {result['relationshipsWritten']}\")\n",
    "print(f\"Nodes compared: {result['nodesCompared']}\")\n",
    "print(f\"Mean similarity: {result['similarityDistribution']['mean']}\")"
   ]
  },
  {
   "cell_type": "code",
   "execution_count": 19,
   "metadata": {},
   "outputs": [
    {
     "data": {
      "text/html": [
       "<div>\n",
       "<style scoped>\n",
       "    .dataframe tbody tr th:only-of-type {\n",
       "        vertical-align: middle;\n",
       "    }\n",
       "\n",
       "    .dataframe tbody tr th {\n",
       "        vertical-align: top;\n",
       "    }\n",
       "\n",
       "    .dataframe thead th {\n",
       "        text-align: right;\n",
       "    }\n",
       "</style>\n",
       "<table border=\"1\" class=\"dataframe\">\n",
       "  <thead>\n",
       "    <tr style=\"text-align: right;\">\n",
       "      <th></th>\n",
       "      <th>person1</th>\n",
       "      <th>person2</th>\n",
       "      <th>similarity</th>\n",
       "    </tr>\n",
       "  </thead>\n",
       "  <tbody>\n",
       "    <tr>\n",
       "      <th>0</th>\n",
       "      <td>7ba5ac16-8c73-401b-b3e7-f3acaf65bff9</td>\n",
       "      <td>f07c936e-0be2-4232-9e7e-6d04ec1751f1</td>\n",
       "      <td>1.000000</td>\n",
       "    </tr>\n",
       "    <tr>\n",
       "      <th>1</th>\n",
       "      <td>f07c936e-0be2-4232-9e7e-6d04ec1751f1</td>\n",
       "      <td>7ba5ac16-8c73-401b-b3e7-f3acaf65bff9</td>\n",
       "      <td>1.000000</td>\n",
       "    </tr>\n",
       "    <tr>\n",
       "      <th>2</th>\n",
       "      <td>7ba5ac16-8c73-401b-b3e7-f3acaf65bff9</td>\n",
       "      <td>7fd4dcb1-b166-42f5-9484-02985bb2ef49</td>\n",
       "      <td>0.985398</td>\n",
       "    </tr>\n",
       "    <tr>\n",
       "      <th>3</th>\n",
       "      <td>7fd4dcb1-b166-42f5-9484-02985bb2ef49</td>\n",
       "      <td>7ba5ac16-8c73-401b-b3e7-f3acaf65bff9</td>\n",
       "      <td>0.985398</td>\n",
       "    </tr>\n",
       "    <tr>\n",
       "      <th>4</th>\n",
       "      <td>7fd4dcb1-b166-42f5-9484-02985bb2ef49</td>\n",
       "      <td>f07c936e-0be2-4232-9e7e-6d04ec1751f1</td>\n",
       "      <td>0.985398</td>\n",
       "    </tr>\n",
       "    <tr>\n",
       "      <th>...</th>\n",
       "      <td>...</td>\n",
       "      <td>...</td>\n",
       "      <td>...</td>\n",
       "    </tr>\n",
       "    <tr>\n",
       "      <th>6927</th>\n",
       "      <td>2c94e7f1-e29a-45c4-84d2-bd024415d105</td>\n",
       "      <td>c5df8342-02c8-46b4-98d8-8b1f0a06ecac</td>\n",
       "      <td>0.622691</td>\n",
       "    </tr>\n",
       "    <tr>\n",
       "      <th>6928</th>\n",
       "      <td>21eef46c-9fae-4353-9e67-6bab2ce496d0</td>\n",
       "      <td>921c8300-1059-40ea-b3df-429f51826443</td>\n",
       "      <td>0.613362</td>\n",
       "    </tr>\n",
       "    <tr>\n",
       "      <th>6929</th>\n",
       "      <td>553ce11a-44c6-4258-b7a5-61c6950d64b8</td>\n",
       "      <td>f7d6178f-fc3a-410d-b08c-1102487adc92</td>\n",
       "      <td>0.612722</td>\n",
       "    </tr>\n",
       "    <tr>\n",
       "      <th>6930</th>\n",
       "      <td>7c2016d6-d74f-4c9b-bdeb-21626b71adc6</td>\n",
       "      <td>b362f068-b8b8-4d41-ae39-cc4c488c36ca</td>\n",
       "      <td>0.608685</td>\n",
       "    </tr>\n",
       "    <tr>\n",
       "      <th>6931</th>\n",
       "      <td>55134294-48bc-4e6a-8fa5-41d7ae3b7a70</td>\n",
       "      <td>b145c256-954c-4108-b1f5-a8eb19ee3e50</td>\n",
       "      <td>0.600929</td>\n",
       "    </tr>\n",
       "  </tbody>\n",
       "</table>\n",
       "<p>6932 rows × 3 columns</p>\n",
       "</div>"
      ],
      "text/plain": [
       "                                   person1  \\\n",
       "0     7ba5ac16-8c73-401b-b3e7-f3acaf65bff9   \n",
       "1     f07c936e-0be2-4232-9e7e-6d04ec1751f1   \n",
       "2     7ba5ac16-8c73-401b-b3e7-f3acaf65bff9   \n",
       "3     7fd4dcb1-b166-42f5-9484-02985bb2ef49   \n",
       "4     7fd4dcb1-b166-42f5-9484-02985bb2ef49   \n",
       "...                                    ...   \n",
       "6927  2c94e7f1-e29a-45c4-84d2-bd024415d105   \n",
       "6928  21eef46c-9fae-4353-9e67-6bab2ce496d0   \n",
       "6929  553ce11a-44c6-4258-b7a5-61c6950d64b8   \n",
       "6930  7c2016d6-d74f-4c9b-bdeb-21626b71adc6   \n",
       "6931  55134294-48bc-4e6a-8fa5-41d7ae3b7a70   \n",
       "\n",
       "                                   person2  similarity  \n",
       "0     f07c936e-0be2-4232-9e7e-6d04ec1751f1    1.000000  \n",
       "1     7ba5ac16-8c73-401b-b3e7-f3acaf65bff9    1.000000  \n",
       "2     7fd4dcb1-b166-42f5-9484-02985bb2ef49    0.985398  \n",
       "3     7ba5ac16-8c73-401b-b3e7-f3acaf65bff9    0.985398  \n",
       "4     f07c936e-0be2-4232-9e7e-6d04ec1751f1    0.985398  \n",
       "...                                    ...         ...  \n",
       "6927  c5df8342-02c8-46b4-98d8-8b1f0a06ecac    0.622691  \n",
       "6928  921c8300-1059-40ea-b3df-429f51826443    0.613362  \n",
       "6929  f7d6178f-fc3a-410d-b08c-1102487adc92    0.612722  \n",
       "6930  b362f068-b8b8-4d41-ae39-cc4c488c36ca    0.608685  \n",
       "6931  b145c256-954c-4108-b1f5-a8eb19ee3e50    0.600929  \n",
       "\n",
       "[6932 rows x 3 columns]"
      ]
     },
     "execution_count": 19,
     "metadata": {},
     "output_type": "execute_result"
    }
   ],
   "source": [
    "gds.run_cypher(\n",
    "    \"\"\"\n",
    "        MATCH (p1:Respondent)-[r:SIMILAR]->(p2:Respondent)\n",
    "        WHERE r.score > 0.0\n",
    "        RETURN p1.id AS person1, p2.id AS person2, r.score AS similarity\n",
    "        ORDER BY similarity DESCENDING, person1, person2\n",
    "    \"\"\"\n",
    ")"
   ]
  },
  {
   "cell_type": "code",
   "execution_count": 40,
   "metadata": {},
   "outputs": [
    {
     "name": "stdout",
     "output_type": "stream",
     "text": [
      "0 55134294-48bc-4e6a-8fa5-41d7ae3b7a70 Vi delar resultat och diskuterar kartläggningarna tillsammans med all personal på skolan\n",
      "1 55134294-48bc-4e6a-8fa5-41d7ae3b7a70 I vår skola respekterar eleverna alla människor\n",
      "2 55134294-48bc-4e6a-8fa5-41d7ae3b7a70 Tillsammans med eleverna diskuterar vi återkommande andra människors egenvärde samt deras kroppsliga och personliga integritet\n",
      "3 55134294-48bc-4e6a-8fa5-41d7ae3b7a70 I min(a) klass(er) är klassreglerna framtagna gemensamt av elever och lärare\n",
      "4 55134294-48bc-4e6a-8fa5-41d7ae3b7a70 I min(a) klass(er) kan alla elever känna sig trygga \n",
      "5 55134294-48bc-4e6a-8fa5-41d7ae3b7a70 Rektor eller skolledning är bra på att stötta och uppmuntra personalen i arbetet mot kränkningar eller mobbning\n",
      "6 55134294-48bc-4e6a-8fa5-41d7ae3b7a70 Skolans personal finns på de platser i skolan som eleverna i kartläggningar har upplevt som mest otrygga\n",
      "7 55134294-48bc-4e6a-8fa5-41d7ae3b7a70 Har du tankar eller kommentarer om hur det var att svara på denna enkät? Skriv gärna ner dem här\n",
      "8 55134294-48bc-4e6a-8fa5-41d7ae3b7a70 Särskilt utarbetade strategier för att skapa goda relationer mellan eleverna tillämpas i vår skola \n",
      "9 55134294-48bc-4e6a-8fa5-41d7ae3b7a70 Föräldrar eller vårdnadshavare är återkommande involverade i aktiviteter som förebygger kränkningar eller mobbning \n",
      "10 55134294-48bc-4e6a-8fa5-41d7ae3b7a70 Lärare på vår skola skapar ordning och arbetsro i klassrummen\n",
      "11 55134294-48bc-4e6a-8fa5-41d7ae3b7a70 Jag ingår i skolans elevhälso-/trygghetsteam\n",
      "12 55134294-48bc-4e6a-8fa5-41d7ae3b7a70 I min(a) klass(er) är eleverna omtänksamma mot varandra \n",
      "13 55134294-48bc-4e6a-8fa5-41d7ae3b7a70 Det finns lärare eller andra vuxna på vår skola som märker när en elev är borta från skolan\n",
      "14 55134294-48bc-4e6a-8fa5-41d7ae3b7a70 Vi har ett fungerande system där personal befinner sig bland eleverna på rasterna, tex. ett utarbetat rastvaktsschema \n",
      "15 55134294-48bc-4e6a-8fa5-41d7ae3b7a70 Skolpersonalen har över lag lätt för att engagera sig i arbetet mot kränkningar eller mobbning\n",
      "16 55134294-48bc-4e6a-8fa5-41d7ae3b7a70 Vi har tydliga åtgärdande handlingsstrategier som vi följer NÄR ELEVER KRÄNKER eller mobbar andra elever\n",
      "17 55134294-48bc-4e6a-8fa5-41d7ae3b7a70 Vi delar resultat och diskuterar kartläggningarna tillsammans med eleverna \n",
      "18 55134294-48bc-4e6a-8fa5-41d7ae3b7a70 I min(a) klass(er) gillar de flesta eleverna skolan\n",
      "19 55134294-48bc-4e6a-8fa5-41d7ae3b7a70 Arbetet mot kränkningar eller mobbning tar mycket tid från andra viktiga saker (t.ex. undervisning)\n",
      "20 55134294-48bc-4e6a-8fa5-41d7ae3b7a70 Lärare på vår skola tar sig tid att berätta för eleverna hur det går för dem i skolan\n",
      "21 55134294-48bc-4e6a-8fa5-41d7ae3b7a70 Vi har tydliga åtgärdande handlingsstrategier som vi följer när elever kränks eller mobbas av andra ELEVER \n",
      "22 55134294-48bc-4e6a-8fa5-41d7ae3b7a70 Föräldrar eller vårdnadshavare informeras fortlöpande om arbetet mot kränkningar eller mobbning tex vid föräldramöten, i veckobrev eller liknande\n",
      "23 55134294-48bc-4e6a-8fa5-41d7ae3b7a70 Antal år jag har arbetat på min nuvarande arbetsplats\n",
      "24 55134294-48bc-4e6a-8fa5-41d7ae3b7a70 I vår skola är eleverna vänliga mot varandra \n",
      "25 55134294-48bc-4e6a-8fa5-41d7ae3b7a70 Lärare och andra vuxna på vår skola behandlar alla elever med respekt\n",
      "26 55134294-48bc-4e6a-8fa5-41d7ae3b7a70 När en eller flera elever gör något elakt mot en annan elev på skolan får det konsekvenser för de eleverna\n",
      "27 55134294-48bc-4e6a-8fa5-41d7ae3b7a70 Skolans regler tas fram och följs upp tillsammans med eleverna\n",
      "28 55134294-48bc-4e6a-8fa5-41d7ae3b7a70 I vår skola följer de flesta eleverna skolans regler\n",
      "29 55134294-48bc-4e6a-8fa5-41d7ae3b7a70 Jag är\n",
      "30 55134294-48bc-4e6a-8fa5-41d7ae3b7a70 Kartläggningarna påverkar skolans konkreta systematiska arbete mot kränkningar eller mobbning\n",
      "31 55134294-48bc-4e6a-8fa5-41d7ae3b7a70 Vi får fortlöpande utbildning rörande kränkningar eller mobbning och hur det kan förebyggas och motverkas\n",
      "32 55134294-48bc-4e6a-8fa5-41d7ae3b7a70 Föräldrar eller vårdnadshavare erbjuds utbildning i arbetet mot kränkningar eller mobbning genom exempelvis workshops, seminarier eller kurser\n",
      "33 55134294-48bc-4e6a-8fa5-41d7ae3b7a70 Vi uppmanar alla elever att ta avstånd från att människor utsätts för våld, förtryck, diskriminering och kränkande behandling samt att de medverkar till att hjälpa andra människor\n",
      "34 55134294-48bc-4e6a-8fa5-41d7ae3b7a70 All personal är involverad och delaktig i arbetet mot kränkningar eller mobbning\n",
      "35 55134294-48bc-4e6a-8fa5-41d7ae3b7a70 Vi har en särskild grupp (ett antimobbnings­team, likabehandlingsgrupp, trygghetsteam eller liknande) som består av både lärare och personal med specialistkompetens, som skolpsykologer, kuratorer, specialpedagoger eller skolsköterskor - med uppgift att agera när kränkningar eller mobbning inträffar\n",
      "36 55134294-48bc-4e6a-8fa5-41d7ae3b7a70 Lärare på vår skola behandlar eleverna rättvist\n",
      "37 55134294-48bc-4e6a-8fa5-41d7ae3b7a70 Särskilt utarbetade strategier för att skapa goda relationer mellan lärare och elever tillämpas i vår skola\n",
      "38 55134294-48bc-4e6a-8fa5-41d7ae3b7a70 Lärare på vår lyssnar uppmärksamt när elever frågar dem om något\n",
      "39 55134294-48bc-4e6a-8fa5-41d7ae3b7a70 Det finns lärare eller andra vuxna på vår skola som hjälper elever om de blir illa behandlade\n",
      "40 55134294-48bc-4e6a-8fa5-41d7ae3b7a70 Rektor eller skolledning driver aktivt det systematiska arbetet för att främja trygghet och studiero samt förebygga kränkningar eller mobbning\n",
      "41 55134294-48bc-4e6a-8fa5-41d7ae3b7a70 Vi får särskild träning i hur vi bör ingripa på ett säkert sätt för att avvärja kränkningar, mobbning eller våld\n",
      "42 55134294-48bc-4e6a-8fa5-41d7ae3b7a70 Vi använder konsekvent någon form av pedagogiskt material i arbetet mot kränkningar, mobbning eller våld (t.ex. läroböcker, övningar, filmer, dataspel)\n",
      "43 55134294-48bc-4e6a-8fa5-41d7ae3b7a70 I vår skola vet eleverna vilka regler som finns \n",
      "44 55134294-48bc-4e6a-8fa5-41d7ae3b7a70 I min(a) klass(er) arbetar eleverna hårt för att lära sig mycket\n",
      "45 55134294-48bc-4e6a-8fa5-41d7ae3b7a70 Vi engagerar elever i diskussioner om kränkningar eller mobbning t.ex. inom ramen för undervisningen eller i grupper utanför lektionstid\n",
      "46 55134294-48bc-4e6a-8fa5-41d7ae3b7a70 Samarbetet mellan personalen (inklusive mobbningsteam eller liknande) fungerar för det mesta bra om och när det uppstår incidenter (kring mobbning/kränkningar)\n",
      "47 55134294-48bc-4e6a-8fa5-41d7ae3b7a70 Min roll på skolan är\n",
      "48 55134294-48bc-4e6a-8fa5-41d7ae3b7a70 Skolans regler tillämpas lika av all personal \n",
      "49 55134294-48bc-4e6a-8fa5-41d7ae3b7a70 Lärare och andra vuxna på vår skola är bra på att förhindra att elever blir utsatta, exempelvis retade, utstötta, hotade, slagna, eller kallade elaka saker av andra elever\n",
      "50 55134294-48bc-4e6a-8fa5-41d7ae3b7a70 Lärare och andra vuxna på vår skola är bra på att säga ifrån till elever som säger eller gör elaka saker mot andra elever\n",
      "51 55134294-48bc-4e6a-8fa5-41d7ae3b7a70 Vi tränar alla elever i att gripa in på ett säkert sätt när någon utsätts för kränkningar eller mobbning i skolan eller på nätet\n",
      "52 55134294-48bc-4e6a-8fa5-41d7ae3b7a70 Vår skola arbetar förebyggande mot kränkande fotografering eller filmning i omklädningsrum, dusch eller liknande\n",
      "53 55134294-48bc-4e6a-8fa5-41d7ae3b7a70 Lärare på vår skola ger eleverna bra stöd och hjälp\n",
      "54 55134294-48bc-4e6a-8fa5-41d7ae3b7a70 Jag har under de senaste 2-3 månaderna utsatts för att (flervalsfråga)\n",
      "55 55134294-48bc-4e6a-8fa5-41d7ae3b7a70 På rasterna anordnas det organiserade aktiviteter av särskild personal, rastpedagoger, skolgårdslärare, fritidspedagoger eller liknande\n",
      "56 55134294-48bc-4e6a-8fa5-41d7ae3b7a70 Arbetet mot kränkningar eller mobbning försvåras av brist på resurser (personal- och/eller ekonomiska resurser)\n",
      "57 55134294-48bc-4e6a-8fa5-41d7ae3b7a70 Lärare och andra vuxna på vår skola lyssnar på eleverna \n",
      "58 55134294-48bc-4e6a-8fa5-41d7ae3b7a70 Förekomsten av kränkningar eller mobbning kartläggs genom återkommande elevenkäter (varje termin eller år)\n",
      "59 55134294-48bc-4e6a-8fa5-41d7ae3b7a70 I min(a) klass(er) är det bra stämning\n",
      "60 55134294-48bc-4e6a-8fa5-41d7ae3b7a70 Lärare och andra vuxna på vår skola bryr sig om eleverna\n",
      "61 55134294-48bc-4e6a-8fa5-41d7ae3b7a70 Vi har tydliga åtgärdande handlingsstrategier som vi följer när elever kränks eller mobbas av LÄRARE eller ANDRA VUXNA PÅ SKOLAN\n",
      "62 55134294-48bc-4e6a-8fa5-41d7ae3b7a70 Vi har tydliga rutiner för att dokumentera och följa upp arbetet med uppkomna fall av kränkning eller mobbning på skolan\n",
      "63 55134294-48bc-4e6a-8fa5-41d7ae3b7a70 Lärare på vår skola ställer tydliga krav på eleverna\n",
      "64 55134294-48bc-4e6a-8fa5-41d7ae3b7a70 Arbetet mot kränkningar eller mobbning störs av att de organisatoriska förutsättningarna ofta förändras\n",
      "65 55134294-48bc-4e6a-8fa5-41d7ae3b7a70 Jag har behövt ingripa fysiskt för att avvärja våld, kränkningar eller andra ordningsstörningar\n",
      "66 55134294-48bc-4e6a-8fa5-41d7ae3b7a70 Lärare och andra vuxna på vår skola känner ett ansvar att förbättra skolan\n",
      "67 b145c256-954c-4108-b1f5-a8eb19ee3e50 Jag har fått kortare personalinformation om kränkningar och mobbning   \n",
      "68 b145c256-954c-4108-b1f5-a8eb19ee3e50 Lärare och andra vuxna på vår skola är bra på att förhindra att elever blir utsatta, exempelvis retade, utstötta, hotade, slagna, eller kallade elaka saker av andra elever\n",
      "69 b145c256-954c-4108-b1f5-a8eb19ee3e50 Lärare på vår skola behandlar eleverna rättvist\n",
      "70 b145c256-954c-4108-b1f5-a8eb19ee3e50 Föräldrar eller vårdnadshavare informeras fortlöpande om arbetet mot kränkningar, mobbning eller diskriminering tex vid föräldramöten, i veckobrev eller liknande \n",
      "71 b145c256-954c-4108-b1f5-a8eb19ee3e50 I min(a) klass(er) kan alla elever känna sig trygga  \n",
      "72 b145c256-954c-4108-b1f5-a8eb19ee3e50  I min(a) klass(er) är det bra stämning \n",
      "73 b145c256-954c-4108-b1f5-a8eb19ee3e50 Lärare på vår skola ger eleverna bra stöd och hjälp i klassrummen\n",
      "74 b145c256-954c-4108-b1f5-a8eb19ee3e50 Lärare på vår skola säger till de elever som stör undervisningen\n",
      "75 b145c256-954c-4108-b1f5-a8eb19ee3e50 Arbetet mot kränkningar och/eller mobbning tar mycket tid från andra viktiga saker (t.ex. undervisning)\n",
      "76 b145c256-954c-4108-b1f5-a8eb19ee3e50 Antal år jag har arbetat på min nuvarande arbetsplats\n",
      "77 b145c256-954c-4108-b1f5-a8eb19ee3e50 Kartläggningarna påverkar skolans konkreta systematiska arbete mot kränkningar och mobbning \n",
      "78 b145c256-954c-4108-b1f5-a8eb19ee3e50 Föräldrar eller vårdnadshavare är återkommande involverade i aktiviteter som förebygger kränkningar, mobbning eller diskriminering \n",
      "79 b145c256-954c-4108-b1f5-a8eb19ee3e50 När en eller flera elever gör något elakt mot en annan elev på skolan får det konsekvenser för de eleverna\n",
      "80 b145c256-954c-4108-b1f5-a8eb19ee3e50 Vi har en särskild grupp (ett antimobbningsteam, elevhälsoteam, likabehandlingsgrupp, trygghetsteam eller liknande) som består av både lärare och personal med specialistkompetens, som skolpsykologer, kuratorer, specialpedagoger eller skolsköterskor - med uppgift att agera när kränkningar eller mobbning inträffar \n",
      "81 b145c256-954c-4108-b1f5-a8eb19ee3e50 Det finns lärare eller andra vuxna på vår skola som hjälper elever om de blir illa behandlade\n",
      "82 b145c256-954c-4108-b1f5-a8eb19ee3e50 Vår skola arbetar med aktiva åtgärder mot diskriminering \n",
      "83 b145c256-954c-4108-b1f5-a8eb19ee3e50 Samarbetet mellan personalen (inklusive mobbningsteam eller liknande) fungerar bra om och när det uppstår incidenter (kring mobbning/kränkningar)\n",
      "84 b145c256-954c-4108-b1f5-a8eb19ee3e50 Arbetet mot kränkningar eller mobbning störs av att de organisatoriska förutsättningarna ofta förändras\n",
      "85 b145c256-954c-4108-b1f5-a8eb19ee3e50 All personal är involverad och delaktig i arbetet mot kränkningar och mobbning\n",
      "86 b145c256-954c-4108-b1f5-a8eb19ee3e50 Vi har tydliga rutiner för att dokumentera och följa upp arbetet med uppkomna fall av kränkning och/eller mobbning på skolan\n",
      "87 b145c256-954c-4108-b1f5-a8eb19ee3e50 Tillsammans med eleverna diskuterar vi återkommande andra människors egenvärde samt deras kroppsliga och personliga integritet \n",
      "88 b145c256-954c-4108-b1f5-a8eb19ee3e50 I min(a) klass(er) är eleverna omtänksamma mot varandra\n",
      "89 b145c256-954c-4108-b1f5-a8eb19ee3e50 Rektor eller skolledning är bra på att stötta och uppmuntra personalen i arbetet mot kränkningar och mobbning\n",
      "90 b145c256-954c-4108-b1f5-a8eb19ee3e50 Vi delar resultat och diskuterar kartläggningarna tillsammans med eleverna \n",
      "91 b145c256-954c-4108-b1f5-a8eb19ee3e50 Jag får särskild träning i hur vi bör ingripa på ett säkert sätt för att avvärja kränkningar, mobbning, diskriminering eller våld\n",
      "92 b145c256-954c-4108-b1f5-a8eb19ee3e50 Vi har tydliga åtgärdande handlingsstrategier som vi följer när elever kränks eller mobbas av andra ELEVER \n",
      "93 b145c256-954c-4108-b1f5-a8eb19ee3e50 Vi har rutiner för hur vi ska medla mellan elever som har hamnat i konflikt\n",
      "94 b145c256-954c-4108-b1f5-a8eb19ee3e50 Särskilt utarbetade strategier för att skapa goda relationer mellan lärare och elever tillämpas i vår skola \n",
      "95 b145c256-954c-4108-b1f5-a8eb19ee3e50 Lärare på vår skola ställer tydliga krav på eleverna\n",
      "96 b145c256-954c-4108-b1f5-a8eb19ee3e50 Vi har tydliga åtgärdande handlingsstrategier som vi följer när ELEVER KRÄNKER eller mobbar andra elever \n",
      "97 b145c256-954c-4108-b1f5-a8eb19ee3e50 Vi tränar alla elever i att gripa in på ett säkert sätt när någon utsätts för kränkningar, mobbning eller trakasserier i skolan eller på nätet \n",
      "98 b145c256-954c-4108-b1f5-a8eb19ee3e50 I vår skola finns en dålig jargong mellan eleverna \n",
      "99 b145c256-954c-4108-b1f5-a8eb19ee3e50 I vår skola följer de flesta eleverna skolans regler\n",
      "100 b145c256-954c-4108-b1f5-a8eb19ee3e50 Jag är\n",
      "101 b145c256-954c-4108-b1f5-a8eb19ee3e50 De följande frågorna ska besvaras utifrån din generella uppfattning om hur det är på er skola: Lärare och andra vuxna på vår skola bryr sig om eleverna\n",
      "102 b145c256-954c-4108-b1f5-a8eb19ee3e50 I min(a) klass(er) arbetar eleverna hårt för att lära sig mycket\n",
      "103 b145c256-954c-4108-b1f5-a8eb19ee3e50 Jag får fortlöpande utbildning rörande kränkningar, mobbning och diskriminering och hur det kan förebyggas och motverkas \n",
      "104 b145c256-954c-4108-b1f5-a8eb19ee3e50 Arbetet mot kränkningar och/eller mobbning försvåras av brist på resurser (personal- och/eller ekonomiska resurser)\n",
      "105 b145c256-954c-4108-b1f5-a8eb19ee3e50 Skolans regler tillämpas lika av all personal \n",
      "106 b145c256-954c-4108-b1f5-a8eb19ee3e50 Min roll på skolan är\n",
      "107 b145c256-954c-4108-b1f5-a8eb19ee3e50 Jag har behövt ingripa fysiskt för att avvärja våld, kränkningar eller andra ordningsstörningar \n",
      "108 b145c256-954c-4108-b1f5-a8eb19ee3e50 Skolans personal finns under raster på de platser i skolan som eleverna i kartläggningar har upplevt som mest otrygga \n",
      "109 b145c256-954c-4108-b1f5-a8eb19ee3e50 Jag har under de senaste 2-3 månaderna utsatts för att (flerval)\n",
      "110 b145c256-954c-4108-b1f5-a8eb19ee3e50 Lärare och andra vuxna på vår skola lyssnar uppmärksamt när elever ställer frågor eller har synpunkter på något\n",
      "111 b145c256-954c-4108-b1f5-a8eb19ee3e50 Vår skola har en plan mot kränkande behandling som revideras varje år\n",
      "112 b145c256-954c-4108-b1f5-a8eb19ee3e50 Vi har ett fungerande system där personal befinner sig bland eleverna på rasterna, tex. ett utarbetat rastvaktsschema \n",
      "113 b145c256-954c-4108-b1f5-a8eb19ee3e50 På rasterna anordnas det organiserade aktiviteter av särskild personal, rastpedagoger, skolgårdslärare, fritidspedagoger eller liknande \n",
      "114 b145c256-954c-4108-b1f5-a8eb19ee3e50 Skolpersonalen har över lag lätt för att engagera sig i arbetet mot kränkningar eller mobbning\n",
      "115 b145c256-954c-4108-b1f5-a8eb19ee3e50 Vi använder konsekvent någon form av pedagogiskt material i arbetet mot kränkningar, mobbning eller våld (t.ex. läroböcker, övningar, filmer, dataspel)\n",
      "116 b145c256-954c-4108-b1f5-a8eb19ee3e50 Jag är klasslärare/mentor\n",
      "117 b145c256-954c-4108-b1f5-a8eb19ee3e50 Lärare och andra vuxna på vår skola behandlar alla elever med respekt\n",
      "118 b145c256-954c-4108-b1f5-a8eb19ee3e50 Lärare på vår skola tar sig tid att berätta för eleverna hur det går för dem i skolan\n",
      "119 b145c256-954c-4108-b1f5-a8eb19ee3e50 Föräldrar eller vårdnadshavare erbjuds utbildning i arbetet mot kränkningar, mobbning eller diskriminering genom exempelvis workshops, seminarier eller kurser \n",
      "120 b145c256-954c-4108-b1f5-a8eb19ee3e50 Lärare och andra vuxna på vår skola är bra på att säga ifrån till elever som säger eller gör elaka saker mot andra elever\n",
      "121 b145c256-954c-4108-b1f5-a8eb19ee3e50 I min(a) klass(er) är klassreglerna framtagna gemensamt av elever och lärare \n",
      "122 b145c256-954c-4108-b1f5-a8eb19ee3e50 Särskilt utarbetade strategier för att skapa goda relationer mellan eleverna tillämpas i vår skola \n",
      "123 b145c256-954c-4108-b1f5-a8eb19ee3e50 I vår skola är eleverna vänliga mot varandra\n",
      "124 b145c256-954c-4108-b1f5-a8eb19ee3e50 Lärare och andra vuxna på vår skola känner ett ansvar att förbättra skolan\n",
      "125 b145c256-954c-4108-b1f5-a8eb19ee3e50 Lärare på vår skola skapar ordning och arbetsro i klassrummen\n",
      "126 b145c256-954c-4108-b1f5-a8eb19ee3e50 Vi delar resultat och diskuterar kartläggningarna tillsammans med all personal \n",
      "127 b145c256-954c-4108-b1f5-a8eb19ee3e50 I min(a) klass(er) gillar de flesta eleverna skolan\n",
      "128 b145c256-954c-4108-b1f5-a8eb19ee3e50 Jag arbetar främst med\n",
      "129 b145c256-954c-4108-b1f5-a8eb19ee3e50 I vår skola respekterar eleverna alla människor \n",
      "130 b145c256-954c-4108-b1f5-a8eb19ee3e50 Jag känner till vad som står i skolans plan mot kränkande behandling\n",
      "131 b145c256-954c-4108-b1f5-a8eb19ee3e50 Vi uppmanar alla elever att ta avstånd från att människor utsätts för våld, förtryck, diskriminering och kränkande behandling samt att de medverkar till att hjälpa andra människor \n",
      "132 b145c256-954c-4108-b1f5-a8eb19ee3e50 Förekomsten av kränkningar eller mobbning kartläggs genom återkommande elevenkäter (varje termin eller år)\n",
      "133 b145c256-954c-4108-b1f5-a8eb19ee3e50 Skolans ordningsregler tas fram och följs upp tillsammans med eleverna \n",
      "134 b145c256-954c-4108-b1f5-a8eb19ee3e50 Här följer ett antal påståenden som vi vill att du ska ta ställning till. Frågorna rör både skolans och ditt eget arbete mot kränkningar och mobbning: Rektor eller skolledning driver aktivt det systematiska arbetet för att främja trygghet och studiero samt förebygga kränkningar och mobbning\n",
      "135 b145c256-954c-4108-b1f5-a8eb19ee3e50 I vår skola vet eleverna vilka regler som finns \n",
      "136 b145c256-954c-4108-b1f5-a8eb19ee3e50 Har du några tankar eller kommentarer om hur det vara att fylla i enkäten som du vill dela med dig av?\n",
      "137 b145c256-954c-4108-b1f5-a8eb19ee3e50 Vi engagerar elever i diskussioner om kränkningar, mobbning och diskriminering t.ex. inom ramen för undervisningen eller i grupper utanför lektionstid  \n",
      "138 b145c256-954c-4108-b1f5-a8eb19ee3e50 Vi har tydliga åtgärdande handlingsstrategier som vi följer när elever kränks eller mobbas av LÄRARE ELLER ANDRA VUXNA PÅ SKOLAN\n"
     ]
    }
   ],
   "source": [
    "result = gds.run_cypher(\"\"\"\n",
    "    MATCH (r:Respondent)-[ha:HAS_ANSWERED]-(q:Question)\n",
    "    WHERE r.id = '55134294-48bc-4e6a-8fa5-41d7ae3b7a70'\n",
    "    OR r.id = 'b145c256-954c-4108-b1f5-a8eb19ee3e50'\n",
    "    RETURN r.id as respondent, q.name AS question;\n",
    "\"\"\")\n",
    "\n",
    "for ix, row in enumerate(result['question']):\n",
    "    print(ix, result['respondent'][ix], row)"
   ]
  },
  {
   "cell_type": "code",
   "execution_count": 34,
   "metadata": {},
   "outputs": [
    {
     "name": "stdout",
     "output_type": "stream",
     "text": [
      "\n",
      "            8 and 122 have the same question:\n",
      "            Question: Särskilt utarbetade strategier för att skapa goda relationer mellan eleverna tillämpas i vår skola \n",
      "            \n",
      "\n",
      "            10 and 125 have the same question:\n",
      "            Question: Lärare på vår skola skapar ordning och arbetsro i klassrummen\n",
      "            \n",
      "\n",
      "            14 and 112 have the same question:\n",
      "            Question: Vi har ett fungerande system där personal befinner sig bland eleverna på rasterna, tex. ett utarbetat rastvaktsschema \n",
      "            \n",
      "\n",
      "            15 and 114 have the same question:\n",
      "            Question: Skolpersonalen har över lag lätt för att engagera sig i arbetet mot kränkningar eller mobbning\n",
      "            \n",
      "\n",
      "            17 and 90 have the same question:\n",
      "            Question: Vi delar resultat och diskuterar kartläggningarna tillsammans med eleverna \n",
      "            \n",
      "\n",
      "            18 and 127 have the same question:\n",
      "            Question: I min(a) klass(er) gillar de flesta eleverna skolan\n",
      "            \n",
      "\n",
      "            20 and 118 have the same question:\n",
      "            Question: Lärare på vår skola tar sig tid att berätta för eleverna hur det går för dem i skolan\n",
      "            \n",
      "\n",
      "            21 and 92 have the same question:\n",
      "            Question: Vi har tydliga åtgärdande handlingsstrategier som vi följer när elever kränks eller mobbas av andra ELEVER \n",
      "            \n",
      "\n",
      "            23 and 76 have the same question:\n",
      "            Question: Antal år jag har arbetat på min nuvarande arbetsplats\n",
      "            \n",
      "\n",
      "            25 and 117 have the same question:\n",
      "            Question: Lärare och andra vuxna på vår skola behandlar alla elever med respekt\n",
      "            \n",
      "\n",
      "            26 and 79 have the same question:\n",
      "            Question: När en eller flera elever gör något elakt mot en annan elev på skolan får det konsekvenser för de eleverna\n",
      "            \n",
      "\n",
      "            28 and 99 have the same question:\n",
      "            Question: I vår skola följer de flesta eleverna skolans regler\n",
      "            \n",
      "\n",
      "            29 and 100 have the same question:\n",
      "            Question: Jag är\n",
      "            \n",
      "\n",
      "            36 and 69 have the same question:\n",
      "            Question: Lärare på vår skola behandlar eleverna rättvist\n",
      "            \n",
      "\n",
      "            39 and 81 have the same question:\n",
      "            Question: Det finns lärare eller andra vuxna på vår skola som hjälper elever om de blir illa behandlade\n",
      "            \n",
      "\n",
      "            42 and 115 have the same question:\n",
      "            Question: Vi använder konsekvent någon form av pedagogiskt material i arbetet mot kränkningar, mobbning eller våld (t.ex. läroböcker, övningar, filmer, dataspel)\n",
      "            \n",
      "\n",
      "            43 and 135 have the same question:\n",
      "            Question: I vår skola vet eleverna vilka regler som finns \n",
      "            \n",
      "\n",
      "            44 and 102 have the same question:\n",
      "            Question: I min(a) klass(er) arbetar eleverna hårt för att lära sig mycket\n",
      "            \n",
      "\n",
      "            47 and 106 have the same question:\n",
      "            Question: Min roll på skolan är\n",
      "            \n",
      "\n",
      "            48 and 105 have the same question:\n",
      "            Question: Skolans regler tillämpas lika av all personal \n",
      "            \n",
      "\n",
      "            49 and 68 have the same question:\n",
      "            Question: Lärare och andra vuxna på vår skola är bra på att förhindra att elever blir utsatta, exempelvis retade, utstötta, hotade, slagna, eller kallade elaka saker av andra elever\n",
      "            \n",
      "\n",
      "            50 and 120 have the same question:\n",
      "            Question: Lärare och andra vuxna på vår skola är bra på att säga ifrån till elever som säger eller gör elaka saker mot andra elever\n",
      "            \n",
      "\n",
      "            58 and 132 have the same question:\n",
      "            Question: Förekomsten av kränkningar eller mobbning kartläggs genom återkommande elevenkäter (varje termin eller år)\n",
      "            \n",
      "\n",
      "            63 and 95 have the same question:\n",
      "            Question: Lärare på vår skola ställer tydliga krav på eleverna\n",
      "            \n",
      "\n",
      "            64 and 84 have the same question:\n",
      "            Question: Arbetet mot kränkningar eller mobbning störs av att de organisatoriska förutsättningarna ofta förändras\n",
      "            \n",
      "\n",
      "            66 and 124 have the same question:\n",
      "            Question: Lärare och andra vuxna på vår skola känner ett ansvar att förbättra skolan\n",
      "            \n",
      "\n",
      "            68 and 49 have the same question:\n",
      "            Question: Lärare och andra vuxna på vår skola är bra på att förhindra att elever blir utsatta, exempelvis retade, utstötta, hotade, slagna, eller kallade elaka saker av andra elever\n",
      "            \n",
      "\n",
      "            69 and 36 have the same question:\n",
      "            Question: Lärare på vår skola behandlar eleverna rättvist\n",
      "            \n",
      "\n",
      "            76 and 23 have the same question:\n",
      "            Question: Antal år jag har arbetat på min nuvarande arbetsplats\n",
      "            \n",
      "\n",
      "            79 and 26 have the same question:\n",
      "            Question: När en eller flera elever gör något elakt mot en annan elev på skolan får det konsekvenser för de eleverna\n",
      "            \n",
      "\n",
      "            81 and 39 have the same question:\n",
      "            Question: Det finns lärare eller andra vuxna på vår skola som hjälper elever om de blir illa behandlade\n",
      "            \n",
      "\n",
      "            84 and 64 have the same question:\n",
      "            Question: Arbetet mot kränkningar eller mobbning störs av att de organisatoriska förutsättningarna ofta förändras\n",
      "            \n",
      "\n",
      "            90 and 17 have the same question:\n",
      "            Question: Vi delar resultat och diskuterar kartläggningarna tillsammans med eleverna \n",
      "            \n",
      "\n",
      "            92 and 21 have the same question:\n",
      "            Question: Vi har tydliga åtgärdande handlingsstrategier som vi följer när elever kränks eller mobbas av andra ELEVER \n",
      "            \n",
      "\n",
      "            95 and 63 have the same question:\n",
      "            Question: Lärare på vår skola ställer tydliga krav på eleverna\n",
      "            \n",
      "\n",
      "            99 and 28 have the same question:\n",
      "            Question: I vår skola följer de flesta eleverna skolans regler\n",
      "            \n",
      "\n",
      "            100 and 29 have the same question:\n",
      "            Question: Jag är\n",
      "            \n",
      "\n",
      "            102 and 44 have the same question:\n",
      "            Question: I min(a) klass(er) arbetar eleverna hårt för att lära sig mycket\n",
      "            \n",
      "\n",
      "            105 and 48 have the same question:\n",
      "            Question: Skolans regler tillämpas lika av all personal \n",
      "            \n",
      "\n",
      "            106 and 47 have the same question:\n",
      "            Question: Min roll på skolan är\n",
      "            \n",
      "\n",
      "            112 and 14 have the same question:\n",
      "            Question: Vi har ett fungerande system där personal befinner sig bland eleverna på rasterna, tex. ett utarbetat rastvaktsschema \n",
      "            \n",
      "\n",
      "            114 and 15 have the same question:\n",
      "            Question: Skolpersonalen har över lag lätt för att engagera sig i arbetet mot kränkningar eller mobbning\n",
      "            \n",
      "\n",
      "            115 and 42 have the same question:\n",
      "            Question: Vi använder konsekvent någon form av pedagogiskt material i arbetet mot kränkningar, mobbning eller våld (t.ex. läroböcker, övningar, filmer, dataspel)\n",
      "            \n",
      "\n",
      "            117 and 25 have the same question:\n",
      "            Question: Lärare och andra vuxna på vår skola behandlar alla elever med respekt\n",
      "            \n",
      "\n",
      "            118 and 20 have the same question:\n",
      "            Question: Lärare på vår skola tar sig tid att berätta för eleverna hur det går för dem i skolan\n",
      "            \n",
      "\n",
      "            120 and 50 have the same question:\n",
      "            Question: Lärare och andra vuxna på vår skola är bra på att säga ifrån till elever som säger eller gör elaka saker mot andra elever\n",
      "            \n",
      "\n",
      "            122 and 8 have the same question:\n",
      "            Question: Särskilt utarbetade strategier för att skapa goda relationer mellan eleverna tillämpas i vår skola \n",
      "            \n",
      "\n",
      "            124 and 66 have the same question:\n",
      "            Question: Lärare och andra vuxna på vår skola känner ett ansvar att förbättra skolan\n",
      "            \n",
      "\n",
      "            125 and 10 have the same question:\n",
      "            Question: Lärare på vår skola skapar ordning och arbetsro i klassrummen\n",
      "            \n",
      "\n",
      "            127 and 18 have the same question:\n",
      "            Question: I min(a) klass(er) gillar de flesta eleverna skolan\n",
      "            \n",
      "\n",
      "            132 and 58 have the same question:\n",
      "            Question: Förekomsten av kränkningar eller mobbning kartläggs genom återkommande elevenkäter (varje termin eller år)\n",
      "            \n",
      "\n",
      "            135 and 43 have the same question:\n",
      "            Question: I vår skola vet eleverna vilka regler som finns \n",
      "            \n"
     ]
    }
   ],
   "source": [
    "for i, q in enumerate(result['question']):\n",
    "    for j, p in enumerate(result['question']):\n",
    "        if i == j:\n",
    "            continue\n",
    "        if q == p:\n",
    "            print(f\"\"\"\n",
    "            {i} and {j} have the same question:\n",
    "            Question: {q}\n",
    "            \"\"\")"
   ]
  },
  {
   "attachments": {},
   "cell_type": "markdown",
   "metadata": {},
   "source": [
    "### Before removing duplicate relationships\n",
    "![Before removing duplicate relationships](fastrp_knn_duplicate_relationships.png)\n",
    "\n",
    "### Remove duplicate relationships"
   ]
  },
  {
   "cell_type": "code",
   "execution_count": 2,
   "metadata": {},
   "outputs": [
    {
     "data": {
      "text/html": [
       "<div>\n",
       "<style scoped>\n",
       "    .dataframe tbody tr th:only-of-type {\n",
       "        vertical-align: middle;\n",
       "    }\n",
       "\n",
       "    .dataframe tbody tr th {\n",
       "        vertical-align: top;\n",
       "    }\n",
       "\n",
       "    .dataframe thead th {\n",
       "        text-align: right;\n",
       "    }\n",
       "</style>\n",
       "<table border=\"1\" class=\"dataframe\">\n",
       "  <thead>\n",
       "    <tr style=\"text-align: right;\">\n",
       "      <th></th>\n",
       "    </tr>\n",
       "  </thead>\n",
       "  <tbody>\n",
       "  </tbody>\n",
       "</table>\n",
       "</div>"
      ],
      "text/plain": [
       "Empty DataFrame\n",
       "Columns: []\n",
       "Index: []"
      ]
     },
     "execution_count": 2,
     "metadata": {},
     "output_type": "execute_result"
    }
   ],
   "source": [
    "gds.run_cypher(\"\"\"\n",
    "    MATCH (r1:Respondent)-[rel1:SIMILAR]->(r2:Respondent)\n",
    "    WHERE id(r1) < id(r2) AND EXISTS((r2)-[:SIMILAR]->(r1))\n",
    "    WITH rel1\n",
    "    DELETE rel1\n",
    "    \"\"\")"
   ]
  },
  {
   "attachments": {},
   "cell_type": "markdown",
   "metadata": {},
   "source": [
    "### After removing duplicate relationships\n",
    "![After removing duplicate relationships](fastrp_knn_removed_duplicate_relationships.png)"
   ]
  },
  {
   "attachments": {},
   "cell_type": "markdown",
   "metadata": {},
   "source": [
    "## Community detection for the similar Respondents\n",
    "\n",
    "### First project the Respondents with the `SIMILAR` relationship with the score property"
   ]
  },
  {
   "cell_type": "code",
   "execution_count": 5,
   "metadata": {},
   "outputs": [
    {
     "name": "stdout",
     "output_type": "stream",
     "text": [
      "The projection took 107 ms\n",
      "Graph 'knnSimilarRespondents' node count: 3475\n",
      "Graph 'knnSimilarRespondents' node labels: ['Respondent']\n"
     ]
    }
   ],
   "source": [
    "G, result = gds.graph.project(\n",
    "    \"knnSimilarRespondents\",\n",
    "    [\"Respondent\"],\n",
    "    {\n",
    "        \"SIMILAR\": { \"orientation\": \"UNDIRECTED\" }\n",
    "    },\n",
    "    relationshipProperties=\"score\"\n",
    ")\n",
    "\n",
    "print(f\"The projection took {result['projectMillis']} ms\")\n",
    "print(f\"Graph '{G.name()}' node count: {G.node_count()}\")\n",
    "print(f\"Graph '{G.name()}' node labels: {G.node_labels()}\")"
   ]
  },
  {
   "attachments": {},
   "cell_type": "markdown",
   "metadata": {},
   "source": [
    "### Louvain"
   ]
  },
  {
   "cell_type": "code",
   "execution_count": 13,
   "metadata": {},
   "outputs": [
    {
     "data": {
      "application/vnd.jupyter.widget-view+json": {
       "model_id": "3faf2e664aaf4074b6032b8cf6666614",
       "version_major": 2,
       "version_minor": 0
      },
      "text/plain": [
       "Louvain:   0%|          | 0/100 [00:00<?, ?%/s]"
      ]
     },
     "metadata": {},
     "output_type": "display_data"
    },
    {
     "name": "stdout",
     "output_type": "stream",
     "text": [
      "Number of communities: 25\n"
     ]
    }
   ],
   "source": [
    "result = gds.louvain.stream(G)\n",
    "\n",
    "print(f\"Number of communities: {len(set(result['communityId']))}\")"
   ]
  },
  {
   "cell_type": "code",
   "execution_count": 12,
   "metadata": {},
   "outputs": [
    {
     "data": {
      "application/vnd.jupyter.widget-view+json": {
       "model_id": "2b3c2e0a043f46d580173bba5027e0e9",
       "version_major": 2,
       "version_minor": 0
      },
      "text/plain": [
       "Louvain:   0%|          | 0/100 [00:00<?, ?%/s]"
      ]
     },
     "metadata": {},
     "output_type": "display_data"
    },
    {
     "data": {
      "text/plain": [
       "36"
      ]
     },
     "execution_count": 12,
     "metadata": {},
     "output_type": "execute_result"
    }
   ],
   "source": [
    "result = gds.louvain.stream(G, relationshipWeightProperty=\"score\")\n",
    "\n",
    "print(f\"Number of communities: {len(set(result['communityId']))}\")"
   ]
  },
  {
   "cell_type": "code",
   "execution_count": 14,
   "metadata": {},
   "outputs": [
    {
     "data": {
      "application/vnd.jupyter.widget-view+json": {
       "model_id": "97b96b391a8d44f28a4de0350bd40c25",
       "version_major": 2,
       "version_minor": 0
      },
      "text/plain": [
       "Louvain:   0%|          | 0/100 [00:00<?, ?%/s]"
      ]
     },
     "metadata": {},
     "output_type": "display_data"
    },
    {
     "name": "stdout",
     "output_type": "stream",
     "text": [
      "No. of communities: 38\n",
      "Modularity: 0.7312269661112804\n"
     ]
    }
   ],
   "source": [
    "result = gds.louvain.write(G, relationshipWeightProperty=\"score\", writeProperty=\"louvainCommunity\")\n",
    "print(f\"No. of communities: {result['communityCount']}\")\n",
    "print(f\"Modularity: {result['modularity']}\")"
   ]
  },
  {
   "attachments": {},
   "cell_type": "markdown",
   "metadata": {},
   "source": [
    "```cypher"
   ]
  },
  {
   "attachments": {},
   "cell_type": "markdown",
   "metadata": {},
   "source": [
    "### Unweighted Louvain\n",
    "```cypher\n",
    "CALL gds.louvain.stream('knnSimilarRespondents') YIELD nodeId, communityId, intermediateCommunityIds RETURN COUNT(DISTINCT(communityId));\n",
    "```\n",
    "\n",
    "## Weighted Louvain\n",
    "\n",
    "```cypher\n",
    "CALL gds.louvain.stream('knnSimilarRespondents', { relationshipWeightProperty: 'score' }) YIELD nodeId, communityId, intermediateCommunityIds RETURN COUNT(DISTINCT(communityId));\n",
    "```"
   ]
  },
  {
   "attachments": {},
   "cell_type": "markdown",
   "metadata": {},
   "source": [
    "### APOC seems to not be installed...\n",
    "\n",
    "https://github.com/neo4j-contrib/neo4j-apoc-procedures/releases  \n",
    "https://neo4j.com/labs/apoc/5/installation/\n",
    "\n",
    "\n",
    "\n",
    "### Visualize\n",
    "\n",
    "https://neo4j.com/labs/apoc/5/export/gephi/\n",
    "https://gephi.org/\n",
    "\n",
    "### Apoc installed\n",
    "Had to edit the config."
   ]
  }
 ],
 "metadata": {
  "kernelspec": {
   "display_name": ".venv",
   "language": "python",
   "name": "python3"
  },
  "language_info": {
   "codemirror_mode": {
    "name": "ipython",
    "version": 3
   },
   "file_extension": ".py",
   "mimetype": "text/x-python",
   "name": "python",
   "nbconvert_exporter": "python",
   "pygments_lexer": "ipython3",
   "version": "3.10.4"
  },
  "orig_nbformat": 4
 },
 "nbformat": 4,
 "nbformat_minor": 2
}
