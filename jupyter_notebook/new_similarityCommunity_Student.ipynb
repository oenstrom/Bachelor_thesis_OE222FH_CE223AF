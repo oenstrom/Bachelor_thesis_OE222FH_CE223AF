{
 "cells": [
  {
   "cell_type": "code",
   "execution_count": 18,
   "metadata": {},
   "outputs": [
    {
     "data": {
      "text/plain": [
       "'2.3.2'"
      ]
     },
     "execution_count": 18,
     "metadata": {},
     "output_type": "execute_result"
    }
   ],
   "source": [
    "from databaseconnection import DatabaseConnection\n",
    "gds = DatabaseConnection().get_database_connection()\n",
    "gds.version()"
   ]
  },
  {
   "attachments": {},
   "cell_type": "markdown",
   "metadata": {},
   "source": [
    "# Node Similarity Relationship"
   ]
  },
  {
   "cell_type": "code",
   "execution_count": 5,
   "metadata": {},
   "outputs": [
    {
     "name": "stdout",
     "output_type": "stream",
     "text": [
      "The projection took 40 ms\n",
      "Graph 'studentSimilarity' node count: 3039\n",
      "Graph 'studentSimilarity' node labels: ['Student']\n"
     ]
    }
   ],
   "source": [
    "graph_name = 'studentSimilarity'\n",
    "\n",
    "if gds.graph.exists(graph_name).any():\n",
    "    gds.graph.drop(gds.graph.get(graph_name))\n",
    "\n",
    "G, result = gds.graph.project(\n",
    "    graph_name,\n",
    "    \"Student\",\n",
    "    { \"NODESIMILARITY_POS_PROP\": { \"properties\": \"similarity\" }}\n",
    ")\n",
    "\n",
    "print(f\"The projection took {result['projectMillis']} ms\")\n",
    "print(f\"Graph '{G.name()}' node count: {G.node_count()}\")\n",
    "print(f\"Graph '{G.name()}' node labels: {G.node_labels()}\")"
   ]
  },
  {
   "attachments": {},
   "cell_type": "markdown",
   "metadata": {},
   "source": [
    "## Louvain"
   ]
  },
  {
   "cell_type": "code",
   "execution_count": 7,
   "metadata": {},
   "outputs": [
    {
     "data": {
      "application/vnd.jupyter.widget-view+json": {
       "model_id": "1dca47571e1344ef99c43469bef36a0b",
       "version_major": 2,
       "version_minor": 0
      },
      "text/plain": [
       "Louvain:   0%|          | 0/100 [00:00<?, ?%/s]"
      ]
     },
     "metadata": {},
     "output_type": "display_data"
    },
    {
     "name": "stdout",
     "output_type": "stream",
     "text": [
      "      nodeId  communityId intermediateCommunityIds\n",
      "0       7483           46                     None\n",
      "1       7771           46                     None\n",
      "2       7829           46                     None\n",
      "3       7894           46                     None\n",
      "4       7957           46                     None\n",
      "...      ...          ...                      ...\n",
      "3034  231975         1418                     None\n",
      "3035  232039         1418                     None\n",
      "3036  232103         1418                     None\n",
      "3037  232167         1111                     None\n",
      "3038  232484         1418                     None\n",
      "\n",
      "[3039 rows x 3 columns]\n",
      "17\n"
     ]
    }
   ],
   "source": [
    "result = gds.louvain.stream(\n",
    "    G,\n",
    "    relationshipWeightProperty=\"similarity\",\n",
    ")\n",
    "print(result)\n",
    "print(len(set(result['communityId'])))"
   ]
  },
  {
   "cell_type": "code",
   "execution_count": 8,
   "metadata": {},
   "outputs": [
    {
     "data": {
      "application/vnd.jupyter.widget-view+json": {
       "model_id": "c9f989ea55bf435aa12a896be3fdf465",
       "version_major": 2,
       "version_minor": 0
      },
      "text/plain": [
       "Louvain:   0%|          | 0/100 [00:00<?, ?%/s]"
      ]
     },
     "metadata": {},
     "output_type": "display_data"
    },
    {
     "data": {
      "text/plain": [
       "writeMillis                                                            123\n",
       "nodePropertiesWritten                                                 3039\n",
       "modularity                                                        0.544842\n",
       "modularities                       [0.523752960697736, 0.5448421719678359]\n",
       "ranLevels                                                                2\n",
       "communityCount                                                          17\n",
       "communityDistribution    {'p99': 1339, 'min': 1, 'max': 1339, 'mean': 1...\n",
       "postProcessingMillis                                                     2\n",
       "preProcessingMillis                                                      0\n",
       "computeMillis                                                         1337\n",
       "configuration            {'maxIterations': 10, 'writeConcurrency': 4, '...\n",
       "Name: 0, dtype: object"
      ]
     },
     "execution_count": 8,
     "metadata": {},
     "output_type": "execute_result"
    }
   ],
   "source": [
    "gds.louvain.write(\n",
    "    G,\n",
    "    relationshipWeightProperty=\"similarity\",\n",
    "    writeProperty=\"louvainId_similarity_pos_prop\"\n",
    ")"
   ]
  },
  {
   "cell_type": "code",
   "execution_count": 9,
   "metadata": {},
   "outputs": [
    {
     "name": "stdout",
     "output_type": "stream",
     "text": [
      "    s.louvainId_similarity_pos_prop  numberOfStudents\n",
      "0                              1418              1339\n",
      "1                               712               977\n",
      "2                                94               188\n",
      "3                              1150               139\n",
      "4                              2232               114\n",
      "5                              2622               103\n",
      "6                              2290                98\n",
      "7                                46                72\n",
      "8                                70                 1\n",
      "9                                71                 1\n",
      "10                              333                 1\n",
      "11                              657                 1\n",
      "12                              936                 1\n",
      "13                             1223                 1\n",
      "14                             1528                 1\n",
      "15                             1885                 1\n",
      "16                             2177                 1\n"
     ]
    }
   ],
   "source": [
    "result = gds.run_cypher(\"\"\"\n",
    "MATCH (s:Student) RETURN s.louvainId_similarity_pos_prop, count(s) as numberOfStudents\n",
    "ORDER BY numberOfStudents DESC\n",
    "\"\"\")\n",
    "print(result)\n",
    "# print(\"Outside majority:\", (sum(result['numberOfStudents']) - result['numberOfStudents'][0]) /sum(result['numberOfStudents']))"
   ]
  },
  {
   "attachments": {},
   "cell_type": "markdown",
   "metadata": {},
   "source": [
    "## Label Propagation"
   ]
  },
  {
   "cell_type": "code",
   "execution_count": 10,
   "metadata": {},
   "outputs": [
    {
     "name": "stdout",
     "output_type": "stream",
     "text": [
      "      nodeId  communityId\n",
      "0       7483        11603\n",
      "1       7771        11603\n",
      "2       7829        11603\n",
      "3       7894        11603\n",
      "4       7957        11603\n",
      "...      ...          ...\n",
      "3034  231975        80325\n",
      "3035  232039        80325\n",
      "3036  232103        80325\n",
      "3037  232167        85138\n",
      "3038  232484        80325\n",
      "\n",
      "[3039 rows x 2 columns]\n",
      "22\n"
     ]
    }
   ],
   "source": [
    "result = gds.labelPropagation.stream(\n",
    "    G,\n",
    "    relationshipWeightProperty=\"similarity\",\n",
    ")\n",
    "print(result)\n",
    "print(len(set(result['communityId'])))"
   ]
  },
  {
   "cell_type": "code",
   "execution_count": 11,
   "metadata": {},
   "outputs": [
    {
     "data": {
      "text/plain": [
       "writeMillis                                                             23\n",
       "nodePropertiesWritten                                                 3039\n",
       "ranIterations                                                            8\n",
       "didConverge                                                           True\n",
       "communityCount                                                          22\n",
       "communityDistribution    {'p99': 1824, 'min': 1, 'max': 1824, 'mean': 1...\n",
       "postProcessingMillis                                                     4\n",
       "preProcessingMillis                                                      0\n",
       "computeMillis                                                           14\n",
       "configuration            {'maxIterations': 10, 'writeConcurrency': 4, '...\n",
       "Name: 0, dtype: object"
      ]
     },
     "execution_count": 11,
     "metadata": {},
     "output_type": "execute_result"
    }
   ],
   "source": [
    "gds.labelPropagation.write(\n",
    "    G,\n",
    "    relationshipWeightProperty=\"similarity\",\n",
    "    writeProperty=\"lpaId_similarity_pos_prop\"\n",
    ")"
   ]
  },
  {
   "cell_type": "code",
   "execution_count": 12,
   "metadata": {},
   "outputs": [
    {
     "name": "stdout",
     "output_type": "stream",
     "text": [
      "    s.lpaId_similarity_pos_prop  numberOfStudents\n",
      "0                         80325              1824\n",
      "1                         85138               671\n",
      "2                         60159               159\n",
      "3                        111535                80\n",
      "4                         11603                72\n",
      "5                        158734                67\n",
      "6                         30593                46\n",
      "7                        155998                39\n",
      "8                        162056                30\n",
      "9                        191927                19\n",
      "10                        68372                17\n",
      "11                        66667                 4\n",
      "12                        65590                 2\n",
      "13                        12611                 1\n",
      "14                        12674                 1\n",
      "15                        34091                 1\n",
      "16                        56495                 1\n",
      "17                        78912                 1\n",
      "18                       102001                 1\n",
      "19                       124000                 1\n",
      "20                       153816                 1\n",
      "21                       173151                 1\n"
     ]
    }
   ],
   "source": [
    "result = gds.run_cypher(\"\"\"\n",
    "MATCH (s:Student) RETURN s.lpaId_similarity_pos_prop, count(s) as numberOfStudents\n",
    "ORDER BY numberOfStudents DESC\n",
    "\"\"\")\n",
    "print(result)\n",
    "# print(\"Outside majority:\", (sum(result['numberOfStudents']) - result['numberOfStudents'][0]) /sum(result['numberOfStudents']))"
   ]
  },
  {
   "attachments": {},
   "cell_type": "markdown",
   "metadata": {},
   "source": [
    "## Weakly Connected Components"
   ]
  },
  {
   "cell_type": "code",
   "execution_count": 14,
   "metadata": {},
   "outputs": [
    {
     "name": "stdout",
     "output_type": "stream",
     "text": [
      "      nodeId  componentId\n",
      "0       7483            0\n",
      "1       7771            0\n",
      "2       7829            0\n",
      "3       7894            0\n",
      "4       7957            0\n",
      "...      ...          ...\n",
      "3034  231975           74\n",
      "3035  232039           74\n",
      "3036  232103           74\n",
      "3037  232167           74\n",
      "3038  232484           74\n",
      "\n",
      "[3039 rows x 2 columns]\n",
      "11\n"
     ]
    }
   ],
   "source": [
    "result = gds.wcc.stream(\n",
    "    G,\n",
    "    relationshipWeightProperty=\"similarity\",\n",
    ")\n",
    "print(result)\n",
    "print(len(set(result['componentId'])))"
   ]
  },
  {
   "cell_type": "code",
   "execution_count": 15,
   "metadata": {},
   "outputs": [
    {
     "data": {
      "text/plain": [
       "writeMillis                                                             35\n",
       "nodePropertiesWritten                                                 3039\n",
       "componentCount                                                          11\n",
       "componentDistribution    {'p99': 2958, 'min': 1, 'max': 2958, 'mean': 2...\n",
       "postProcessingMillis                                                     5\n",
       "preProcessingMillis                                                      0\n",
       "computeMillis                                                            1\n",
       "configuration            {'jobId': '1da17a33-a2c0-4c64-b177-809620a3e47...\n",
       "Name: 0, dtype: object"
      ]
     },
     "execution_count": 15,
     "metadata": {},
     "output_type": "execute_result"
    }
   ],
   "source": [
    "gds.wcc.write(\n",
    "    G,\n",
    "    relationshipWeightProperty=\"similarity\",\n",
    "    writeProperty=\"wccId_similarity_pos_prop\"\n",
    ")"
   ]
  },
  {
   "cell_type": "code",
   "execution_count": 16,
   "metadata": {},
   "outputs": [
    {
     "name": "stdout",
     "output_type": "stream",
     "text": [
      "    s.wccId_similarity_pos_prop  numberOfStudents\n",
      "0                            74              2958\n",
      "1                             0                72\n",
      "2                            70                 1\n",
      "3                            71                 1\n",
      "4                           333                 1\n",
      "5                           657                 1\n",
      "6                           936                 1\n",
      "7                          1223                 1\n",
      "8                          1528                 1\n",
      "9                          1885                 1\n",
      "10                         2177                 1\n"
     ]
    }
   ],
   "source": [
    "result = gds.run_cypher(\"\"\"\n",
    "MATCH (s:Student) RETURN s.wccId_similarity_pos_prop, count(s) as numberOfStudents\n",
    "ORDER BY numberOfStudents DESC\n",
    "\"\"\")\n",
    "print(result)\n",
    "# print(\"Outside majority:\", (sum(result['numberOfStudents']) - result['numberOfStudents'][0]) /sum(result['numberOfStudents']))"
   ]
  },
  {
   "attachments": {},
   "cell_type": "markdown",
   "metadata": {},
   "source": [
    "---\n",
    "\n",
    "# kNN Similarity"
   ]
  },
  {
   "cell_type": "code",
   "execution_count": 20,
   "metadata": {},
   "outputs": [
    {
     "name": "stdout",
     "output_type": "stream",
     "text": [
      "The projection took 32 ms\n",
      "Graph 'studentSimilarityKNN' node count: 3039\n",
      "Graph 'studentSimilarityKNN' node labels: ['Student']\n"
     ]
    }
   ],
   "source": [
    "graph_name = 'studentSimilarityKNN'\n",
    "\n",
    "if gds.graph.exists(graph_name).any():\n",
    "    gds.graph.drop(gds.graph.get(graph_name))\n",
    "\n",
    "G, result = gds.graph.project(\n",
    "    graph_name,\n",
    "    \"Student\",\n",
    "    { \"KNN_SIMILARITY_POS_PROP\": { \"properties\": \"score\" }}\n",
    ")\n",
    "\n",
    "print(f\"The projection took {result['projectMillis']} ms\")\n",
    "print(f\"Graph '{G.name()}' node count: {G.node_count()}\")\n",
    "print(f\"Graph '{G.name()}' node labels: {G.node_labels()}\")"
   ]
  }
 ],
 "metadata": {
  "kernelspec": {
   "display_name": "Python 3",
   "language": "python",
   "name": "python3"
  },
  "language_info": {
   "codemirror_mode": {
    "name": "ipython",
    "version": 3
   },
   "file_extension": ".py",
   "mimetype": "text/x-python",
   "name": "python",
   "nbconvert_exporter": "python",
   "pygments_lexer": "ipython3",
   "version": "3.10.4"
  },
  "orig_nbformat": 4
 },
 "nbformat": 4,
 "nbformat_minor": 2
}
