{
 "cells": [
  {
   "cell_type": "code",
   "execution_count": 1,
   "metadata": {},
   "outputs": [
    {
     "data": {
      "text/plain": [
       "'2.3.2'"
      ]
     },
     "execution_count": 1,
     "metadata": {},
     "output_type": "execute_result"
    }
   ],
   "source": [
    "from databaseconnection import DatabaseConnection\n",
    "gds = DatabaseConnection().get_database_connection()\n",
    "gds.version()"
   ]
  },
  {
   "cell_type": "code",
   "execution_count": 2,
   "metadata": {},
   "outputs": [
    {
     "name": "stdout",
     "output_type": "stream",
     "text": [
      "The projection took 36 ms\n",
      "Graph 'respondentQuestionAlternativeOnlyStudents' node count: 4574\n",
      "Graph 'respondentQuestionAlternativeOnlyStudents' node labels: ['Student', 'QuestionAlternative']\n"
     ]
    }
   ],
   "source": [
    "graph_name = 'respondentQuestionAlternativeOnlyStudents'\n",
    "\n",
    "if gds.graph.exists(graph_name).any():\n",
    "    gds.graph.drop(gds.graph.get(graph_name))\n",
    "\n",
    "G, result = gds.graph.project(\n",
    "    graph_name,\n",
    "    {\n",
    "        \"Student\": {},\n",
    "        \"QuestionAlternative\": { \"properties\": { \"position\": { \"defaultValue\": 0 }}}\n",
    "    },\n",
    "    \"CHOSE_ALT\"\n",
    ")\n",
    "\n",
    "print(f\"The projection took {result['projectMillis']} ms\")\n",
    "print(f\"Graph '{G.name()}' node count: {G.node_count()}\")\n",
    "print(f\"Graph '{G.name()}' node labels: {G.node_labels()}\")"
   ]
  },
  {
   "attachments": {},
   "cell_type": "markdown",
   "metadata": {},
   "source": [
    "## Community detection without embedding or relationshipweight"
   ]
  },
  {
   "cell_type": "code",
   "execution_count": 3,
   "metadata": {},
   "outputs": [
    {
     "name": "stdout",
     "output_type": "stream",
     "text": [
      "      nodeId  componentId\n",
      "0      54713            0\n",
      "1      54777            0\n",
      "2      54841            0\n",
      "3      54905            0\n",
      "4      54968            0\n",
      "...      ...          ...\n",
      "4569  231975            0\n",
      "4570  232039            0\n",
      "4571  232103            0\n",
      "4572  232167            0\n",
      "4573  232484            0\n",
      "\n",
      "[4574 rows x 2 columns]\n",
      "859\n"
     ]
    }
   ],
   "source": [
    "result = gds.wcc.stream(\n",
    "    G\n",
    ")\n",
    "print(result)\n",
    "print(len(set(result['componentId'])))"
   ]
  },
  {
   "cell_type": "code",
   "execution_count": 7,
   "metadata": {},
   "outputs": [
    {
     "data": {
      "application/vnd.jupyter.widget-view+json": {
       "model_id": "d2e934be59f746c3856884352d71216e",
       "version_major": 2,
       "version_minor": 0
      },
      "text/plain": [
       "WCC:   0%|          | 0/100 [00:00<?, ?%/s]"
      ]
     },
     "metadata": {},
     "output_type": "display_data"
    },
    {
     "data": {
      "text/plain": [
       "writeMillis                                                             37\n",
       "nodePropertiesWritten                                                 4574\n",
       "componentCount                                                         859\n",
       "componentDistribution    {'p99': 1, 'min': 1, 'max': 3302, 'mean': 5.32...\n",
       "postProcessingMillis                                                     3\n",
       "preProcessingMillis                                                      0\n",
       "computeMillis                                                            3\n",
       "configuration            {'jobId': '73b40afe-db0a-479d-83a8-0fb668144ab...\n",
       "Name: 0, dtype: object"
      ]
     },
     "execution_count": 7,
     "metadata": {},
     "output_type": "execute_result"
    }
   ],
   "source": [
    "gds.wcc.write(\n",
    "    G,\n",
    "    writeProperty=\"wccId_pos_prop\"\n",
    ")"
   ]
  },
  {
   "cell_type": "code",
   "execution_count": 11,
   "metadata": {},
   "outputs": [
    {
     "name": "stdout",
     "output_type": "stream",
     "text": [
      "    s.wccId_pos_prop  numberOfStudents\n",
      "0                  0              2958\n",
      "1                700                72\n",
      "2               1471                 1\n",
      "3               1472                 1\n",
      "4               2568                 1\n",
      "5                 28                 1\n",
      "6                307                 1\n",
      "7                594                 1\n",
      "8               3063                 1\n",
      "9               3420                 1\n",
      "10              3712                 1\n"
     ]
    }
   ],
   "source": [
    "result = gds.run_cypher(\"\"\"\n",
    "MATCH (s:Student) RETURN s.wccId_pos_prop, count(s) as numberOfStudents\n",
    "ORDER BY numberOfStudents DESC\n",
    "\"\"\")\n",
    "print(result)\n",
    "# print(\"Outside majority:\", (sum(result['numberOfStudents']) - result['numberOfStudents'][0]) /sum(result['numberOfStudents']))"
   ]
  },
  {
   "cell_type": "code",
   "execution_count": 8,
   "metadata": {},
   "outputs": [
    {
     "data": {
      "application/vnd.jupyter.widget-view+json": {
       "model_id": "d9b1459440764f4d94cf399b6b8d99e9",
       "version_major": 2,
       "version_minor": 0
      },
      "text/plain": [
       "Louvain:   0%|          | 0/100 [00:00<?, ?%/s]"
      ]
     },
     "metadata": {},
     "output_type": "display_data"
    },
    {
     "name": "stdout",
     "output_type": "stream",
     "text": [
      "      nodeId  communityId intermediateCommunityIds\n",
      "0      54713         1513                     None\n",
      "1      54777         1513                     None\n",
      "2      54841         1513                     None\n",
      "3      54905         1513                     None\n",
      "4      54968         1491                     None\n",
      "...      ...          ...                      ...\n",
      "4569  231975         1513                     None\n",
      "4570  232039         1513                     None\n",
      "4571  232103         1513                     None\n",
      "4572  232167         1513                     None\n",
      "4573  232484         1513                     None\n",
      "\n",
      "[4574 rows x 3 columns]\n",
      "1544\n"
     ]
    }
   ],
   "source": [
    "result = gds.louvain.stream(\n",
    "    G\n",
    ")\n",
    "print(result)\n",
    "print(len(set(result['communityId'])))"
   ]
  },
  {
   "cell_type": "code",
   "execution_count": 9,
   "metadata": {},
   "outputs": [
    {
     "data": {
      "text/plain": [
       "writeMillis                                                             52\n",
       "nodePropertiesWritten                                                 4574\n",
       "modularity                                                       -0.483367\n",
       "modularities                                        [-0.48336661574468154]\n",
       "ranLevels                                                                1\n",
       "communityCount                                                        1544\n",
       "communityDistribution    {'p99': 4, 'min': 1, 'max': 2098, 'mean': 2.96...\n",
       "postProcessingMillis                                                     2\n",
       "preProcessingMillis                                                      0\n",
       "computeMillis                                                           91\n",
       "configuration            {'maxIterations': 10, 'writeConcurrency': 4, '...\n",
       "Name: 0, dtype: object"
      ]
     },
     "execution_count": 9,
     "metadata": {},
     "output_type": "execute_result"
    }
   ],
   "source": [
    "gds.louvain.write(\n",
    "    G,\n",
    "    writeProperty=\"louvainId_pos_prop\"\n",
    ")"
   ]
  },
  {
   "cell_type": "code",
   "execution_count": 10,
   "metadata": {},
   "outputs": [
    {
     "name": "stdout",
     "output_type": "stream",
     "text": [
      "    s.louvainId_pos_prop  numberOfStudents\n",
      "0                   1513              2097\n",
      "1                   1512               276\n",
      "2                   1491               271\n",
      "3                   1514               167\n",
      "4                   1515                54\n",
      "5                    718                24\n",
      "6                   1510                24\n",
      "7                    715                23\n",
      "8                   1511                22\n",
      "9                   1507                14\n",
      "10                  1516                12\n",
      "11                   720                 6\n",
      "12                   709                 5\n",
      "13                   719                 4\n",
      "14                  1503                 4\n",
      "15                   710                 3\n",
      "16                   711                 3\n",
      "17                  1502                 2\n",
      "18                  2103                 2\n",
      "19                   722                 1\n",
      "20                   702                 1\n",
      "21                   714                 1\n",
      "22                   703                 1\n",
      "23                  1471                 1\n",
      "24                  1472                 1\n",
      "25                  1490                 1\n",
      "26                  1504                 1\n",
      "27                  1517                 1\n",
      "28                  2568                 1\n",
      "29                  2099                 1\n",
      "30                  1519                 1\n",
      "31                    28                 1\n",
      "32                  1554                 1\n",
      "33                  1526                 1\n",
      "34                   307                 1\n",
      "35                  1527                 1\n",
      "36                  1557                 1\n",
      "37                   594                 1\n",
      "38                  1529                 1\n",
      "39                  3063                 1\n",
      "40                  1518                 1\n",
      "41                  3420                 1\n",
      "42                  3712                 1\n",
      "43                  1508                 1\n",
      "44                  1978                 1\n"
     ]
    }
   ],
   "source": [
    "result = gds.run_cypher(\"\"\"\n",
    "MATCH (s:Student) RETURN s.louvainId_pos_prop, count(s) as numberOfStudents\n",
    "ORDER BY numberOfStudents DESC\n",
    "\"\"\")\n",
    "print(result)\n",
    "# print(\"Outside majority:\", (sum(result['numberOfStudents']) - result['numberOfStudents'][0]) /sum(result['numberOfStudents']))"
   ]
  },
  {
   "cell_type": "code",
   "execution_count": 5,
   "metadata": {},
   "outputs": [
    {
     "name": "stdout",
     "output_type": "stream",
     "text": [
      "      nodeId  communityId\n",
      "0      54713        13086\n",
      "1      54777        13086\n",
      "2      54841        13085\n",
      "3      54905        13086\n",
      "4      54968        13085\n",
      "...      ...          ...\n",
      "4569  231975        13086\n",
      "4570  232039        13086\n",
      "4571  232103        13086\n",
      "4572  232167        13086\n",
      "4573  232484        13086\n",
      "\n",
      "[4574 rows x 2 columns]\n",
      "1544\n"
     ]
    }
   ],
   "source": [
    "result = gds.labelPropagation.stream(\n",
    "    G\n",
    ")\n",
    "print(result)\n",
    "print(len(set(result['communityId'])))"
   ]
  },
  {
   "cell_type": "code",
   "execution_count": 13,
   "metadata": {},
   "outputs": [
    {
     "data": {
      "text/plain": [
       "writeMillis                                                             30\n",
       "nodePropertiesWritten                                                 4574\n",
       "ranIterations                                                            2\n",
       "didConverge                                                           True\n",
       "communityCount                                                        1544\n",
       "communityDistribution    {'p99': 5, 'min': 1, 'max': 2097, 'mean': 2.96...\n",
       "postProcessingMillis                                                     5\n",
       "preProcessingMillis                                                      0\n",
       "computeMillis                                                           17\n",
       "configuration            {'jobId': '87b4f3d5-5f46-4899-ab2f-7e9aa981ca1...\n",
       "Name: 0, dtype: object"
      ]
     },
     "execution_count": 13,
     "metadata": {},
     "output_type": "execute_result"
    }
   ],
   "source": [
    "gds.labelPropagation.write(\n",
    "    G,\n",
    "    writeProperty=\"lpaId_pos_prop\",\n",
    ")"
   ]
  },
  {
   "cell_type": "code",
   "execution_count": 14,
   "metadata": {},
   "outputs": [
    {
     "name": "stdout",
     "output_type": "stream",
     "text": [
      "    s.lpaId_pos_prop  numberOfStudents\n",
      "0              13086              2096\n",
      "1              13085               308\n",
      "2              13083               154\n",
      "3              13080               106\n",
      "4              13081                96\n",
      "5              13082                48\n",
      "6              13102                36\n",
      "7              13107                32\n",
      "8              13106                27\n",
      "9              13103                26\n",
      "10              6965                24\n",
      "11             13104                24\n",
      "12              6966                18\n",
      "13              6973                12\n",
      "14              6978                 9\n",
      "15              6985                 4\n",
      "16              6977                 2\n",
      "17             13110                 2\n",
      "18              6967                 1\n",
      "19              6987                 1\n",
      "20              6968                 1\n",
      "21             12611                 1\n",
      "22             12674                 1\n",
      "23             34091                 1\n",
      "24             56495                 1\n",
      "25             13905                 1\n",
      "26             78912                 1\n",
      "27            102001                 1\n",
      "28            124000                 1\n",
      "29            153816                 1\n",
      "30            173151                 1\n",
      "31             13109                 1\n",
      "32             13750                 1\n"
     ]
    }
   ],
   "source": [
    "result = gds.run_cypher(\"\"\"\n",
    "MATCH (s:Student) RETURN s.lpaId_pos_prop, count(s) as numberOfStudents\n",
    "ORDER BY numberOfStudents DESC\n",
    "\"\"\")\n",
    "print(result)\n",
    "# print(\"Outside majority:\", (sum(result['numberOfStudents']) - result['numberOfStudents'][0]) /sum(result['numberOfStudents']))"
   ]
  },
  {
   "attachments": {},
   "cell_type": "markdown",
   "metadata": {},
   "source": [
    "## FastRP"
   ]
  },
  {
   "cell_type": "code",
   "execution_count": 6,
   "metadata": {},
   "outputs": [
    {
     "name": "stdout",
     "output_type": "stream",
     "text": [
      "Number of embedding vectors produced: 4574\n"
     ]
    }
   ],
   "source": [
    "result = gds.fastRP.mutate(\n",
    "    G,\n",
    "    mutateProperty='embedding',\n",
    "    randomSeed=42,\n",
    "    embeddingDimension=128,\n",
    "    iterationWeights=[0.8, 1, 1, 1, 1]\n",
    ")\n",
    "print(f\"Number of embedding vectors produced: {result['nodePropertiesWritten']}\")"
   ]
  }
 ],
 "metadata": {
  "kernelspec": {
   "display_name": "Python 3",
   "language": "python",
   "name": "python3"
  },
  "language_info": {
   "codemirror_mode": {
    "name": "ipython",
    "version": 3
   },
   "file_extension": ".py",
   "mimetype": "text/x-python",
   "name": "python",
   "nbconvert_exporter": "python",
   "pygments_lexer": "ipython3",
   "version": "3.10.4"
  },
  "orig_nbformat": 4
 },
 "nbformat": 4,
 "nbformat_minor": 2
}
